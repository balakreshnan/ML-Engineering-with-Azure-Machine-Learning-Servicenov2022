{
 "cells": [
  {
   "cell_type": "markdown",
   "id": "81b889dd",
   "metadata": {},
   "source": [
    "# Deploy Model to online endpoint with CLI V2\n",
    "\n",
    "- Create the 3 scripts required for Model Deployment through the CLI V2 SDK\n"
   ]
  },
  {
   "cell_type": "code",
   "execution_count": 12,
   "id": "190b8a35",
   "metadata": {},
   "outputs": [
    {
     "name": "stdout",
     "output_type": "stream",
     "text": [
      "CLI_V2_ManagedOnlineEndpoint folder created\n"
     ]
    }
   ],
   "source": [
    "import os\n",
    "\n",
    "# Create a folder for the experiment files\n",
    "script_folder = 'CLI_V2_ManagedOnlineEndpoint'\n",
    "os.makedirs(script_folder, exist_ok=True)\n",
    "print(script_folder, 'folder created')"
   ]
  },
  {
   "cell_type": "code",
   "execution_count": null,
   "id": "3d5c0afb",
   "metadata": {},
   "outputs": [],
   "source": [
    "# Creating a unique endpoint name with current datetime to avoid conflicts\n",
    "import datetime\n",
    "\n",
    "online_endpoint_name = \"endpoint-\" + datetime.datetime.now().strftime(\"%m%d%H%M%f\")\n",
    "\n",
    "# create an online endpoint\n",
    "endpoint = ManagedOnlineEndpoint(\n",
    "    name=online_endpoint_name,\n",
    "    description=\"titanic online endpoint for mlflow model\",\n",
    "    auth_mode=\"key\",\n",
    "    tags={\"oneline endpoint\": \"titanic\"},\n",
    ")"
   ]
  },
  {
   "cell_type": "code",
   "execution_count": 6,
   "id": "b293b3e4",
   "metadata": {},
   "outputs": [
    {
     "name": "stdout",
     "output_type": "stream",
     "text": [
      "Writing CLI_V2_ManagedOnlineEndpoint/endpoint.yml\n"
     ]
    }
   ],
   "source": [
    "%%writefile $script_folder/endpoint.yml\n",
    "$schema: https://azuremlschemas.azureedge.net/latest/managedOnlineEndpoint.schema.json\n",
    "name: titanic-managed-online-endpoint\n",
    "description: \"CLI V2 titanic online endpoint for mlflow model\"\n",
    "auth_mode: key\n",
    "tags : {\"CLIV2\": \"titanic\"}"
   ]
  },
  {
   "cell_type": "code",
   "execution_count": null,
   "id": "c8b7ff6c",
   "metadata": {},
   "outputs": [],
   "source": [
    "%%writefile $script_folder/deployment.yml\n",
    "\n",
    "$schema: https://azuremlschemas.azureedge.net/latest/managedOnlineDeployment.schema.json\n",
    "name: blue\n",
    "endpoint_name: titanic-managed-online-endpoint\n",
    "model: azureml:chapter6_titanic_model:1\n",
    "code_configuration:\n",
    "  code: \n",
    "    local_path: .\n",
    "  scoring_script: score.py\n",
    "environment: azureml:job_base_env:1\n",
    "instance_type: Standard_F2s_v2\n",
    "instance_count: 1"
   ]
  },
  {
   "cell_type": "code",
   "execution_count": null,
   "id": "76d87cd9",
   "metadata": {},
   "outputs": [],
   "source": [
    "%%writefile $script_folder/score.py\n",
    "\n",
    "import os \n",
    "import json\n",
    "import joblib\n",
    "from pandas import json_normalize\n",
    "import pandas as pd\n",
    "\n",
    "# Called when the service is loaded\n",
    "def init():\n",
    "    global model\n",
    "    # Get the path to the deployed model file and load it\n",
    "    model_path = os.path.join(os.getenv('AZUREML_MODEL_DIR'), 'titanic_model.pkl')\n",
    "    model = joblib.load(model_path)\n",
    "\n",
    "# Called when a request is received\n",
    "def run(raw_data):\n",
    "    dict= json.loads(raw_data)\n",
    "    df = json_normalize(dict['raw_data']) \n",
    "    y_pred = model.predict(df)\n",
    "    print(type(y_pred))\n",
    "    \n",
    "    result = {\"result\": y_pred.tolist()}\n",
    "    return result"
   ]
  }
 ],
 "metadata": {
  "kernelspec": {
   "display_name": "Python 3.8 - AzureML",
   "language": "python",
   "name": "python38-azureml"
  },
  "language_info": {
   "codemirror_mode": {
    "name": "ipython",
    "version": 3
   },
   "file_extension": ".py",
   "mimetype": "text/x-python",
   "name": "python",
   "nbconvert_exporter": "python",
   "pygments_lexer": "ipython3",
   "version": "3.8.13"
  }
 },
 "nbformat": 4,
 "nbformat_minor": 5
}
