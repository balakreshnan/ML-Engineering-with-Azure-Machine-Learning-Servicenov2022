{
  "cells": [
    {
      "cell_type": "markdown",
      "source": [
        "# Chapter 4 - Hyperparameter Tuning\n",
        "\n",
        "## In this notebook we will:\n",
        "\n",
        "  - Connect to your workspace.\n",
        "  - Create a virtual environment and leverage in this notebook\n",
        "  - Explore the dataset\n",
        "  - Data cleansing and analysis work\n",
        "  - Feature Engineering\n",
        "  - Register the cleansed data\n",
        "  - Explore leveraging an MLTable\n",
        "  - Run a job that leverages\n",
        "    - sklearn pipeline for data transformation\n",
        "    - `mlflow.autolog` for capturing *training* and *test* metrics\n",
        "    - log additional metrics to a given job run\n",
        "  - download and use a model that is created as a result of the job\n",
        "  - Use `Sweep` to search for the best hyperparamers for a model"
      ],
      "metadata": {}
    },
    {
      "cell_type": "markdown",
      "source": [
        "## Setting yourself up for success\n",
        "\n",
        "- When creating a model, one of the major obstacles is having an environment that has the required dependencies.  We will create and register an AML environment and use on our compute instance.  This will allow us to leverage the model we build on a compute cluster on our compute instance.  The same packages and versions leveraged to build the model will be used to consume the model later in this notebook\n",
        "\n",
        "Steps to setup our environment include:\n",
        "- Connecting to our workspace\n",
        "- Defining and registering the environment\n",
        "- Making the environment available to our compute instance \n",
        "- Making the environment available to our jupyter notebook\n",
        "\n",
        "- Let's get started"
      ],
      "metadata": {}
    },
    {
      "cell_type": "code",
      "source": [
        "import azure.ai.ml\n",
        "print(azure.ai.ml._version.VERSION)"
      ],
      "outputs": [
        {
          "output_type": "stream",
          "name": "stdout",
          "text": "0.1.0b6\n"
        }
      ],
      "execution_count": 24,
      "metadata": {}
    },
    {
      "cell_type": "code",
      "source": [
        "#import required libraries\n",
        "import pandas as pd\n",
        "import matplotlib.pyplot as plt\n",
        "from azure.ai.ml import MLClient\n",
        "from azure.identity import DefaultAzureCredential, InteractiveBrowserCredential\n",
        "from azure.ai.ml.entities import Environment, BuildContext"
      ],
      "outputs": [],
      "execution_count": 25,
      "metadata": {}
    },
    {
      "cell_type": "code",
      "source": [
        "subscription_id = '5da07161-3770-4a4b-aa43-418cbbb627cf'\n",
        "resource_group = 'aml-workspace-rg'\n",
        "workspace = 'aml-workspace'"
      ],
      "outputs": [],
      "execution_count": 26,
      "metadata": {}
    },
    {
      "cell_type": "markdown",
      "source": [
        "## Connecting to your workspace\n",
        "\n",
        "Once you connect to your workspace, you will create a new cpu target which you will provide an environment to.\n",
        "\n",
        "- Configure your credential.  We are using `DefaultAzureCredential`.  It will request a token using multiple identities, stopping once a token is found"
      ],
      "metadata": {}
    },
    {
      "cell_type": "code",
      "source": [
        "try:\n",
        "    credential = DefaultAzureCredential()\n",
        "    # Check if given credential can get token successfully.\n",
        "    credential.get_token(\"https://management.azure.com/.default\")\n",
        "except Exception as ex:\n",
        "    # Fall back to InteractiveBrowserCredential in case DefaultAzureCredential not work\n",
        "    # This will open a browser page for\n",
        "    credential = InteractiveBrowserCredential()"
      ],
      "outputs": [],
      "execution_count": 27,
      "metadata": {}
    },
    {
      "cell_type": "code",
      "source": [
        "#connect to the workspace\n",
        "try:\n",
        "    ml_client = MLClient.from_config(credential=credential)\n",
        "except Exception as ex:\n",
        "    # NOTE: Update following workspace information if not correctly configure before\n",
        "    client_config = {\n",
        "        \"subscription_id\": subscription_id,\n",
        "        \"resource_group\": resource_group,\n",
        "        \"workspace_name\": workspace,\n",
        "    }\n",
        "\n",
        "    if client_config[\"subscription_id\"].startswith(\"<\"):\n",
        "        print(\n",
        "            \"please update your <SUBSCRIPTION_ID> <RESOURCE_GROUP> <AML_WORKSPACE_NAME> in notebook cell\"\n",
        "        )\n",
        "        raise ex\n",
        "    else:  # write and reload from config file\n",
        "        import json, os\n",
        "\n",
        "        config_path = \"../.azureml/config.json\"\n",
        "        os.makedirs(os.path.dirname(config_path), exist_ok=True)\n",
        "        with open(config_path, \"w\") as fo:\n",
        "            fo.write(json.dumps(client_config))\n",
        "        ml_client = MLClient.from_config(credential=credential, path=config_path)\n",
        "print(ml_client)"
      ],
      "outputs": [
        {
          "output_type": "stream",
          "name": "stderr",
          "text": "Found the config file in: /mnt/batch/tasks/shared/LS_root/mounts/clusters/memasanz1/code/Users/memasanz/.azureml/config.json\n"
        },
        {
          "output_type": "stream",
          "name": "stdout",
          "text": "MLClient(credential=<azure.identity._credentials.default.DefaultAzureCredential object at 0x7f251af27100>,\n         subscription_id=5da07161-3770-4a4b-aa43-418cbbb627cf,\n         resource_group_name=aml-workspace-rg,\n         workspace_name=aml-workspace)\n"
        }
      ],
      "execution_count": 28,
      "metadata": {}
    },
    {
      "cell_type": "markdown",
      "source": [
        "## Setup enviroment\n",
        "\n",
        "### Creating environment from docker image with a conda YAML\n",
        "\n",
        "Azure ML allows you to leverage curated environments, as well as to build your own environment from:\n",
        "\n",
        "    - existing docker image\n",
        "    - base docker image with a conda yml file to customize\n",
        "    - a docker build content\n",
        "    \n",
        "We will proceed with creating an environment from a docker build plus a conda yml file."
      ],
      "metadata": {}
    },
    {
      "cell_type": "code",
      "source": [
        "import os\n",
        "script_folder = os.path.join(os.getcwd(), \"conda-yamls\")\n",
        "print(script_folder)\n",
        "os.makedirs(script_folder, exist_ok=True)"
      ],
      "outputs": [
        {
          "output_type": "stream",
          "name": "stdout",
          "text": "/mnt/batch/tasks/shared/LS_root/mounts/clusters/memasanz1/code/Users/memasanz/ML-Engineering-with-Azure-Machine-Learning-Service/Chapter4/conda-yamls\n"
        }
      ],
      "execution_count": 29,
      "metadata": {}
    },
    {
      "cell_type": "markdown",
      "source": [
        "### Create job environment in a yml file"
      ],
      "metadata": {}
    },
    {
      "cell_type": "code",
      "source": [
        "%%writefile $script_folder/job_env.yml\n",
        "name: job_env\n",
        "dependencies:\n",
        "  # The python interpreter version.\n",
        "  # Currently Azure ML only supports 3.5.2 and later.\n",
        "- python=3.8.5\n",
        "- scikit-learn\n",
        "- ipykernel\n",
        "- matplotlib\n",
        "- pandas\n",
        "- pip\n",
        "- pip:\n",
        "  - azureml-defaults\n",
        "  - pyarrow\n",
        "  - azureml-mlflow==1.43.0.post1\n",
        "  - azure-ai-ml\n",
        "  - mltable"
      ],
      "outputs": [
        {
          "output_type": "stream",
          "name": "stdout",
          "text": "Overwriting /mnt/batch/tasks/shared/LS_root/mounts/clusters/memasanz1/code/Users/memasanz/ML-Engineering-with-Azure-Machine-Learning-Service/Chapter4/conda-yamls/job_env.yml\n"
        }
      ],
      "execution_count": 30,
      "metadata": {}
    },
    {
      "cell_type": "markdown",
      "source": [
        "### Getting the most current and up-to-date base image\n",
        "\n",
        "Default images are always changing.  \n",
        "Note the base image is defined in the property `image` below.  These images are defined at [https://hub.docker.com/_/microsoft-azureml](https://hub.docker.com/_/microsoft-azureml)\n",
        "\n",
        "The current image we have selected for this notebook is `mcr.microsoft.com/azureml/openmpi3.1.2-ubuntu18.04`, but based on image availability, that will change in the future.  In additon, note the python version specified in your conda environment file is `python=3.8.5`, as this will evolve over time as well.  Currently `MLTable` is not available in python 3.10, but as that changes, we encourage you to update python version as well."
      ],
      "metadata": {}
    },
    {
      "cell_type": "code",
      "source": [
        "env_docker_conda = Environment(\n",
        "    image=\"mcr.microsoft.com/azureml/openmpi3.1.2-ubuntu18.04\",\n",
        "    conda_file=\"conda-yamls/job_env.yml\",\n",
        "    name=\"job_base_env\",\n",
        "    description=\"Environment created from a Docker image plus Conda environment.\",\n",
        ")\n",
        "ml_client.environments.create_or_update(env_docker_conda)"
      ],
      "outputs": [
        {
          "output_type": "execute_result",
          "execution_count": 31,
          "data": {
            "text/plain": "Environment({'is_anonymous': False, 'auto_increment_version': False, 'name': 'job_base_env', 'description': 'Environment created from a Docker image plus Conda environment.', 'tags': {}, 'properties': {}, 'id': '/subscriptions/5da07161-3770-4a4b-aa43-418cbbb627cf/resourceGroups/aml-workspace-rg/providers/Microsoft.MachineLearningServices/workspaces/aml-workspace/environments/job_base_env/versions/2022-08-27-21-59-07-0584736', 'Resource__source_path': None, 'base_path': '/mnt/batch/tasks/shared/LS_root/mounts/clusters/memasanz1/code/Users/memasanz/ML-Engineering-with-Azure-Machine-Learning-Service/Chapter4', 'creation_context': <azure.ai.ml._restclient.v2022_05_01.models._models_py3.SystemData object at 0x7f251b94e3a0>, 'serialize': <msrest.serialization.Serializer object at 0x7f251b9c7370>, 'version': '2022-08-27-21-59-07-0584736', 'latest_version': None, 'conda_file': {'dependencies': ['python=3.8.5', 'scikit-learn', 'ipykernel', 'matplotlib', 'pandas', 'pip', {'pip': ['azureml-defaults', 'pyarrow', 'azureml-mlflow==1.43.0.post1', 'azure-ai-ml', 'mltable']}], 'name': 'job_env'}, 'image': 'mcr.microsoft.com/azureml/openmpi3.1.2-ubuntu18.04', 'build': None, 'inference_config': None, 'os_type': 'Linux', 'arm_type': 'environment_version', 'conda_file_path': None, 'path': None, 'upload_hash': None, 'translated_conda_file': None})"
          },
          "metadata": {}
        }
      ],
      "execution_count": 31,
      "metadata": {}
    },
    {
      "cell_type": "markdown",
      "source": [
        "### Use your virtual environment in this notebook\n",
        "\n",
        "We can actually use that virtual environment on our compute instance and in this very jupyter notebook.\n",
        "Open a terminal session, and cd into your conda-yamls folder and run the following commands:\n",
        "\n",
        "```\n",
        "conda env create -f job_env.yml\n",
        "conda activate job_env\n",
        "ipython kernel install --user --name job_env --display-name \"job_env\"\n",
        "```\n",
        "* After the environment has been made available to Jupter, Refresh this session (F5, or Hit refresh on your browser)\n",
        "\n",
        "When you go to your `Kernel` -> `Change Kernel`, it will be available to select.  You will have to rerun the notebook, but when you download the model, you will be using all of the correct versions of libraries."
      ],
      "metadata": {}
    },
    {
      "cell_type": "markdown",
      "source": [
        "# Explore Dataset\n",
        "\n",
        "You're going to use a Python script to train a machine learning model based on the Titanic datset found in your data folder.  "
      ],
      "metadata": {}
    },
    {
      "cell_type": "code",
      "source": [
        "df= pd.read_csv('./data/titanic.csv')\n",
        "print(df.shape)\n",
        "print(df.columns)"
      ],
      "outputs": [
        {
          "output_type": "stream",
          "name": "stdout",
          "text": "(891, 12)\nIndex(['PassengerId', 'Survived', 'Pclass', 'Name', 'Sex', 'Age', 'SibSp',\n       'Parch', 'Ticket', 'Fare', 'Cabin', 'Embarked'],\n      dtype='object')\n"
        }
      ],
      "execution_count": 32,
      "metadata": {}
    },
    {
      "cell_type": "markdown",
      "source": [
        "## View Data"
      ],
      "metadata": {}
    },
    {
      "cell_type": "code",
      "source": [
        "df.head(5)"
      ],
      "outputs": [
        {
          "output_type": "execute_result",
          "execution_count": 33,
          "data": {
            "text/html": "<div>\n<style scoped>\n    .dataframe tbody tr th:only-of-type {\n        vertical-align: middle;\n    }\n\n    .dataframe tbody tr th {\n        vertical-align: top;\n    }\n\n    .dataframe thead th {\n        text-align: right;\n    }\n</style>\n<table border=\"1\" class=\"dataframe\">\n  <thead>\n    <tr style=\"text-align: right;\">\n      <th></th>\n      <th>PassengerId</th>\n      <th>Survived</th>\n      <th>Pclass</th>\n      <th>Name</th>\n      <th>Sex</th>\n      <th>Age</th>\n      <th>SibSp</th>\n      <th>Parch</th>\n      <th>Ticket</th>\n      <th>Fare</th>\n      <th>Cabin</th>\n      <th>Embarked</th>\n    </tr>\n  </thead>\n  <tbody>\n    <tr>\n      <th>0</th>\n      <td>1</td>\n      <td>0</td>\n      <td>3</td>\n      <td>Braund, Mr. Owen Harris</td>\n      <td>male</td>\n      <td>22.0</td>\n      <td>1</td>\n      <td>0</td>\n      <td>A/5 21171</td>\n      <td>7.2500</td>\n      <td>NaN</td>\n      <td>S</td>\n    </tr>\n    <tr>\n      <th>1</th>\n      <td>2</td>\n      <td>1</td>\n      <td>1</td>\n      <td>Cumings, Mrs. John Bradley (Florence Briggs Th...</td>\n      <td>female</td>\n      <td>38.0</td>\n      <td>1</td>\n      <td>0</td>\n      <td>PC 17599</td>\n      <td>71.2833</td>\n      <td>C85</td>\n      <td>C</td>\n    </tr>\n    <tr>\n      <th>2</th>\n      <td>3</td>\n      <td>1</td>\n      <td>3</td>\n      <td>Heikkinen, Miss. Laina</td>\n      <td>female</td>\n      <td>26.0</td>\n      <td>0</td>\n      <td>0</td>\n      <td>STON/O2. 3101282</td>\n      <td>7.9250</td>\n      <td>NaN</td>\n      <td>S</td>\n    </tr>\n    <tr>\n      <th>3</th>\n      <td>4</td>\n      <td>1</td>\n      <td>1</td>\n      <td>Futrelle, Mrs. Jacques Heath (Lily May Peel)</td>\n      <td>female</td>\n      <td>35.0</td>\n      <td>1</td>\n      <td>0</td>\n      <td>113803</td>\n      <td>53.1000</td>\n      <td>C123</td>\n      <td>S</td>\n    </tr>\n    <tr>\n      <th>4</th>\n      <td>5</td>\n      <td>0</td>\n      <td>3</td>\n      <td>Allen, Mr. William Henry</td>\n      <td>male</td>\n      <td>35.0</td>\n      <td>0</td>\n      <td>0</td>\n      <td>373450</td>\n      <td>8.0500</td>\n      <td>NaN</td>\n      <td>S</td>\n    </tr>\n  </tbody>\n</table>\n</div>",
            "text/plain": "   PassengerId  Survived  Pclass  \\\n0            1         0       3   \n1            2         1       1   \n2            3         1       3   \n3            4         1       1   \n4            5         0       3   \n\n                                                Name     Sex   Age  SibSp  \\\n0                            Braund, Mr. Owen Harris    male  22.0      1   \n1  Cumings, Mrs. John Bradley (Florence Briggs Th...  female  38.0      1   \n2                             Heikkinen, Miss. Laina  female  26.0      0   \n3       Futrelle, Mrs. Jacques Heath (Lily May Peel)  female  35.0      1   \n4                           Allen, Mr. William Henry    male  35.0      0   \n\n   Parch            Ticket     Fare Cabin Embarked  \n0      0         A/5 21171   7.2500   NaN        S  \n1      0          PC 17599  71.2833   C85        C  \n2      0  STON/O2. 3101282   7.9250   NaN        S  \n3      0            113803  53.1000  C123        S  \n4      0            373450   8.0500   NaN        S  "
          },
          "metadata": {}
        }
      ],
      "execution_count": 33,
      "metadata": {}
    },
    {
      "cell_type": "markdown",
      "source": [
        "### Dataset field information\n",
        "\n",
        "- **PassengerId**: (remove) Should be removed from model as they are some sort of id.\n",
        "- **Pclass**: (keep) locates folks on ship *Pclass: 1st = Upper, 2nd = Middle, 3rd = Lower*\n",
        "- **Name**: (remove) maybe found useful if keeping the surname, but for basic model will remove\n",
        "- **Sex**: (keep) due to lifeboat priority, will likely be useful\n",
        "- **Age**: (keep)important due to lifeboat priority\n",
        "- **SibSp**: (keep) maybe useful, relatives will likely help others\n",
        "- **Parch**: (keep) maybe useful, relatives will likely help others\n",
        "- **Ticket**: (remove)\n",
        "- **Fare**: (remove covered by class)\n",
        "- **Cabin**: (keep) can be useful in relation of where the cabins are positioned on the ship\n",
        "- **Embarked**: (keep) useful because all listed embark happened before the disaster"
      ],
      "metadata": {}
    },
    {
      "cell_type": "markdown",
      "source": [
        "# Data Engineering\n",
        "\n",
        "## Data Cleansing\n",
        "\n",
        "We will begin by evaluating the null values in the dataset.  Note that Age, Fare and Cabin contain null values in the dataset."
      ],
      "metadata": {}
    },
    {
      "cell_type": "code",
      "source": [
        "df.isnull().sum()"
      ],
      "outputs": [
        {
          "output_type": "execute_result",
          "execution_count": 34,
          "data": {
            "text/plain": "PassengerId      0\nSurvived         0\nPclass           0\nName             0\nSex              0\nAge            177\nSibSp            0\nParch            0\nTicket           0\nFare             0\nCabin          687\nEmbarked         2\ndtype: int64"
          },
          "metadata": {}
        }
      ],
      "execution_count": 34,
      "metadata": {}
    },
    {
      "cell_type": "code",
      "source": [
        "columns_missing = df.isna().sum().where(lambda x : x > 0).dropna()\n",
        "\n",
        "ax = columns_missing \\\n",
        ".plot(kind='bar', alpha=0.9, title='Columns Missing Values', table=True)\n",
        "ax.xaxis.set_visible(False) # hide x axis labels\n",
        "\n",
        "for x in ax.patches:\n",
        "    ax.text(x.get_x()+.1, x.get_height()+5, \\\n",
        "            str(round((x.get_height()/df.shape[0])*100, 1))+'%')\n",
        "plt.show()"
      ],
      "outputs": [
        {
          "output_type": "display_data",
          "data": {
            "image/png": "[encoded data removed]",
            "text/plain": "<Figure size 432x288 with 1 Axes>"
          },
          "metadata": {
            "needs_background": "light"
          }
        }
      ],
      "execution_count": 35,
      "metadata": {}
    },
    {
      "cell_type": "markdown",
      "source": [
        "## Prepare data for an experiment\n",
        "In the previous notebook, the data was leveraged directly from the folder on the compute instance.  We will be submitting an experiment to a compute cluster, so we will register the dataset so it will be stored in the blob storage associated with the AML workspace\n",
        "\n",
        "### Stategy:\n",
        "\n",
        "- For the Age, we will replace the missing values with the medians of each group\n",
        "- For cabin we will mark it as X given this is probably an important feature that we would want to include.\n",
        "- For Embarked,given there are only 2 rows missing this value, we will set these to a value of S"
      ],
      "metadata": {}
    },
    {
      "cell_type": "markdown",
      "source": [
        "## Cleaning Age Column\n",
        "\n",
        "Note that Age, a column that has missing data, will likely be impacted by class, as people are more established,their age will likely increase, so to replace these values, we will group by class and sex, calculate a median value and replace the na values in the dataset with the mean"
      ],
      "metadata": {}
    },
    {
      "cell_type": "code",
      "source": [
        "display(df.groupby(['Pclass', 'Sex'])['Age'].count())\n",
        "\n",
        "display(df.groupby(['Pclass', 'Sex'])['Age'].median())"
      ],
      "outputs": [
        {
          "output_type": "display_data",
          "data": {
            "text/plain": "Pclass  Sex   \n1       female     85\n        male      101\n2       female     74\n        male       99\n3       female    102\n        male      253\nName: Age, dtype: int64"
          },
          "metadata": {}
        },
        {
          "output_type": "display_data",
          "data": {
            "text/plain": "Pclass  Sex   \n1       female    35.0\n        male      40.0\n2       female    28.0\n        male      30.0\n3       female    21.5\n        male      25.0\nName: Age, dtype: float64"
          },
          "metadata": {}
        }
      ],
      "execution_count": 36,
      "metadata": {}
    },
    {
      "cell_type": "code",
      "source": [
        "df['Age'] = df.groupby(['Pclass', 'Sex'])['Age'].apply(lambda x: x.fillna(x.median()))\n",
        "df.isnull().sum()"
      ],
      "outputs": [
        {
          "output_type": "execute_result",
          "execution_count": 37,
          "data": {
            "text/plain": "PassengerId      0\nSurvived         0\nPclass           0\nName             0\nSex              0\nAge              0\nSibSp            0\nParch            0\nTicket           0\nFare             0\nCabin          687\nEmbarked         2\ndtype: int64"
          },
          "metadata": {}
        }
      ],
      "execution_count": 37,
      "metadata": {}
    },
    {
      "cell_type": "code",
      "source": [
        "print(df['Sex'].unique())\n",
        "df['Sex']= df['Sex'].apply(lambda x: x[0] if pd.notnull(x) else 'X')\n",
        "print(df['Sex'].unique())"
      ],
      "outputs": [
        {
          "output_type": "stream",
          "name": "stdout",
          "text": "['male' 'female']\n['m' 'f']\n"
        }
      ],
      "execution_count": 38,
      "metadata": {}
    },
    {
      "cell_type": "code",
      "source": [
        "df['Loc']= df['Cabin'].apply(lambda x: x[0] if pd.notnull(x) else 'X')\n",
        "df[['Loc', 'Survived']].groupby('Loc')['Survived'].mean().plot(kind= 'bar')\n",
        "plt.show()\n"
      ],
      "outputs": [
        {
          "output_type": "display_data",
          "data": {
            "image/png": "[encoded data removed]",
            "text/plain": "<Figure size 432x288 with 1 Axes>"
          },
          "metadata": {
            "needs_background": "light"
          }
        }
      ],
      "execution_count": 39,
      "metadata": {}
    },
    {
      "cell_type": "code",
      "source": [
        "df.drop(['Cabin', 'Ticket'], axis=1, inplace=True)"
      ],
      "outputs": [],
      "execution_count": 40,
      "metadata": {}
    },
    {
      "cell_type": "code",
      "source": [
        "df"
      ],
      "outputs": [
        {
          "output_type": "execute_result",
          "execution_count": 41,
          "data": {
            "text/html": "<div>\n<style scoped>\n    .dataframe tbody tr th:only-of-type {\n        vertical-align: middle;\n    }\n\n    .dataframe tbody tr th {\n        vertical-align: top;\n    }\n\n    .dataframe thead th {\n        text-align: right;\n    }\n</style>\n<table border=\"1\" class=\"dataframe\">\n  <thead>\n    <tr style=\"text-align: right;\">\n      <th></th>\n      <th>PassengerId</th>\n      <th>Survived</th>\n      <th>Pclass</th>\n      <th>Name</th>\n      <th>Sex</th>\n      <th>Age</th>\n      <th>SibSp</th>\n      <th>Parch</th>\n      <th>Fare</th>\n      <th>Embarked</th>\n      <th>Loc</th>\n    </tr>\n  </thead>\n  <tbody>\n    <tr>\n      <th>0</th>\n      <td>1</td>\n      <td>0</td>\n      <td>3</td>\n      <td>Braund, Mr. Owen Harris</td>\n      <td>m</td>\n      <td>22.0</td>\n      <td>1</td>\n      <td>0</td>\n      <td>7.2500</td>\n      <td>S</td>\n      <td>X</td>\n    </tr>\n    <tr>\n      <th>1</th>\n      <td>2</td>\n      <td>1</td>\n      <td>1</td>\n      <td>Cumings, Mrs. John Bradley (Florence Briggs Th...</td>\n      <td>f</td>\n      <td>38.0</td>\n      <td>1</td>\n      <td>0</td>\n      <td>71.2833</td>\n      <td>C</td>\n      <td>C</td>\n    </tr>\n    <tr>\n      <th>2</th>\n      <td>3</td>\n      <td>1</td>\n      <td>3</td>\n      <td>Heikkinen, Miss. Laina</td>\n      <td>f</td>\n      <td>26.0</td>\n      <td>0</td>\n      <td>0</td>\n      <td>7.9250</td>\n      <td>S</td>\n      <td>X</td>\n    </tr>\n    <tr>\n      <th>3</th>\n      <td>4</td>\n      <td>1</td>\n      <td>1</td>\n      <td>Futrelle, Mrs. Jacques Heath (Lily May Peel)</td>\n      <td>f</td>\n      <td>35.0</td>\n      <td>1</td>\n      <td>0</td>\n      <td>53.1000</td>\n      <td>S</td>\n      <td>C</td>\n    </tr>\n    <tr>\n      <th>4</th>\n      <td>5</td>\n      <td>0</td>\n      <td>3</td>\n      <td>Allen, Mr. William Henry</td>\n      <td>m</td>\n      <td>35.0</td>\n      <td>0</td>\n      <td>0</td>\n      <td>8.0500</td>\n      <td>S</td>\n      <td>X</td>\n    </tr>\n    <tr>\n      <th>...</th>\n      <td>...</td>\n      <td>...</td>\n      <td>...</td>\n      <td>...</td>\n      <td>...</td>\n      <td>...</td>\n      <td>...</td>\n      <td>...</td>\n      <td>...</td>\n      <td>...</td>\n      <td>...</td>\n    </tr>\n    <tr>\n      <th>886</th>\n      <td>887</td>\n      <td>0</td>\n      <td>2</td>\n      <td>Montvila, Rev. Juozas</td>\n      <td>m</td>\n      <td>27.0</td>\n      <td>0</td>\n      <td>0</td>\n      <td>13.0000</td>\n      <td>S</td>\n      <td>X</td>\n    </tr>\n    <tr>\n      <th>887</th>\n      <td>888</td>\n      <td>1</td>\n      <td>1</td>\n      <td>Graham, Miss. Margaret Edith</td>\n      <td>f</td>\n      <td>19.0</td>\n      <td>0</td>\n      <td>0</td>\n      <td>30.0000</td>\n      <td>S</td>\n      <td>B</td>\n    </tr>\n    <tr>\n      <th>888</th>\n      <td>889</td>\n      <td>0</td>\n      <td>3</td>\n      <td>Johnston, Miss. Catherine Helen \"Carrie\"</td>\n      <td>f</td>\n      <td>21.5</td>\n      <td>1</td>\n      <td>2</td>\n      <td>23.4500</td>\n      <td>S</td>\n      <td>X</td>\n    </tr>\n    <tr>\n      <th>889</th>\n      <td>890</td>\n      <td>1</td>\n      <td>1</td>\n      <td>Behr, Mr. Karl Howell</td>\n      <td>m</td>\n      <td>26.0</td>\n      <td>0</td>\n      <td>0</td>\n      <td>30.0000</td>\n      <td>C</td>\n      <td>C</td>\n    </tr>\n    <tr>\n      <th>890</th>\n      <td>891</td>\n      <td>0</td>\n      <td>3</td>\n      <td>Dooley, Mr. Patrick</td>\n      <td>m</td>\n      <td>32.0</td>\n      <td>0</td>\n      <td>0</td>\n      <td>7.7500</td>\n      <td>Q</td>\n      <td>X</td>\n    </tr>\n  </tbody>\n</table>\n<p>891 rows × 11 columns</p>\n</div>",
            "text/plain": "     PassengerId  Survived  Pclass  \\\n0              1         0       3   \n1              2         1       1   \n2              3         1       3   \n3              4         1       1   \n4              5         0       3   \n..           ...       ...     ...   \n886          887         0       2   \n887          888         1       1   \n888          889         0       3   \n889          890         1       1   \n890          891         0       3   \n\n                                                  Name Sex   Age  SibSp  \\\n0                              Braund, Mr. Owen Harris   m  22.0      1   \n1    Cumings, Mrs. John Bradley (Florence Briggs Th...   f  38.0      1   \n2                               Heikkinen, Miss. Laina   f  26.0      0   \n3         Futrelle, Mrs. Jacques Heath (Lily May Peel)   f  35.0      1   \n4                             Allen, Mr. William Henry   m  35.0      0   \n..                                                 ...  ..   ...    ...   \n886                              Montvila, Rev. Juozas   m  27.0      0   \n887                       Graham, Miss. Margaret Edith   f  19.0      0   \n888           Johnston, Miss. Catherine Helen \"Carrie\"   f  21.5      1   \n889                              Behr, Mr. Karl Howell   m  26.0      0   \n890                                Dooley, Mr. Patrick   m  32.0      0   \n\n     Parch     Fare Embarked Loc  \n0        0   7.2500        S   X  \n1        0  71.2833        C   C  \n2        0   7.9250        S   X  \n3        0  53.1000        S   C  \n4        0   8.0500        S   X  \n..     ...      ...      ...  ..  \n886      0  13.0000        S   X  \n887      0  30.0000        S   B  \n888      2  23.4500        S   X  \n889      0  30.0000        C   C  \n890      0   7.7500        Q   X  \n\n[891 rows x 11 columns]"
          },
          "metadata": {}
        }
      ],
      "execution_count": 41,
      "metadata": {}
    },
    {
      "cell_type": "code",
      "source": [
        "df.isnull().sum()"
      ],
      "outputs": [
        {
          "output_type": "execute_result",
          "execution_count": 42,
          "data": {
            "text/plain": "PassengerId    0\nSurvived       0\nPclass         0\nName           0\nSex            0\nAge            0\nSibSp          0\nParch          0\nFare           0\nEmbarked       2\nLoc            0\ndtype: int64"
          },
          "metadata": {}
        }
      ],
      "execution_count": 42,
      "metadata": {}
    },
    {
      "cell_type": "code",
      "source": [
        "df['Embarked'] = df['Embarked'].fillna('S')"
      ],
      "outputs": [],
      "execution_count": 43,
      "metadata": {}
    },
    {
      "cell_type": "markdown",
      "source": [
        "# Feature Engineering\n",
        "## Create a Group Size"
      ],
      "metadata": {}
    },
    {
      "cell_type": "code",
      "source": [
        "df.loc[:,'GroupSize'] = 1 + df['SibSp'] + df['Parch']"
      ],
      "outputs": [],
      "execution_count": 44,
      "metadata": {}
    },
    {
      "cell_type": "markdown",
      "source": [
        "## Fill Missing Embarded with value of S"
      ],
      "metadata": {}
    },
    {
      "cell_type": "code",
      "source": [
        "df.isnull().sum()"
      ],
      "outputs": [
        {
          "output_type": "execute_result",
          "execution_count": 45,
          "data": {
            "text/plain": "PassengerId    0\nSurvived       0\nPclass         0\nName           0\nSex            0\nAge            0\nSibSp          0\nParch          0\nFare           0\nEmbarked       0\nLoc            0\nGroupSize      0\ndtype: int64"
          },
          "metadata": {}
        }
      ],
      "execution_count": 45,
      "metadata": {}
    },
    {
      "cell_type": "code",
      "source": [
        "LABEL = 'Survived'\n",
        "columns_to_keep = ['Pclass', 'Sex','Age', 'Fare', 'Embared', 'Deck', 'GroupSize']\n",
        "columns_to_drop = ['Name','SibSp', 'Parch', 'Survived']\n",
        "df_train = df\n",
        "df = df_train.drop(['Name','SibSp', 'Parch', 'PassengerId'], axis=1)\n",
        "\n",
        "df.head(5)"
      ],
      "outputs": [
        {
          "output_type": "execute_result",
          "execution_count": 46,
          "data": {
            "text/html": "<div>\n<style scoped>\n    .dataframe tbody tr th:only-of-type {\n        vertical-align: middle;\n    }\n\n    .dataframe tbody tr th {\n        vertical-align: top;\n    }\n\n    .dataframe thead th {\n        text-align: right;\n    }\n</style>\n<table border=\"1\" class=\"dataframe\">\n  <thead>\n    <tr style=\"text-align: right;\">\n      <th></th>\n      <th>Survived</th>\n      <th>Pclass</th>\n      <th>Sex</th>\n      <th>Age</th>\n      <th>Fare</th>\n      <th>Embarked</th>\n      <th>Loc</th>\n      <th>GroupSize</th>\n    </tr>\n  </thead>\n  <tbody>\n    <tr>\n      <th>0</th>\n      <td>0</td>\n      <td>3</td>\n      <td>m</td>\n      <td>22.0</td>\n      <td>7.2500</td>\n      <td>S</td>\n      <td>X</td>\n      <td>2</td>\n    </tr>\n    <tr>\n      <th>1</th>\n      <td>1</td>\n      <td>1</td>\n      <td>f</td>\n      <td>38.0</td>\n      <td>71.2833</td>\n      <td>C</td>\n      <td>C</td>\n      <td>2</td>\n    </tr>\n    <tr>\n      <th>2</th>\n      <td>1</td>\n      <td>3</td>\n      <td>f</td>\n      <td>26.0</td>\n      <td>7.9250</td>\n      <td>S</td>\n      <td>X</td>\n      <td>1</td>\n    </tr>\n    <tr>\n      <th>3</th>\n      <td>1</td>\n      <td>1</td>\n      <td>f</td>\n      <td>35.0</td>\n      <td>53.1000</td>\n      <td>S</td>\n      <td>C</td>\n      <td>2</td>\n    </tr>\n    <tr>\n      <th>4</th>\n      <td>0</td>\n      <td>3</td>\n      <td>m</td>\n      <td>35.0</td>\n      <td>8.0500</td>\n      <td>S</td>\n      <td>X</td>\n      <td>1</td>\n    </tr>\n  </tbody>\n</table>\n</div>",
            "text/plain": "   Survived  Pclass Sex   Age     Fare Embarked Loc  GroupSize\n0         0       3   m  22.0   7.2500        S   X          2\n1         1       1   f  38.0  71.2833        C   C          2\n2         1       3   f  26.0   7.9250        S   X          1\n3         1       1   f  35.0  53.1000        S   C          2\n4         0       3   m  35.0   8.0500        S   X          1"
          },
          "metadata": {}
        }
      ],
      "execution_count": 46,
      "metadata": {}
    },
    {
      "cell_type": "code",
      "source": [
        "import os\n",
        "script_folder = os.path.join(os.getcwd(), \"prepped_data\")\n",
        "print(script_folder)\n",
        "os.makedirs(script_folder, exist_ok=True)\n",
        "df.to_csv('./prepped_data/titanic_prepped.csv', index = False)"
      ],
      "outputs": [
        {
          "output_type": "stream",
          "name": "stdout",
          "text": "/mnt/batch/tasks/shared/LS_root/mounts/clusters/memasanz1/code/Users/memasanz/ML-Engineering-with-Azure-Machine-Learning-Service/Chapter4/prepped_data\n"
        }
      ],
      "execution_count": 47,
      "metadata": {}
    },
    {
      "cell_type": "markdown",
      "source": [
        "## Working with Data\n",
        "\n",
        "Data can reside in:\n",
        "\n",
        "    - Local Machine: URI_FILE, URI_FOLDER, MLTABLE, TRITON_MODEL, CUSTOM_MODEL\n",
        "    - Web\n",
        "    - Data Storage Services (Bob, ADSL, SQL)\n",
        "        - https://<account_name>.blob.core.windows.net/<container_name>/path\n",
        "        - abfss://<file_system>@<account_name>.dfs.core.windows.net/<path>\n",
        "        - azureml://datastores/<data_store_name>/paths/<path>"
      ],
      "metadata": {}
    },
    {
      "cell_type": "code",
      "source": [
        "from azure.ai.ml.entities import Data\n",
        "from azure.ai.ml.constants import AssetTypes"
      ],
      "outputs": [],
      "execution_count": 48,
      "metadata": {}
    },
    {
      "cell_type": "markdown",
      "source": [
        "You can register the a csv file directly from the data directory, we are using a csv file in the directory, but you can leverage data from supported cloud storage using `https`, `abfss` and `wasbs` \n",
        "\n",
        "### Register a uri_file"
      ],
      "metadata": {}
    },
    {
      "cell_type": "code",
      "source": [
        "try:\n",
        "    registered_data_asset = ml_client.data.get(name='titanic_prepped', version=1)\n",
        "    print('data asset is registered')\n",
        "except:\n",
        "    print('register data asset')\n",
        "    my_data = Data(\n",
        "        path=\"./prepped_data/titanic_prepped.csv\",\n",
        "        type=AssetTypes.URI_FILE,\n",
        "        description=\"Titanic CSV\",\n",
        "        name=\"titanic_prepped\",\n",
        "        version=\"1\",\n",
        "    )\n",
        "\n",
        "    ml_client.data.create_or_update(my_data)"
      ],
      "outputs": [
        {
          "output_type": "stream",
          "name": "stdout",
          "text": "data asset is registered\n"
        }
      ],
      "execution_count": 49,
      "metadata": {}
    },
    {
      "cell_type": "markdown",
      "source": [
        "### Working with an MLTable\n",
        "\n",
        "`MLTable` are great for:\n",
        "- when your data is complex\n",
        "- you only need a subset of the data\n",
        "- you will leverage dataset with **AutoML** job which requires tabular data"
      ],
      "metadata": {}
    },
    {
      "cell_type": "code",
      "source": [
        "import os\n",
        "script_folder = os.path.join(os.getcwd(), \"titanic_prepped_mltable\")\n",
        "print(script_folder)\n",
        "os.makedirs(script_folder, exist_ok=True)"
      ],
      "outputs": [
        {
          "output_type": "stream",
          "name": "stdout",
          "text": "/mnt/batch/tasks/shared/LS_root/mounts/clusters/memasanz1/code/Users/memasanz/ML-Engineering-with-Azure-Machine-Learning-Service/Chapter4/titanic_prepped_mltable\n"
        }
      ],
      "execution_count": 50,
      "metadata": {}
    },
    {
      "cell_type": "markdown",
      "source": [
        "## Create MLTable Definition file\n",
        "Note we can exclude columns right in the definition based on the MLTable.schema.json definition"
      ],
      "metadata": {}
    },
    {
      "cell_type": "code",
      "source": [
        "%%writefile $script_folder/MLTable\n",
        "$schema: https://azuremlschemas.azureedge.net/latest/MLTable.schema.json \n",
        "\n",
        "type: mltable\n",
        "paths:\n",
        "    - pattern: ./*.csv\n",
        "\n",
        "transformations:\n",
        "  - read_delimited:\n",
        "      delimiter: \",\"\n",
        "      header: all_files_same_headers\n",
        "      encoding: utf8\n",
        "  - drop_columns: [\"Id\"]"
      ],
      "outputs": [
        {
          "output_type": "stream",
          "name": "stdout",
          "text": "Overwriting /mnt/batch/tasks/shared/LS_root/mounts/clusters/memasanz1/code/Users/memasanz/ML-Engineering-with-Azure-Machine-Learning-Service/Chapter4/titanic_prepped_mltable/MLTable\n"
        }
      ],
      "execution_count": 51,
      "metadata": {}
    },
    {
      "cell_type": "code",
      "source": [
        "import shutil\n",
        "datafile = './prepped_data/titanic_prepped.csv'\n",
        "target   = script_folder + '/titanic_prepped.csv'\n",
        "shutil.copyfile(datafile, target)"
      ],
      "outputs": [
        {
          "output_type": "execute_result",
          "execution_count": 52,
          "data": {
            "text/plain": "'/mnt/batch/tasks/shared/LS_root/mounts/clusters/memasanz1/code/Users/memasanz/ML-Engineering-with-Azure-Machine-Learning-Service/Chapter4/titanic_prepped_mltable/titanic_prepped.csv'"
          },
          "metadata": {}
        }
      ],
      "execution_count": 52,
      "metadata": {}
    },
    {
      "cell_type": "markdown",
      "source": [
        "### Loading an MLTable before registration\n",
        "\n",
        "You should located the `MLTable` file with the data.  You can load an `MLTable` using the `mltable` library"
      ],
      "metadata": {}
    },
    {
      "cell_type": "code",
      "source": [
        "import mltable\n",
        "\n",
        "# Note: the uri below can be a local folder or folder located in cloud storage. The folder must contain a valid MLTable file.\n",
        "script_folder = os.path.join(os.getcwd(), \"titanic_prepped_mltable\")\n",
        "print(script_folder)\n",
        "tbl = mltable.load(uri=script_folder)\n",
        "tbl.to_pandas_dataframe()"
      ],
      "outputs": [
        {
          "output_type": "stream",
          "name": "stdout",
          "text": "/mnt/batch/tasks/shared/LS_root/mounts/clusters/memasanz1/code/Users/memasanz/ML-Engineering-with-Azure-Machine-Learning-Service/Chapter4/titanic_prepped_mltable\n"
        },
        {
          "output_type": "execute_result",
          "execution_count": 53,
          "data": {
            "text/html": "<div>\n<style scoped>\n    .dataframe tbody tr th:only-of-type {\n        vertical-align: middle;\n    }\n\n    .dataframe tbody tr th {\n        vertical-align: top;\n    }\n\n    .dataframe thead th {\n        text-align: right;\n    }\n</style>\n<table border=\"1\" class=\"dataframe\">\n  <thead>\n    <tr style=\"text-align: right;\">\n      <th></th>\n      <th>Survived</th>\n      <th>Pclass</th>\n      <th>Sex</th>\n      <th>Age</th>\n      <th>Fare</th>\n      <th>Embarked</th>\n      <th>Loc</th>\n      <th>GroupSize</th>\n    </tr>\n  </thead>\n  <tbody>\n    <tr>\n      <th>0</th>\n      <td>0</td>\n      <td>3</td>\n      <td>m</td>\n      <td>22.0</td>\n      <td>7.25</td>\n      <td>S</td>\n      <td>X</td>\n      <td>2</td>\n    </tr>\n    <tr>\n      <th>1</th>\n      <td>1</td>\n      <td>1</td>\n      <td>f</td>\n      <td>38.0</td>\n      <td>71.2833</td>\n      <td>C</td>\n      <td>C</td>\n      <td>2</td>\n    </tr>\n    <tr>\n      <th>2</th>\n      <td>1</td>\n      <td>3</td>\n      <td>f</td>\n      <td>26.0</td>\n      <td>7.925</td>\n      <td>S</td>\n      <td>X</td>\n      <td>1</td>\n    </tr>\n    <tr>\n      <th>3</th>\n      <td>1</td>\n      <td>1</td>\n      <td>f</td>\n      <td>35.0</td>\n      <td>53.1</td>\n      <td>S</td>\n      <td>C</td>\n      <td>2</td>\n    </tr>\n    <tr>\n      <th>4</th>\n      <td>0</td>\n      <td>3</td>\n      <td>m</td>\n      <td>35.0</td>\n      <td>8.05</td>\n      <td>S</td>\n      <td>X</td>\n      <td>1</td>\n    </tr>\n    <tr>\n      <th>...</th>\n      <td>...</td>\n      <td>...</td>\n      <td>...</td>\n      <td>...</td>\n      <td>...</td>\n      <td>...</td>\n      <td>...</td>\n      <td>...</td>\n    </tr>\n    <tr>\n      <th>886</th>\n      <td>0</td>\n      <td>2</td>\n      <td>m</td>\n      <td>27.0</td>\n      <td>13.0</td>\n      <td>S</td>\n      <td>X</td>\n      <td>1</td>\n    </tr>\n    <tr>\n      <th>887</th>\n      <td>1</td>\n      <td>1</td>\n      <td>f</td>\n      <td>19.0</td>\n      <td>30.0</td>\n      <td>S</td>\n      <td>B</td>\n      <td>1</td>\n    </tr>\n    <tr>\n      <th>888</th>\n      <td>0</td>\n      <td>3</td>\n      <td>f</td>\n      <td>21.5</td>\n      <td>23.45</td>\n      <td>S</td>\n      <td>X</td>\n      <td>4</td>\n    </tr>\n    <tr>\n      <th>889</th>\n      <td>1</td>\n      <td>1</td>\n      <td>m</td>\n      <td>26.0</td>\n      <td>30.0</td>\n      <td>C</td>\n      <td>C</td>\n      <td>1</td>\n    </tr>\n    <tr>\n      <th>890</th>\n      <td>0</td>\n      <td>3</td>\n      <td>m</td>\n      <td>32.0</td>\n      <td>7.75</td>\n      <td>Q</td>\n      <td>X</td>\n      <td>1</td>\n    </tr>\n  </tbody>\n</table>\n<p>891 rows × 8 columns</p>\n</div>",
            "text/plain": "    Survived Pclass Sex   Age     Fare Embarked Loc GroupSize\n0          0      3   m  22.0     7.25        S   X         2\n1          1      1   f  38.0  71.2833        C   C         2\n2          1      3   f  26.0    7.925        S   X         1\n3          1      1   f  35.0     53.1        S   C         2\n4          0      3   m  35.0     8.05        S   X         1\n..       ...    ...  ..   ...      ...      ...  ..       ...\n886        0      2   m  27.0     13.0        S   X         1\n887        1      1   f  19.0     30.0        S   B         1\n888        0      3   f  21.5    23.45        S   X         4\n889        1      1   m  26.0     30.0        C   C         1\n890        0      3   m  32.0     7.75        Q   X         1\n\n[891 rows x 8 columns]"
          },
          "metadata": {}
        }
      ],
      "execution_count": 53,
      "metadata": {}
    },
    {
      "cell_type": "code",
      "source": [
        "script_folder"
      ],
      "outputs": [
        {
          "output_type": "execute_result",
          "execution_count": 54,
          "data": {
            "text/plain": "'/mnt/batch/tasks/shared/LS_root/mounts/clusters/memasanz1/code/Users/memasanz/ML-Engineering-with-Azure-Machine-Learning-Service/Chapter4/titanic_prepped_mltable'"
          },
          "metadata": {}
        }
      ],
      "execution_count": 54,
      "metadata": {}
    },
    {
      "cell_type": "markdown",
      "source": [
        "## Register an MLTable\n",
        "\n",
        "an MLTable can be leveraged as an input to a job or pipeline.  \n",
        "After it is registered, you can also retrieve it by name."
      ],
      "metadata": {}
    },
    {
      "cell_type": "code",
      "source": [
        "try:\n",
        "    registered_data_asset = ml_client.data.get(name='titanic_prepped_mltable_x2', version=1)\n",
        "    print('retrieved registered data asset')\n",
        "except:\n",
        "    print('registering ml table')\n",
        "    titanic_data = Data(\n",
        "        name=\"titanic_prepped_mltable_x2\",\n",
        "        path='./titanic_prepped_mltable/',\n",
        "        type=AssetTypes.MLTABLE,\n",
        "        description=\"Dataset for titanic\",\n",
        "        tags={\"source_type\": \"file\", \"source\": \"ML Engineering\"},\n",
        "        version=\"1\",\n",
        "    )\n",
        "    titanic_data = ml_client.data.create_or_update(titanic_data)\n",
        "    print(f\"Dataset with name {titanic_data.name} was registered to workspace, the dataset version is {titanic_data.version}\")"
      ],
      "outputs": [
        {
          "output_type": "stream",
          "name": "stdout",
          "text": "retrieved registered data asset\n"
        }
      ],
      "execution_count": 55,
      "metadata": {}
    },
    {
      "cell_type": "code",
      "source": [
        "# registered_v1_data_asset = ml_client.data.get(name='titanic_prepped_mltable_x2', version='1')\n",
        "# tbl = mltable.load(uri=registered_v1_data_asset.path)\n",
        "# #tbl.to_pandas_dataframe()"
      ],
      "outputs": [],
      "execution_count": 56,
      "metadata": {}
    },
    {
      "cell_type": "code",
      "source": [],
      "outputs": [],
      "execution_count": null,
      "metadata": {}
    },
    {
      "cell_type": "markdown",
      "source": [
        "## Create Compute "
      ],
      "metadata": {}
    },
    {
      "cell_type": "code",
      "source": [
        "from azure.ai.ml.entities import AmlCompute\n",
        "\n",
        "# specify aml compute name.\n",
        "cpu_compute_target = \"cpu-cluster\"\n",
        "\n",
        "try:\n",
        "    ml_client.compute.get(cpu_compute_target)\n",
        "except Exception:\n",
        "    print(\"Creating a new cpu compute target...\")\n",
        "    compute = AmlCompute(\n",
        "        name=cpu_compute_target, size=\"STANDARD_D2_V2\", min_instances=0, max_instances=4, idle_time_before_scale_down = 1800\n",
        "    )\n",
        "    ml_client.compute.begin_create_or_update(compute)"
      ],
      "outputs": [],
      "execution_count": 57,
      "metadata": {}
    },
    {
      "cell_type": "markdown",
      "source": [
        "## Creating code to generate Basic Model\n",
        "\n",
        "We will first create a model using the job command, and then leverage the `jobsweep` command with specified parameters for hyperparameter tuning"
      ],
      "metadata": {}
    },
    {
      "cell_type": "code",
      "source": [
        "script_folder = os.path.join(os.getcwd(), \"src\")\n",
        "print(script_folder)\n",
        "os.makedirs(script_folder, exist_ok=True)"
      ],
      "outputs": [
        {
          "output_type": "stream",
          "name": "stdout",
          "text": "/mnt/batch/tasks/shared/LS_root/mounts/clusters/memasanz1/code/Users/memasanz/ML-Engineering-with-Azure-Machine-Learning-Service/Chapter4/src\n"
        }
      ],
      "execution_count": 58,
      "metadata": {}
    },
    {
      "cell_type": "markdown",
      "source": [
        "## Create main.py file for running in your command"
      ],
      "metadata": {}
    },
    {
      "cell_type": "code",
      "source": [
        "%%writefile ./src/main.py\n",
        "import os\n",
        "import mlflow\n",
        "import argparse\n",
        "from mlflow.tracking import MlflowClient\n",
        "import pandas as pd\n",
        "import matplotlib.pyplot as plt\n",
        "import mlflow\n",
        "import numpy as np\n",
        "from sklearn.compose import ColumnTransformer\n",
        "from sklearn.impute import SimpleImputer\n",
        "from sklearn.linear_model import LogisticRegression\n",
        "from sklearn.model_selection import train_test_split\n",
        "from sklearn.pipeline import Pipeline\n",
        "from sklearn.preprocessing import OneHotEncoder, StandardScaler, LabelEncoder\n",
        "from sklearn.metrics import roc_auc_score,roc_curve\n",
        "\n",
        "import mlflow\n",
        "import mlflow.sklearn\n",
        "from sklearn.metrics import accuracy_score, precision_score, recall_score\n",
        "\n",
        "\n",
        "# define functions\n",
        "def main(args):\n",
        "    # enable auto logging\n",
        "    current_run = mlflow.start_run()\n",
        "    mlflow.sklearn.autolog()\n",
        "\n",
        "    # read in data\n",
        "    df = pd.read_csv(args.titanic_csv)\n",
        "    model = model_train('Survived', df, args.randomstate)\n",
        "    \n",
        "\n",
        "def model_train(LABEL, df, randomstate):\n",
        "    print('df.columns = ')\n",
        "    print(df.columns)\n",
        "    y_raw           = df[LABEL]\n",
        "    columns_to_keep = ['Embarked', 'Loc', 'Sex','Pclass', 'Age', 'Fare', 'GroupSize']\n",
        "    X_raw           = df[columns_to_keep]\n",
        "    \n",
        "    X_raw['Embarked'] = X_raw['Embarked'].astype(object)\n",
        "    X_raw['Loc'] = X_raw['Loc'].astype(object)\n",
        "    X_raw['Loc'] = X_raw['Sex'].astype(object)\n",
        "    X_raw['Pclass'] = X_raw['Pclass'].astype(float)\n",
        "    X_raw['Age'] = X_raw['Age'].astype(float)\n",
        "    X_raw['Fare'] = X_raw['Fare'].astype(float)\n",
        "    X_raw['GroupSize'] = X_raw['GroupSize'].astype(float)\n",
        "    \n",
        "\n",
        "\n",
        "    print(X_raw.columns)\n",
        "     # Train test split\n",
        "    X_train, X_test, y_train, y_test = train_test_split(X_raw, y_raw, test_size=0.2, random_state=randomstate)\n",
        "    \n",
        "    #use Logistic Regression estimator from scikit learn\n",
        "    lg = LogisticRegression(penalty='l2', C=1.0, solver='liblinear')\n",
        "    preprocessor = buildpreprocessorpipeline(X_train)\n",
        "    \n",
        "    #estimator instance\n",
        "    clf = Pipeline(steps=[('preprocessor', preprocessor),\n",
        "                               ('regressor', lg)], verbose=True)\n",
        "\n",
        "    model = clf.fit(X_train, y_train)\n",
        "    \n",
        "    print('type of X_test = ' + str(type(X_test)))\n",
        "          \n",
        "    y_pred = model.predict(X_test)\n",
        "    \n",
        "    print('*****X_test************')\n",
        "    print(X_test)\n",
        "    \n",
        "    metrics = mlflow.sklearn.eval_and_log_metrics(model, X_test, y_test, prefix=\"test_\")\n",
        "    \n",
        "    #get the active run.\n",
        "    run = mlflow.active_run()\n",
        "    print(\"Active run_id: {}\".format(run.info.run_id))\n",
        "    MlflowClient().log_metric(run.info.run_id, \"metric\", 0.22)\n",
        "\n",
        "    \n",
        "    return model\n",
        "\n",
        "    mlflow.end_run()\n",
        "\n",
        "\n",
        "def buildpreprocessorpipeline(X_raw):\n",
        "\n",
        "    categorical_features = X_raw.select_dtypes(include=['object', 'bool']).columns\n",
        "    numeric_features = X_raw.select_dtypes(include=['float','int64']).columns\n",
        "\n",
        "    #categorical_features = ['Sex', 'Embarked', 'Loc']\n",
        "    categorical_transformer = Pipeline(steps=[('onehotencoder', \n",
        "                                               OneHotEncoder(categories='auto', sparse=False, handle_unknown='ignore'))])\n",
        "\n",
        "\n",
        "    #numeric_features = ['Pclass', 'Age', 'Fare', 'GroupSize']    \n",
        "    numeric_transformer1 = Pipeline(steps=[('scaler1', SimpleImputer(missing_values=np.nan, strategy = 'mean'))])\n",
        "    \n",
        "\n",
        "    preprocessor = ColumnTransformer(\n",
        "        transformers=[\n",
        "            ('numeric1', numeric_transformer1, numeric_features),\n",
        "            ('categorical', categorical_transformer, categorical_features)], remainder='drop')\n",
        "    \n",
        "    return preprocessor\n",
        "\n",
        "\n",
        "\n",
        "def parse_args():\n",
        "    # setup arg parser\n",
        "    parser = argparse.ArgumentParser()\n",
        "\n",
        "    # add arguments\n",
        "    parser.add_argument(\"--titanic-csv\", type=str)\n",
        "    parser.add_argument(\"--randomstate\", type=int, default=42)\n",
        "\n",
        "    # parse args\n",
        "    args = parser.parse_args()\n",
        "    print(args)\n",
        "    # return args\n",
        "    return args\n",
        "\n",
        "\n",
        "# run script\n",
        "if __name__ == \"__main__\":\n",
        "    # parse args\n",
        "    args = parse_args()\n",
        "\n",
        "    # run main function\n",
        "    main(args)"
      ],
      "outputs": [
        {
          "output_type": "stream",
          "name": "stdout",
          "text": "Overwriting ./src/main.py\n"
        }
      ],
      "execution_count": 59,
      "metadata": {}
    },
    {
      "cell_type": "markdown",
      "source": [
        "## Configure Command\n",
        "\n",
        "- `display_name` display name for the job\n",
        "- `description`  the description of the experiment\n",
        "- `code` path where the code is located\n",
        "- `command` command to run\n",
        "- `inputs`  dictionary of name value pairs using `${{inputs.<input_name>}}`\n",
        "    \n",
        "    - To use files or folder - using the `Input` class\n",
        "        \n",
        "        - `type` defaults to a `uri_folder` but this can be set to `uri_file` or `uri_folder`\n",
        "        - `path` is the path to the file or folder.  These can be local or remote leveraging **https, http, wasb`\n",
        "        \n",
        "            - To use an Azure ML dataset, this would be an Input `Input(type='uri_folder', path='my_dataset:1')`\n",
        "            \n",
        "            - `mode` is how the data should be delivered to the compute which include `ro_mount`(default), `rw_mount` and `download`\n",
        "\n",
        "- `environment`: environment to be used by compute when running command\n",
        "- `compute`: can be `local`, or a specificed compute name\n",
        "- `distribution`: distribution to leverage for distributed training scenerios including:\n",
        "        \n",
        "    - `Pytorch`\n",
        "    - `TensorFlow`\n",
        "    - `MPI`\n",
        "            \n",
        "            \n",
        "          "
      ],
      "metadata": {}
    },
    {
      "cell_type": "code",
      "source": [
        "# create the command\n",
        "from azure.ai.ml import command\n",
        "from azure.ai.ml import Input\n",
        "\n",
        "myjob = command(\n",
        "    code=\"./src\",  # local path where the code is stored\n",
        "    command=\"python main.py --titanic ${{inputs.titanic}} --randomstate ${{inputs.randomstate}}\",\n",
        "    inputs={\n",
        "        \"titanic\": Input(\n",
        "            type=\"uri_file\",\n",
        "            path=\"azureml:titanic_prepped:1\",\n",
        "        ),\n",
        "        \"randomstate\": 0,\n",
        "    },\n",
        "    environment=\"job_base_env@latest\",\n",
        "    compute=\"cpu-cluster\",\n",
        "    display_name=\"sklearn-titanic\",\n",
        "    # description,\n",
        "    # experiment_name\n",
        ")"
      ],
      "outputs": [],
      "execution_count": 60,
      "metadata": {}
    },
    {
      "cell_type": "code",
      "source": [
        "script_folder = os.path.join(os.getcwd(), \"job\")\n",
        "print(script_folder)\n",
        "os.makedirs(script_folder, exist_ok=True)"
      ],
      "outputs": [
        {
          "output_type": "stream",
          "name": "stdout",
          "text": "/mnt/batch/tasks/shared/LS_root/mounts/clusters/memasanz1/code/Users/memasanz/ML-Engineering-with-Azure-Machine-Learning-Service/Chapter4/job\n"
        }
      ],
      "execution_count": 61,
      "metadata": {}
    },
    {
      "cell_type": "markdown",
      "source": [
        "## Run Command with SDK"
      ],
      "metadata": {}
    },
    {
      "cell_type": "code",
      "source": [
        "# submit the command\n",
        "returned_job = ml_client.create_or_update(myjob)"
      ],
      "outputs": [],
      "execution_count": 62,
      "metadata": {}
    },
    {
      "cell_type": "code",
      "source": [
        "returned_job.services[\"Studio\"].endpoint"
      ],
      "outputs": [
        {
          "output_type": "execute_result",
          "execution_count": 63,
          "data": {
            "text/plain": "'https://ml.azure.com/runs/willing_lemon_kggnhk9762?wsid=/subscriptions/5da07161-3770-4a4b-aa43-418cbbb627cf/resourcegroups/aml-workspace-rg/workspaces/aml-workspace&tid=72f988bf-86f1-41af-91ab-2d7cd011db47'"
          },
          "metadata": {}
        }
      ],
      "execution_count": 63,
      "metadata": {}
    },
    {
      "cell_type": "code",
      "source": [
        "returned_job"
      ],
      "outputs": [
        {
          "output_type": "execute_result",
          "execution_count": 64,
          "data": {
            "text/html": "<table style=\"width:100%\"><tr><th>Experiment</th><th>Name</th><th>Type</th><th>Status</th><th>Details Page</th></tr><tr><td>Chapter4</td><td>willing_lemon_kggnhk9762</td><td>command</td><td>Starting</td><td><a href=\"https://ml.azure.com/runs/willing_lemon_kggnhk9762?wsid=/subscriptions/5da07161-3770-4a4b-aa43-418cbbb627cf/resourcegroups/aml-workspace-rg/workspaces/aml-workspace&amp;tid=72f988bf-86f1-41af-91ab-2d7cd011db47\" target=\"_blank\" rel=\"noopener\">Link to Azure Machine Learning studio</a></td></tr></table>",
            "text/plain": "Command({'parameters': {}, 'init': False, 'type': 'command', 'status': 'Starting', 'log_files': None, 'name': 'willing_lemon_kggnhk9762', 'description': None, 'tags': {}, 'properties': {'_azureml.ComputeTargetType': 'amlctrain', 'ContentSnapshotId': '7928515f-88b6-415c-b17e-f987d8d1bbdb'}, 'id': '/subscriptions/5da07161-3770-4a4b-aa43-418cbbb627cf/resourceGroups/aml-workspace-rg/providers/Microsoft.MachineLearningServices/workspaces/aml-workspace/jobs/willing_lemon_kggnhk9762', 'Resource__source_path': None, 'base_path': '/mnt/batch/tasks/shared/LS_root/mounts/clusters/memasanz1/code/Users/memasanz/ML-Engineering-with-Azure-Machine-Learning-Service/Chapter4', 'creation_context': <azure.ai.ml._restclient.v2022_02_01_preview.models._models_py3.SystemData object at 0x7f251b6ee6d0>, 'serialize': <msrest.serialization.Serializer object at 0x7f251b70afa0>, 'allowed_keys': {}, 'key_restriction': False, 'logger': <Logger attr_dict (WARNING)>, 'display_name': 'sklearn-titanic', 'experiment_name': 'Chapter4', 'compute': 'cpu-cluster', 'services': {'Tracking': <azure.ai.ml._restclient.v2022_02_01_preview.models._models_py3.JobService object at 0x7f251b6eeca0>, 'Studio': <azure.ai.ml._restclient.v2022_02_01_preview.models._models_py3.JobService object at 0x7f251b6ee430>}, 'job_inputs': {'titanic': {'type': 'uri_file', 'path': 'titanic_prepped:1', 'mode': 'ro_mount'}, 'randomstate': '0'}, 'job_outputs': {'default': {'type': 'uri_folder', 'path': 'azureml://datastores/workspaceartifactstore/ExperimentRun/dcid.willing_lemon_kggnhk9762', 'mode': 'rw_mount'}}, 'inputs': {'titanic': <azure.ai.ml.entities._job.pipeline._io.PipelineInputBase object at 0x7f251b70a9a0>, 'randomstate': <azure.ai.ml.entities._job.pipeline._io.PipelineInputBase object at 0x7f251b70a370>}, 'outputs': {'default': <azure.ai.ml.entities._job.pipeline._io.PipelineOutputBase object at 0x7f251b70a130>}, 'component': CommandComponent({'auto_increment_version': True, 'source': 'REMOTE.WORKSPACE.JOB', 'is_anonymous': False, 'name': 'willing_lemon_kggnhk9762', 'description': None, 'tags': {}, 'properties': {}, 'id': None, 'Resource__source_path': None, 'base_path': PosixPath('.'), 'creation_context': <azure.ai.ml._restclient.v2022_02_01_preview.models._models_py3.SystemData object at 0x7f251b6ee6d0>, 'serialize': <msrest.serialization.Serializer object at 0x7f251b6eef10>, 'command': 'python main.py --titanic ${{inputs.titanic}} --randomstate ${{inputs.randomstate}}', 'code': '/subscriptions/5da07161-3770-4a4b-aa43-418cbbb627cf/resourceGroups/aml-workspace-rg/providers/Microsoft.MachineLearningServices/workspaces/aml-workspace/codes/9f595563-7733-44f6-8bec-bd1949ded40e/versions/1', 'environment_variables': {}, 'environment': '/subscriptions/5da07161-3770-4a4b-aa43-418cbbb627cf/resourceGroups/aml-workspace-rg/providers/Microsoft.MachineLearningServices/workspaces/aml-workspace/environments/job_base_env/versions/2022-08-27-21-59-07-0584736', 'distribution': None, 'resources': None, 'version': None, 'latest_version': None, 'schema': None, 'type': 'command', 'display_name': 'sklearn-titanic', 'is_deterministic': True, 'inputs': {'titanic': {'type': 'uri_file', 'path': '/subscriptions/5da07161-3770-4a4b-aa43-418cbbb627cf/resourceGroups/aml-workspace-rg/providers/Microsoft.MachineLearningServices/workspaces/aml-workspace/data/titanic_prepped/versions/1', 'mode': 'ro_mount'}, 'randomstate': {'type': 'string', 'default': '0'}}, 'outputs': {'default': {'type': 'uri_folder', 'path': 'azureml://datastores/workspaceartifactstore/ExperimentRun/dcid.willing_lemon_kggnhk9762', 'mode': 'rw_mount'}}, 'yaml_str': None, 'other_parameter': {'services': {'Tracking': <azure.ai.ml._restclient.v2022_02_01_preview.models._models_py3.JobService object at 0x7f251b6eeca0>, 'Studio': <azure.ai.ml._restclient.v2022_02_01_preview.models._models_py3.JobService object at 0x7f251b6ee430>}, 'status': 'Starting', 'parameters': {}}, 'func': <function [component] sklearn-titanic at 0x7f251b72d4c0>}), 'kwargs': {'services': {'Tracking': <azure.ai.ml._restclient.v2022_02_01_preview.models._models_py3.JobService object at 0x7f251b6eeca0>, 'Studio': <azure.ai.ml._restclient.v2022_02_01_preview.models._models_py3.JobService object at 0x7f251b6ee430>}, 'status': 'Starting', 'creation_context': <azure.ai.ml._restclient.v2022_02_01_preview.models._models_py3.SystemData object at 0x7f251b6ee6d0>}, 'instance_id': 'bc4b0db4-85ae-49e9-955e-7ca2653da35f', 'limits': None, 'identity': None, 'distribution': None, 'environment_variables': {}, 'environment': 'job_base_env:2022-08-27-21-59-07-0584736', 'resources': {'instance_count': 1, 'properties': {}}, 'swept': False})"
          },
          "metadata": {}
        }
      ],
      "execution_count": 64,
      "metadata": {}
    },
    {
      "cell_type": "code",
      "source": [
        "runid = returned_job.name\n",
        "print('runid:' + runid)\n",
        "experiment = returned_job.experiment_name\n",
        "print(\"experiment:\" + experiment)"
      ],
      "outputs": [
        {
          "output_type": "stream",
          "name": "stdout",
          "text": "runid:willing_lemon_kggnhk9762\nexperiment:Chapter4\n"
        }
      ],
      "execution_count": 65,
      "metadata": {}
    },
    {
      "cell_type": "markdown",
      "source": [
        "You can always get the list of runs using ml flow.  If the last one returned does not equal the one you just "
      ],
      "metadata": {}
    },
    {
      "cell_type": "code",
      "source": [
        "import mlflow\n",
        "import time\n",
        "\n",
        "exp = mlflow.get_experiment_by_name(experiment)\n",
        "last_run = mlflow.search_runs(exp.experiment_id, output_format=\"list\")[-1]\n",
        "\n",
        "if last_run.info.run_id != runid:\n",
        "    print('run ids were not the same - waiting for run id to update')\n",
        "    time.sleep(5)\n",
        "    exp = mlflow.get_experiment_by_name(experiment)\n",
        "    last_run = mlflow.search_runs(exp.experiment_id, output_format=\"list\")[-1]\n",
        "\n",
        "while last_run.info.status == 'SCHEDULED':\n",
        "  print('run is being scheduled')\n",
        "  time.sleep(5)\n",
        "  last_run = mlflow.search_runs(exp.experiment_id, output_format=\"list\")[-1]\n",
        "\n",
        "while last_run.info.status == 'RUNNING':\n",
        "  print('job is being run')\n",
        "  time.sleep(10)\n",
        "  last_run = mlflow.search_runs(exp.experiment_id, output_format=\"list\")[-1]\n",
        "\n",
        "print(\"run_id:{}\".format(last_run.info.run_id))\n",
        "print('----------')\n",
        "print(\"run_id:{}\".format(last_run.info.status))"
      ],
      "outputs": [
        {
          "output_type": "stream",
          "name": "stdout",
          "text": "job is being run\nrun_id:willing_lemon_kggnhk9762\n----------\nrun_id:FINISHED\n"
        }
      ],
      "execution_count": 66,
      "metadata": {}
    },
    {
      "cell_type": "markdown",
      "source": [
        "## Create a job.yml file\n",
        "\n",
        "Note you can also run a command through the CLI.  This is great preperation for MLOps. The file below will allow use to leverage the AML CLI V2 to run this command.  We can and will run it through the CLI, but it is included here for completeness"
      ],
      "metadata": {}
    },
    {
      "cell_type": "code",
      "source": [
        "%%writefile ./job/job.yml\n",
        "$schema: https://azuremlschemas.azureedge.net/latest/commandJob.schema.json\n",
        "code: ../src\n",
        "command: >-\n",
        "  python main.py \n",
        "  --titanic-csv ${{inputs.titanic}}\n",
        "  --randomstate ${{inputs.randomstate}}\n",
        "inputs:\n",
        "  titanic:\n",
        "    path: azureml:titanic_prepped:1\n",
        "    mode: ro_mount\n",
        "  randomstate: 0   \n",
        "environment: azureml:job_base_env@latest\n",
        "compute: azureml:cpu-cluster\n",
        "experiment_name: titanic-job-example\n",
        "description: | \n",
        "    # Train a classification model on diabetes data using a registered dataset as input.\n"
      ],
      "outputs": [
        {
          "output_type": "stream",
          "name": "stdout",
          "text": "Overwriting ./job/job.yml\n"
        }
      ],
      "execution_count": 67,
      "metadata": {}
    },
    {
      "cell_type": "markdown",
      "source": [
        "You can use the CLI to run this command now that you have created a yml file.  Navigate on your compute instace to the folder holding the job.yml file and run the following command in the terminal.\n",
        "\n",
        "* Note to replace the workspace name in the command with your workspace name (update the value: aml-workspace), and the resource group (update the value: aml-workspace-rg) with your resource group name\n",
        "\n",
        "```\n",
        "az login\n",
        "az ml job create --file job.yml --web --resource-group aml-workspace-rg --workspace-name aml-workspace\n",
        "```\n"
      ],
      "metadata": {}
    },
    {
      "cell_type": "markdown",
      "source": [
        "### List all of the artifacts that were automatically logged as part of your experiment"
      ],
      "metadata": {}
    },
    {
      "cell_type": "code",
      "source": [
        "import mlflow\n",
        "\n",
        "print(experiment)\n",
        "print(runid)\n",
        "mlflow.set_experiment(experiment_name=experiment)\n",
        "client = mlflow.tracking.MlflowClient()\n",
        "client.list_artifacts(run_id=runid)"
      ],
      "outputs": [
        {
          "output_type": "stream",
          "name": "stdout",
          "text": "Chapter4\nwilling_lemon_kggnhk9762\n"
        },
        {
          "output_type": "execute_result",
          "execution_count": 70,
          "data": {
            "text/plain": "[<FileInfo: file_size=-1, is_dir=True, path='model'>,\n <FileInfo: file_size=-1, is_dir=True, path='system_logs'>,\n <FileInfo: file_size=-1, is_dir=False, path='test_confusion_matrix.png'>,\n <FileInfo: file_size=-1, is_dir=False, path='test_precision_recall_curve.png'>,\n <FileInfo: file_size=-1, is_dir=False, path='test_roc_curve.png'>,\n <FileInfo: file_size=-1, is_dir=False, path='training_confusion_matrix.png'>,\n <FileInfo: file_size=-1, is_dir=False, path='training_precision_recall_curve.png'>,\n <FileInfo: file_size=-1, is_dir=False, path='training_roc_curve.png'>,\n <FileInfo: file_size=-1, is_dir=True, path='user_logs'>]"
          },
          "metadata": {}
        }
      ],
      "execution_count": 70,
      "metadata": {}
    },
    {
      "cell_type": "markdown",
      "source": [
        "You can download any artifact from the list of artifacts - and display the results"
      ],
      "metadata": {}
    },
    {
      "cell_type": "code",
      "source": [
        "file_path = client.download_artifacts(\n",
        "    runid, path=\"test_confusion_matrix.png\"\n",
        ")\n",
        "\n",
        "import matplotlib.pyplot as plt\n",
        "import matplotlib.image as img\n",
        "\n",
        "image = img.imread(file_path)\n",
        "plt.imshow(image)\n",
        "plt.show()"
      ],
      "outputs": [
        {
          "output_type": "display_data",
          "data": {
            "image/png": "[encoded data removed]",
            "text/plain": "<Figure size 432x288 with 1 Axes>"
          },
          "metadata": {
            "needs_background": "light"
          }
        }
      ],
      "execution_count": 69,
      "metadata": {}
    },
    {
      "cell_type": "markdown",
      "source": [
        "### Retrieve the Model and consume locally\n",
        "\n",
        "Given the model was already logged as a job artifact, we can download it locally and run it.  \n",
        "  \n",
        "\n"
      ],
      "metadata": {}
    },
    {
      "cell_type": "code",
      "source": [
        "print(last_run.info.run_id)\n",
        "pipeline_model = mlflow.sklearn.load_model(f\"runs:/{last_run.info.run_id}/model\")"
      ],
      "outputs": [
        {
          "output_type": "stream",
          "name": "stdout",
          "text": "neat_yacht_926fmgfmjf\n"
        }
      ],
      "execution_count": 47,
      "metadata": {}
    },
    {
      "cell_type": "code",
      "source": [
        "type(pipeline_model)"
      ],
      "outputs": [
        {
          "output_type": "execute_result",
          "execution_count": 48,
          "data": {
            "text/plain": "sklearn.pipeline.Pipeline"
          },
          "metadata": {}
        }
      ],
      "execution_count": 48,
      "metadata": {}
    },
    {
      "cell_type": "code",
      "source": [
        "script_folder = os.path.join(os.getcwd(), \"titanic_prepped_mltable\")\n",
        "print(script_folder)\n",
        "tbl = mltable.load(uri=script_folder)\n",
        "df  = tbl.to_pandas_dataframe()\n",
        "columns_to_keep =  ['Embarked', 'Loc', 'Sex','Pclass', 'Age', 'Fare', 'GroupSize']\n",
        "X_raw           = df[columns_to_keep]\n"
      ],
      "outputs": [
        {
          "output_type": "stream",
          "name": "stdout",
          "text": "/mnt/batch/tasks/shared/LS_root/mounts/clusters/memasanz9/code/Users/memasanz/ML-Engineering-with-Azure-Machine-Learning-Service/Chapter4/titanic_prepped_mltable\n"
        }
      ],
      "execution_count": 49,
      "metadata": {}
    },
    {
      "cell_type": "code",
      "source": [
        "results = pipeline_model.predict(X_raw)\n",
        "print(results)"
      ],
      "outputs": [
        {
          "output_type": "stream",
          "name": "stdout",
          "text": "[0 1 0 1 0 0 0 0 0 1 0 0 0 0 0 0 0 0 0 0 0 0 0 0 0 0 0 0 0 0 0 1 0 0 0 0 0\n 0 0 0 0 0 0 1 0 0 0 0 0 0 0 0 1 0 0 0 1 0 1 0 0 1 0 0 0 0 1 0 0 0 0 0 0 0\n 0 0 0 0 0 0 0 0 0 0 1 0 0 0 1 0 0 0 0 0 0 0 0 1 0 0 0 0 0 0 0 0 0 0 0 0 0\n 0 0 0 0 0 0 0 1 0 0 0 0 0 0 0 0 0 0 0 0 0 0 0 0 0 1 0 0 1 0 0 0 0 0 0 0 0\n 0 0 0 1 0 0 0 0 0 0 0 0 0 0 0 0 0 0 1 0 0 0 0 0 0 0 0 0 0 1 0 0 0 0 0 0 0\n 0 0 0 0 0 0 0 0 0 1 1 0 0 0 1 0 0 0 0 0 0 0 0 0 0 0 0 0 0 0 1 0 0 1 0 0 0\n 0 0 0 0 0 0 0 0 1 0 0 0 0 0 0 1 0 0 0 0 0 0 0 0 0 0 0 0 0 0 0 0 0 0 1 1 1\n 0 0 0 0 0 0 0 0 0 1 1 0 0 0 0 0 0 0 0 0 0 0 0 0 0 0 0 0 0 0 0 1 1 0 0 0 0\n 0 1 0 1 0 0 0 1 0 1 1 1 0 1 1 1 0 0 0 0 1 0 1 1 0 0 1 0 0 1 0 0 0 1 0 0 0\n 0 1 0 0 1 0 0 0 1 0 0 0 1 0 0 0 0 0 0 0 0 0 0 1 0 0 0 0 0 0 0 0 0 0 0 0 1\n 1 0 0 1 0 1 0 1 0 0 1 0 0 1 0 0 0 0 0 1 0 0 0 1 0 0 0 0 0 1 0 0 0 0 0 0 0\n 0 0 0 0 0 1 0 0 0 0 1 0 0 0 0 0 0 0 0 0 1 0 0 0 0 0 0 0 1 0 0 0 0 0 0 0 1\n 0 1 1 0 0 0 0 0 0 0 0 0 0 1 0 0 0 0 0 0 0 0 0 0 0 0 0 0 0 1 0 0 0 0 0 0 0\n 0 0 0 1 0 1 0 0 0 0 0 0 0 0 0 1 0 1 0 0 0 0 0 1 1 0 0 0 0 0 0 0 1 0 0 0 0\n 0 0 1 0 0 1 0 0 0 0 0 0 1 0 0 0 0 1 0 1 0 1 1 0 0 0 0 0 1 0 0 0 1 0 0 0 0\n 0 1 1 1 0 0 0 0 0 0 0 0 0 0 0 0 0 0 0 0 0 0 1 0 0 0 1 0 0 0 1 0 0 0 0 0 1\n 0 0 0 0 1 0 0 0 0 0 0 0 0 0 0 0 0 1 0 0 0 0 0 0 0 0 1 0 0 0 0 0 0 0 0 1 0\n 0 0 0 0 0 0 1 0 0 0 0 0 1 0 0 0 0 0 0 0 0 0 1 0 0 0 0 0 0 0 0 0 0 0 0 0 0\n 0 0 0 1 0 0 0 0 0 0 0 0 0 1 0 1 0 0 0 0 0 0 0 1 0 1 0 0 0 0 0 0 0 0 1 0 0\n 0 0 0 0 0 1 0 1 0 0 0 0 0 1 1 0 0 1 0 0 0 0 0 0 0 0 0 1 0 0 0 0 0 0 1 0 0\n 0 0 1 0 0 0 0 0 1 0 1 0 0 0 0 0 0 0 0 1 0 0 0 1 0 1 0 0 0 0 0 0 0 0 0 0 0\n 1 0 1 0 1 0 0 0 0 0 0 0 0 0 0 0 0 0 0 1 0 0 0 0 0 1 0 0 0 0 0 0 1 0 0 0 0\n 0 0 0 0 0 0 0 0 0 0 0 0 0 0 0 0 0 0 0 0 0 1 0 0 0 0 0 0 1 0 0 0 0 0 0 1 0\n 0 0 1 0 0 1 0 0 0 0 0 1 0 0 0 1 0 0 0 0 0 0 0 1 0 0 0 0 1 1 0 0 0 0 0 0 1\n 0 1 0]\n"
        }
      ],
      "execution_count": 50,
      "metadata": {}
    },
    {
      "cell_type": "markdown",
      "source": [
        "### Register the Model \n",
        "\n",
        "Using the Python SDK V2 - we can register the Model for use.  \n",
        "\n",
        "Parameters for model registration include:\n",
        "\n",
        "- `path` - A remote uri or local path pointing at the model\n",
        "- `name` - A string value\n",
        "- `description` - A description for the model\n",
        "- `type` - valid values include: \n",
        "    - \"custom_model\"\n",
        "    - \"mlflow_model\" \n",
        "    - \"triton_model\".  \n",
        "    \n",
        "* Instead of typing out the `type`, you can use the AssetTypes in the namespace azure.ai.ml.constants as we have done below\n",
        "\n",
        "\n"
      ],
      "metadata": {}
    },
    {
      "cell_type": "code",
      "source": [
        "from azure.ai.ml.entities import Model\n",
        "from azure.ai.ml.constants import AssetTypes\n",
        "\n",
        "run_model = Model(\n",
        "    path=f\"runs:/{last_run.info.run_id}/model\",\n",
        "    name=\"titanic_model\",\n",
        "    description=\"Model created from run.\",\n",
        "    type=AssetTypes.MLFLOW_MODEL \n",
        ")\n",
        "\n",
        "ml_client.models.create_or_update(run_model) "
      ],
      "outputs": [
        {
          "output_type": "execute_result",
          "execution_count": 51,
          "data": {
            "text/plain": "Model({'job_name': 'neat_yacht_926fmgfmjf', 'is_anonymous': False, 'auto_increment_version': False, 'name': 'titanic_model', 'description': 'Model created from run.', 'tags': {}, 'properties': {}, 'id': '/subscriptions/5da07161-3770-4a4b-aa43-418cbbb627cf/resourceGroups/aml-workspace-rg/providers/Microsoft.MachineLearningServices/workspaces/aml-workspace/models/titanic_model/versions/40', 'base_path': './', 'creation_context': <azure.ai.ml._restclient.v2022_05_01.models._models_py3.SystemData object at 0x7f426d9a4700>, 'serialize': <msrest.serialization.Serializer object at 0x7f426d963ee0>, 'version': '40', 'latest_version': None, 'path': 'azureml://subscriptions/5da07161-3770-4a4b-aa43-418cbbb627cf/resourceGroups/aml-workspace-rg/workspaces/aml-workspace/datastores/workspaceartifactstore/paths/ExperimentRun/dcid.neat_yacht_926fmgfmjf/model', 'utc_time_created': None, 'flavors': None, 'arm_type': 'model_version', 'type': 'mlflow_model'})"
          },
          "metadata": {}
        }
      ],
      "execution_count": 51,
      "metadata": {}
    },
    {
      "cell_type": "markdown",
      "source": [
        "## Hyperparameter Sweep\n",
        "\n",
        "Configure your experiment to tune your hyperparameters.  The parameters can be discrete or continuous values."
      ],
      "metadata": {}
    },
    {
      "cell_type": "markdown",
      "source": [
        "### Sweep Function\n",
        "The Sweep Function allows you to define:\n",
        "\n",
        "  - for the job `sampling_algorithm` to be \n",
        "    - random\n",
        "    - grid\n",
        "    - bayesian\n",
        "  - `objective`: \n",
        "    - primary_metric - the metric must be loggin the the training script using mflow.log_metric()\n",
        "    - goal - the optimzation goal of the objective.primary_metric\n",
        "      - maximize\n",
        "      - minimize\n",
        "  - `compute` - name of the compute target to excute the job on\n",
        "  - `limits` - limits for the sweep job\n",
        "\n",
        "The **Best Child Run** on the Overview screen will show you the best performing child run."
      ],
      "metadata": {}
    },
    {
      "cell_type": "markdown",
      "source": [
        "## Update Script to take hyperparameters\n",
        "\n",
        "We will update the script a bit, and now take in hyperparameters.\n",
        "\n",
        "```\n",
        "parser.add_argument(\"--penalty-term\", type=str, default='l1')\n",
        "parser.add_argument(\"--C\", type=float, default=0.01)\n",
        "parser.add_argument(\"--max-iter\", type=int, default=100)\n",
        "```\n",
        "\n",
        "We have also updated the script to include additional logging so you can gain familiarity with mlflow logging if you are not already familiar.\n"
      ],
      "metadata": {}
    },
    {
      "cell_type": "code",
      "source": [
        "import os\n",
        "script_folder = os.path.join(os.getcwd(), \"hyperparametertune\")\n",
        "print(script_folder)\n",
        "os.makedirs(script_folder, exist_ok=True)"
      ],
      "outputs": [
        {
          "output_type": "stream",
          "name": "stdout",
          "text": "/mnt/batch/tasks/shared/LS_root/mounts/clusters/memasanz9/code/Users/memasanz/ML-Engineering-with-Azure-Machine-Learning-Service/Chapter4/hyperparametertune\n"
        }
      ],
      "execution_count": 52,
      "metadata": {}
    },
    {
      "cell_type": "code",
      "source": [
        "%%writefile ./hyperparametertune/main.py\n",
        "import os\n",
        "import mlflow\n",
        "import argparse\n",
        "from mlflow.tracking import MlflowClient\n",
        "import pandas as pd\n",
        "import matplotlib.pyplot as plt\n",
        "import mlflow\n",
        "import numpy as np\n",
        "from sklearn.compose import ColumnTransformer\n",
        "from sklearn.impute import SimpleImputer\n",
        "from sklearn.linear_model import LogisticRegression\n",
        "from sklearn.model_selection import train_test_split\n",
        "from sklearn.pipeline import Pipeline\n",
        "from sklearn.preprocessing import OneHotEncoder, StandardScaler, LabelEncoder, MinMaxScaler\n",
        "from sklearn.metrics import roc_auc_score,roc_curve\n",
        "\n",
        "import mlflow\n",
        "import mlflow.sklearn\n",
        "from sklearn.metrics import accuracy_score, precision_score, recall_score\n",
        "\n",
        "\n",
        "# define functions\n",
        "def main(args):\n",
        "    # enable auto logging\n",
        "    current_run = mlflow.start_run()\n",
        "    mlflow.sklearn.autolog()\n",
        "\n",
        "    # read in data\n",
        "    df = pd.read_csv(args.titanic_csv)\n",
        "    model = model_train('Survived', df, args.penalty_term, args.C, args.max_iter, args.randomstate)\n",
        "\n",
        "def fetch_logged_data(run_id):\n",
        "    client = mlflow.tracking.MlflowClient()\n",
        "    data = client.get_run(run_id).data\n",
        "    tags = {k: v for k, v in data.tags.items() if not k.startswith(\"mlflow.\")}\n",
        "    artifacts = [f.path for f in client.list_artifacts(run_id, \"model\")]\n",
        "    return data.params, data.metrics, tags, artifacts\n",
        "\n",
        "def model_train(LABEL, df, penalty_term, C, max_iter, randomstate):\n",
        "    print('df.columns = ')\n",
        "    print(df.columns)\n",
        "    y_raw           = df[LABEL]\n",
        "    columns_to_keep = ['Embarked', 'Loc', 'Sex','Pclass', 'Age', 'Fare', 'GroupSize']\n",
        "    X_raw           = df[columns_to_keep]\n",
        "    \n",
        "    print(X_raw.columns)\n",
        "     # Train test split\n",
        "\n",
        "    X_train, X_test, y_train, y_test = train_test_split(X_raw, y_raw, test_size=0.2, shuffle=randomstate)\n",
        "    \n",
        "    #use Logistic Regression estimator from scikit learn\n",
        "    \n",
        "    lg = LogisticRegression(penalty=penalty_term, C=C, max_iter=max_iter, solver='liblinear')\n",
        "    preprocessor = buildpreprocessorpipeline(X_train)\n",
        "    \n",
        "    #estimator instance\n",
        "    clf = Pipeline(steps=[('preprocessor', preprocessor),\n",
        "                               ('regressor', lg)], verbose=True)\n",
        "\n",
        "    model = clf.fit(X_train, y_train)\n",
        "    \n",
        "    \n",
        "    y_pred = model.predict(X_test)\n",
        "    \n",
        "    #get the active run.\n",
        "    run = mlflow.active_run()\n",
        "    print(\"Active run_id: {}\".format(run.info.run_id))\n",
        "    \n",
        "\n",
        "    y_scores = model.predict_proba(X_test)\n",
        "    auc = roc_auc_score(y_test,y_scores[:,1])\n",
        "    y_hat = model.predict(X_test)\n",
        "    acc = np.average(y_hat == y_test)\n",
        "\n",
        "    \n",
        "    MlflowClient().log_metric(run.info.run_id, \"test_AUC\", auc)\n",
        "    MlflowClient().log_metric(run.info.run_id, \"test_ACC\", acc)\n",
        "    metrics = mlflow.sklearn.eval_and_log_metrics(model, X_test, y_test, prefix=\"test_\")\n",
        "    \n",
        "    params, metrics, tags, artifacts = fetch_logged_data(run.info.run_id)\n",
        "    \n",
        "    print('******************************')\n",
        "    print(params)\n",
        "    print('******************************')\n",
        "    print(metrics)\n",
        "    print('******************************')\n",
        "    \n",
        "    return model\n",
        "\n",
        "    mlflow.end_run()\n",
        "\n",
        "\n",
        "def buildpreprocessorpipeline(X_raw):\n",
        "\n",
        "    categorical_features = X_raw.select_dtypes(include=['object', 'bool']).columns\n",
        "    numeric_features = X_raw.select_dtypes(include=['float','int64']).columns\n",
        "\n",
        "    categorical_transformer = Pipeline(steps=[('imputer', SimpleImputer(strategy='constant', fill_value=\"missing\")),\n",
        "                                              ('onehotencoder', OneHotEncoder(categories='auto', sparse=False, handle_unknown='ignore'))])\n",
        "    \n",
        "    numeric_transformer = Pipeline(steps=[('scaler', StandardScaler())])\n",
        "    \n",
        "    preprocessor = ColumnTransformer(\n",
        "        transformers=[\n",
        "            ('numeric', numeric_transformer, numeric_features),\n",
        "            ('categorical', categorical_transformer, categorical_features)\n",
        "        ], remainder=\"passthrough\")\n",
        "    \n",
        "    \n",
        "    return preprocessor\n",
        "\n",
        "\n",
        "\n",
        "def parse_args():\n",
        "    # setup arg parser\n",
        "    parser = argparse.ArgumentParser()\n",
        "\n",
        "    # add arguments\n",
        "    parser.add_argument(\"--titanic-csv\", type=str)\n",
        "    parser.add_argument(\"--penalty-term\", type=str, default='l1')\n",
        "    parser.add_argument(\"--C\", type=float, default=0.01)\n",
        "    parser.add_argument(\"--max-iter\", type=int, default=100)\n",
        "    parser.add_argument(\"--randomstate\", type=int, default=42)\n",
        "\n",
        "    # parse args\n",
        "    args = parser.parse_args()\n",
        "    print(args)\n",
        "    # return args\n",
        "    return args\n",
        "\n",
        "\n",
        "# run script\n",
        "if __name__ == \"__main__\":\n",
        "    # parse args\n",
        "    args = parse_args()\n",
        "\n",
        "    # run main function\n",
        "    main(args)"
      ],
      "outputs": [
        {
          "output_type": "stream",
          "name": "stdout",
          "text": "Overwriting ./hyperparametertune/main.py\n"
        }
      ],
      "execution_count": 53,
      "metadata": {}
    },
    {
      "cell_type": "markdown",
      "source": [
        "## Grid Sampling"
      ],
      "metadata": {}
    },
    {
      "cell_type": "code",
      "source": [
        "from azure.ai.ml.sweep import Choice, Uniform, MedianStoppingPolicy, BanditPolicy, TruncationSelectionPolicy\n",
        "\n",
        "gridsamplingjobcommand = command(\n",
        "    code=\"./hyperparametertune\",  # local path where the code is stored\n",
        "    command=\"python main.py --titanic ${{inputs.titanic}} --randomstate ${{inputs.randomstate}}\",\n",
        "    inputs={\n",
        "        \"titanic\": Input(\n",
        "            type=\"uri_file\",\n",
        "            path=\"azureml:titanic_prepped:1\",\n",
        "        ),\n",
        "        \"randomstate\": 0,\n",
        "        \"penalty_term\": 'l1',\n",
        "        \"C\": 0.01,\n",
        "        \"max_iter\": 100,\n",
        "    },\n",
        "    environment=\"job_base_env@latest\",\n",
        "    compute=\"cpu-cluster\",\n",
        "    display_name=\"GridSampling\",\n",
        ")\n",
        "\n",
        "#Set Parameter expressions\n",
        "grid_command_job_for_sweep = gridsamplingjobcommand(\n",
        "    penalty_term=Choice(values=['l2', 'l1']),\n",
        "    C=Choice(values=[0.01, .1, 1.0, 10]),\n",
        "    max_iter=Choice(values=[10, 100, 150, 200]),\n",
        ")"
      ],
      "outputs": [],
      "execution_count": 54,
      "metadata": {}
    },
    {
      "cell_type": "code",
      "source": [
        "# apply the sweep parameter to obtain the sweep_job\n",
        "grid_sweep_job = grid_command_job_for_sweep.sweep(\n",
        "    compute=\"cpu-cluster\",\n",
        "    sampling_algorithm=\"grid\",\n",
        "    primary_metric=\"test_AUC\",\n",
        "    goal=\"Maximize\",\n",
        ")\n",
        "\n",
        "#2*4*4 = 32 trial runs, but we will explicity set the max total trials, to see it is not exceeded\n",
        "grid_sweep_job.set_limits(max_total_trials=60, \n",
        "                     max_concurrent_trials=10, \n",
        "                     timeout=7200)\n"
      ],
      "outputs": [],
      "execution_count": 55,
      "metadata": {}
    },
    {
      "cell_type": "code",
      "source": [
        "# submit the sweep\n",
        "returned_sweep_job = ml_client.create_or_update(grid_sweep_job)\n",
        "# get a URL for the status of the job\n",
        "returned_sweep_job.services[\"Studio\"].endpoint"
      ],
      "outputs": [
        {
          "output_type": "execute_result",
          "execution_count": 56,
          "data": {
            "text/plain": "'https://ml.azure.com/runs/goofy_calypso_4w4h6273f4?wsid=/subscriptions/5da07161-3770-4a4b-aa43-418cbbb627cf/resourcegroups/aml-workspace-rg/workspaces/aml-workspace&tid=72f988bf-86f1-41af-91ab-2d7cd011db47'"
          },
          "metadata": {}
        }
      ],
      "execution_count": 56,
      "metadata": {}
    },
    {
      "cell_type": "code",
      "source": [
        "returned_sweep_job"
      ],
      "outputs": [
        {
          "output_type": "execute_result",
          "execution_count": 57,
          "data": {
            "text/html": "<table style=\"width:100%\"><tr><th>Experiment</th><th>Name</th><th>Type</th><th>Status</th><th>Details Page</th></tr><tr><td>Chapter4</td><td>goofy_calypso_4w4h6273f4</td><td>sweep</td><td>Running</td><td><a href=\"https://ml.azure.com/runs/goofy_calypso_4w4h6273f4?wsid=/subscriptions/5da07161-3770-4a4b-aa43-418cbbb627cf/resourcegroups/aml-workspace-rg/workspaces/aml-workspace&amp;tid=72f988bf-86f1-41af-91ab-2d7cd011db47\" target=\"_blank\" rel=\"noopener\">Link to Azure Machine Learning studio</a></td></tr></table>",
            "text/plain": "SweepJob({'type': 'sweep', 'status': 'Running', 'log_files': None, 'name': 'goofy_calypso_4w4h6273f4', 'description': None, 'tags': {'_aml_system_max_concurrent_jobs': '10', '_aml_system_max_total_jobs': '60', '_aml_system_max_duration_minutes': '120', '_aml_system_policy_config': '{\"name\":\"Default\",\"properties\":{}}', '_aml_system_generator_config': '{\"name\":\"GRID\",\"parameter_space\":{\"penalty_term\":[\"choice\",[[\"l2\",\"l1\"]]],\"C\":[\"choice\",[[0.01,0.1,1.0,10]]],\"max_iter\":[\"choice\",[[10,100,150,200]]]},\"properties\":{}}', '_aml_system_primary_metric_config': '{\"name\":\"test_AUC\",\"goal\":\"maximize\"}', '_aml_system_platform_config': '{\"ServiceAddress\":\"https://eastus.api.azureml.ms\",\"SubscriptionId\":\"5da07161-3770-4a4b-aa43-418cbbb627cf\",\"ResourceGroupName\":\"aml-workspace-rg\",\"WorkspaceName\":\"aml-workspace\",\"ExperimentName\":\"Chapter4\",\"Definition\":{\"Configuration\":null,\"Attribution\":null,\"TelemetryValues\":null,\"Overrides\":{\"Script\":null,\"Command\":\"python main.py --titanic ${{inputs.titanic}} --randomstate ${{inputs.randomstate}}\",\"UseAbsolutePath\":true,\"Arguments\":[],\"SourceDirectoryDataStore\":null,\"Framework\":0,\"Target\":\"cpu-cluster\",\"DataReferences\":{},\"Data\":{\"titanic\":{\"DataLocation\":{\"Dataset\":null,\"DataPath\":null,\"Uri\":{\"Path\":\"/subscriptions/5da07161-3770-4a4b-aa43-418cbbb627cf/resourceGroups/aml-workspace-rg/providers/Microsoft.MachineLearningServices/workspaces/aml-workspace/data/titanic_prepped/versions/1\",\"IsFile\":true},\"Type\":\"UriFile\"},\"Mechanism\":\"Mount\",\"EnvironmentVariableName\":\"AZURE_ML_INPUT_titanic\",\"PathOnCompute\":null,\"Overwrite\":false,\"Options\":{\"IsEvalMode\":\"False\",\"ReadWrite\":\"False\",\"ForceFolder\":\"False\"}}},\"InputAssets\":{\"titanic\":{\"Asset\":{\"AssetId\":\"azureml://locations/eastus/workspaces/88449c92-2fa7-4734-8cc5-76e1776b55bb/data/titanic_prepped/versions/1\",\"Type\":\"UriFile\"},\"Mechanism\":\"Mount\",\"EnvironmentVariableName\":\"AZURE_ML_INPUT_titanic\",\"PathOnCompute\":null,\"Overwrite\":false,\"Options\":{\"IsEvalMode\":\"False\",\"ReadWrite\":\"False\",\"ForceFolder\":\"False\"}}},\"OutputData\":{},\"Datacaches\":[],\"JobName\":null,\"MaxRunDurationSeconds\":null,\"NodeCount\":1,\"InstanceTypes\":[],\"Priority\":null,\"CredentialPassthrough\":false,\"Identity\":null,\"Environment\":{\"Name\":\"job_base_env\",\"Version\":\"2022-07-31-20-57-13-0098422\",\"AssetId\":\"azureml://locations/eastus/workspaces/88449c92-2fa7-4734-8cc5-76e1776b55bb/environments/job_base_env/versions/2022-07-31-20-57-13-0098422\",\"Python\":{\"InterpreterPath\":null,\"UserManagedDependencies\":false,\"CondaDependencies\":{\"dependencies\":[\"python=3.8.5\",\"scikit-learn\",\"ipykernel\",\"matplotlib\",\"pandas\",\"pip\",{\"pip\":[\"azureml-defaults\",\"pyarrow\",\"azureml-mlflow==1.43.0.post1\",\"azure-ai-ml\",\"mltable\"]}],\"name\":\"job_env\"},\"BaseCondaEnvironment\":null},\"EnvironmentVariables\":{},\"Docker\":{\"BaseImage\":\"mcr.microsoft.com/azureml/openmpi3.1.2-ubuntu18.04\",\"Platform\":{\"Os\":\"Linux\",\"Architecture\":\"amd64\"},\"BaseDockerfile\":null,\"BaseImageRegistry\":null},\"Spark\":{\"Repositories\":[],\"Packages\":[],\"PrecachePackages\":true},\"InferencingStackVersion\":null},\"History\":{\"OutputCollection\":true,\"DirectoriesToWatch\":[\"logs\"],\"EnableMLflowTracking\":true},\"Spark\":{\"Configuration\":{}},\"ParallelTask\":{\"MaxRetriesPerWorker\":0,\"WorkerCountPerNode\":1,\"TerminalExitCodes\":null,\"Configuration\":{}},\"BatchAi\":{\"NodeCount\":0},\"AmlCompute\":{\"Name\":null,\"VmSize\":null,\"RetainCluster\":false,\"ClusterMaxNodeCount\":null},\"AISuperComputer\":{\"InstanceType\":\"D2\",\"FrameworkImage\":null,\"ImageVersion\":\"pytorch-1.7.0\",\"Location\":null,\"AISuperComputerStorageData\":null,\"Interactive\":false,\"ScalePolicy\":null,\"VirtualClusterArmId\":null,\"TensorboardLogDirectory\":null,\"SSHPublicKey\":null,\"SSHPublicKeys\":null,\"EnableAzmlInt\":true,\"Priority\":\"Medium\",\"SLATier\":\"Standard\",\"UserAlias\":null},\"KubernetesCompute\":{\"InstanceType\":null},\"Tensorflow\":{\"WorkerCount\":0,\"ParameterServerCount\":0},\"Mpi\":{\"ProcessCountPerNode\":0},\"PyTorch\":{\"CommunicationBackend\":null,\"ProcessCount\":null},\"Hdi\":{\"YarnDeployMode\":0},\"ContainerInstance\":{\"Region\":null,\"CpuCores\":2.0,\"MemoryGb\":3.5},\"ExposedPorts\":null,\"Docker\":{\"UseDocker\":true,\"SharedVolumes\":null,\"ShmSize\":null,\"Arguments\":null},\"Cmk8sCompute\":{\"Configuration\":{}},\"CommandReturnCodeConfig\":{\"ReturnCode\":0,\"SuccessfulReturnCodes\":[]},\"EnvironmentVariables\":{},\"ApplicationEndpoints\":{},\"Parameters\":[{\"Name\":\"randomstate\",\"Type\":null,\"Value\":\"0\",\"IsOptional\":false}]},\"SnapshotId\":\"c8492dd9-e2d9-4345-9b18-6a954c3fc23e\",\"Snapshots\":[],\"SourceCodeDataReference\":null,\"ParentRunId\":null,\"DataContainerId\":null,\"RunType\":null,\"DisplayName\":\"GridSampling\",\"EnvironmentAssetId\":null,\"Properties\":{\"mlflow.source.git.repoURL\":\"https://github.com/PacktPublishing/Azure-Machine-Learning-Engineering.git\",\"mlflow.source.git.branch\":\"main\",\"azureml.git.dirty\":\"True\"},\"Tags\":{},\"AggregatedArtifactPath\":null},\"ParentRunId\":\"goofy_calypso_4w4h6273f4\"}', '_aml_system_resume_child_runs': 'null', '_aml_system_all_jobs_generated': 'false', '_aml_system_cancellation_requested': 'false'}, 'properties': {'primary_metric_config': '{\"name\":\"test_AUC\",\"goal\":\"maximize\"}', 'resume_from': 'null', 'runTemplate': 'HyperDrive', 'azureml.runsource': 'hyperdrive', 'platform': 'AML', 'ContentSnapshotId': 'c8492dd9-e2d9-4345-9b18-6a954c3fc23e', 'user_agent': 'managementfrontend/a36d08b19818dc74f1c0c3ef9fd5c12a91e1826e', 'mlflow.source.git.repoURL': 'https://github.com/PacktPublishing/Azure-Machine-Learning-Engineering.git', 'mlflow.source.git.branch': 'main', 'azureml.git.dirty': 'True'}, 'id': '/subscriptions/5da07161-3770-4a4b-aa43-418cbbb627cf/resourceGroups/aml-workspace-rg/providers/Microsoft.MachineLearningServices/workspaces/aml-workspace/jobs/goofy_calypso_4w4h6273f4', 'base_path': './', 'creation_context': <azure.ai.ml._restclient.v2022_02_01_preview.models._models_py3.SystemData object at 0x7f426d906ca0>, 'serialize': <msrest.serialization.Serializer object at 0x7f426d906730>, 'sampling_algorithm': <azure.ai.ml.entities._job.sweep.sampling_algorithm.RandomSamplingAlgorithm object at 0x7f426d963e50>, 'early_termination': None, 'limits': <azure.ai.ml.entities._job.job_limits.SweepJobLimits object at 0x7f426d906490>, 'search_space': {'penalty_term': <azure.ai.ml.entities._job.sweep.search_space.Choice object at 0x7f426d963e80>, 'C': <azure.ai.ml.entities._job.sweep.search_space.Choice object at 0x7f426d963d30>, 'max_iter': <azure.ai.ml.entities._job.sweep.search_space.Choice object at 0x7f426d963a90>}, 'objective': <azure.ai.ml._restclient.v2022_02_01_preview.models._models_py3.Objective object at 0x7f426d969820>, 'display_name': 'GridSampling', 'experiment_name': 'Chapter4', 'compute': 'cpu-cluster', 'services': {'Studio': <azure.ai.ml._restclient.v2022_02_01_preview.models._models_py3.JobService object at 0x7f426d906be0>}, 'inputs': {'titanic': {'type': 'uri_file', 'path': 'azureml://locations/eastus/workspaces/88449c92-2fa7-4734-8cc5-76e1776b55bb/data/titanic_prepped/versions/1', 'mode': 'ro_mount'}, 'randomstate': '0'}, 'outputs': {'default': {'type': 'uri_folder', 'path': 'azureml://datastores/workspaceartifactstore/ExperimentRun/dcid.goofy_calypso_4w4h6273f4', 'mode': 'rw_mount'}}, 'trial': <azure.ai.ml.entities._job.parameterized_command.ParameterizedCommand object at 0x7f426d963e20>, 'identity': None})"
          },
          "metadata": {}
        }
      ],
      "execution_count": 57,
      "metadata": {}
    },
    {
      "cell_type": "code",
      "source": [
        "runid = returned_sweep_job.name\n",
        "print('runid:' + runid)\n",
        "experiment = returned_job.experiment_name\n",
        "print(\"experiment:\" + experiment)\n",
        "\n",
        "current_experiment=dict(mlflow.get_experiment_by_name(experiment))\n",
        "experiment_id=current_experiment['experiment_id']\n",
        "print(experiment_id)"
      ],
      "outputs": [
        {
          "output_type": "stream",
          "name": "stdout",
          "text": "runid:goofy_calypso_4w4h6273f4\nexperiment:Chapter4\nf216050c-8943-43ca-99d0-59e50e104202\n"
        }
      ],
      "execution_count": 58,
      "metadata": {}
    },
    {
      "cell_type": "code",
      "source": [
        "def getStatus(experiment_id, runid):\n",
        "    df = mlflow.search_runs([experiment_id])\n",
        "    rslt_df = df[(df['tags.mlflow.parentRunId'] == runid )]\n",
        "    rslt_df_finished = rslt_df[rslt_df['status'] == 'FINISHED']\n",
        "\n",
        "    while rslt_df.shape[0] == 0:\n",
        "        print('waiting for jobs to register')\n",
        "        df = mlflow.search_runs([experiment_id])\n",
        "        rslt_df = df[(df['tags.mlflow.parentRunId'] == runid )]\n",
        "        rslt_df_finished = rslt_df[rslt_df['status'] == 'FINISHED']\n",
        "        time.sleep(5)\n",
        "\n",
        "    while rslt_df_finished.shape[0] != rslt_df.shape[0]:\n",
        "        df = mlflow.search_runs([experiment_id])\n",
        "        rslt_df = df[(df['tags.mlflow.parentRunId'] == runid )]\n",
        "        rslt_df_finished = rslt_df[rslt_df['status'] == 'FINISHED']\n",
        "        status = rslt_df[\"status\"].unique()\n",
        "        print(status)\n",
        "        for x in status:\n",
        "            rslt_df_status = rslt_df[rslt_df['status'] == x]\n",
        "            print(returned_sweep_job.display_name + ', Number:' + str(x) + \" \" +  str(rslt_df_status.shape[0]))\n",
        "        time.sleep(5)\n",
        "\n",
        "    print('Sweep Job for run:' + runid + ' Complete')\n",
        "    \n",
        "getStatus(experiment_id, runid)"
      ],
      "outputs": [
        {
          "output_type": "stream",
          "name": "stdout",
          "text": "['RUNNING' 'SCHEDULED']\nGridSampling, Number:RUNNING 4\nGridSampling, Number:SCHEDULED 6\n['RUNNING' 'SCHEDULED']\nGridSampling, Number:RUNNING 4\nGridSampling, Number:SCHEDULED 6\n['FINISHED' 'RUNNING' 'SCHEDULED']\nGridSampling, Number:FINISHED 4\nGridSampling, Number:RUNNING 3\nGridSampling, Number:SCHEDULED 3\n['FINISHED' 'SCHEDULED' 'RUNNING']\nGridSampling, Number:FINISHED 5\nGridSampling, Number:SCHEDULED 2\nGridSampling, Number:RUNNING 3\n['FINISHED' 'RUNNING' 'SCHEDULED']\nGridSampling, Number:FINISHED 8\nGridSampling, Number:RUNNING 1\nGridSampling, Number:SCHEDULED 1\n['FINISHED' 'RUNNING']\nGridSampling, Number:FINISHED 9\nGridSampling, Number:RUNNING 1\n['FINISHED' 'SCHEDULED' 'RUNNING']\nGridSampling, Number:FINISHED 10\nGridSampling, Number:SCHEDULED 1\nGridSampling, Number:RUNNING 4\n['FINISHED' 'SCHEDULED' 'RUNNING']\nGridSampling, Number:FINISHED 10\nGridSampling, Number:SCHEDULED 1\nGridSampling, Number:RUNNING 4\n['FINISHED' 'RUNNING' 'SCHEDULED']\nGridSampling, Number:FINISHED 14\nGridSampling, Number:RUNNING 4\nGridSampling, Number:SCHEDULED 1\n['FINISHED' 'RUNNING' 'SCHEDULED']\nGridSampling, Number:FINISHED 15\nGridSampling, Number:RUNNING 3\nGridSampling, Number:SCHEDULED 1\n['FINISHED' 'RUNNING' 'SCHEDULED']\nGridSampling, Number:FINISHED 18\nGridSampling, Number:RUNNING 3\nGridSampling, Number:SCHEDULED 1\n['FINISHED' 'RUNNING']\nGridSampling, Number:FINISHED 19\nGridSampling, Number:RUNNING 3\n['FINISHED' 'RUNNING' 'SCHEDULED']\nGridSampling, Number:FINISHED 21\nGridSampling, Number:RUNNING 2\nGridSampling, Number:SCHEDULED 3\n['FINISHED' 'RUNNING']\nGridSampling, Number:FINISHED 22\nGridSampling, Number:RUNNING 4\n['FINISHED' 'RUNNING' 'SCHEDULED']\nGridSampling, Number:FINISHED 25\nGridSampling, Number:RUNNING 2\nGridSampling, Number:SCHEDULED 3\n['FINISHED' 'RUNNING']\nGridSampling, Number:FINISHED 27\nGridSampling, Number:RUNNING 3\n['FINISHED' 'RUNNING' 'SCHEDULED']\nGridSampling, Number:FINISHED 28\nGridSampling, Number:RUNNING 3\nGridSampling, Number:SCHEDULED 1\n['FINISHED' 'RUNNING']\nGridSampling, Number:FINISHED 31\nGridSampling, Number:RUNNING 1\n['FINISHED' 'RUNNING']\nGridSampling, Number:FINISHED 31\nGridSampling, Number:RUNNING 1\n['FINISHED']\nGridSampling, Number:FINISHED 32\nSweep Job for run:goofy_calypso_4w4h6273f4 Complete\n"
        }
      ],
      "execution_count": 59,
      "metadata": {}
    },
    {
      "cell_type": "markdown",
      "source": [
        "## Random Sampling"
      ],
      "metadata": {}
    },
    {
      "cell_type": "code",
      "source": [
        "from azure.ai.ml.sweep import Choice, Uniform, MedianStoppingPolicy, BanditPolicy, TruncationSelectionPolicy\n",
        "\n",
        "randomsamplingjobcommand = command(\n",
        "    code=\"./hyperparametertune\",  # local path where the code is stored\n",
        "    command=\"python main.py --titanic ${{inputs.titanic}} --randomstate ${{inputs.randomstate}}\",\n",
        "    inputs={\n",
        "        \"titanic\": Input(\n",
        "            type=\"uri_file\",\n",
        "            path=\"azureml:titanic_prepped:1\",\n",
        "        ),\n",
        "        \"randomstate\": 0,\n",
        "        \"penalty_term\": 'l1',\n",
        "        \"C\": 0.01,\n",
        "        \"max_iter\": 100,\n",
        "    },\n",
        "    environment=\"job_base_env@latest\",\n",
        "    compute=\"cpu-cluster\",\n",
        "    display_name=\"RandomSampling\",\n",
        ")\n",
        "\n",
        "# #Set Parameter expressions\n",
        "# #choice, randint, qlognormal, qnormal, qloguniform, quniform, lognormal, normal, loguniform, uniform\n",
        "random_command_job_for_sweep = randomsamplingjobcommand(\n",
        "    penalty_term=Choice(values=['l2', 'l1']),\n",
        "    C=Uniform(min_value=0.01, max_value=10.0),\n",
        "    max_iter=Choice(values=[10, 100, 150, 200]),\n",
        ")"
      ],
      "outputs": [],
      "execution_count": 60,
      "metadata": {}
    },
    {
      "cell_type": "code",
      "source": [
        "# apply the sweep parameter to obtain the sweep_job\n",
        "random_sweep_job = random_command_job_for_sweep.sweep(\n",
        "    compute=\"cpu-cluster\",\n",
        "    sampling_algorithm=\"random\",\n",
        "    primary_metric=\"test_AUC\",\n",
        "    goal=\"Maximize\",\n",
        ")\n",
        "\n",
        "random_sweep_job.set_limits(max_total_trials=120, \n",
        "                     max_concurrent_trials=10, \n",
        "                     timeout=7200)"
      ],
      "outputs": [],
      "execution_count": 61,
      "metadata": {}
    },
    {
      "cell_type": "code",
      "source": [
        "# submit the sweep\n",
        "returned_sweep_job = ml_client.create_or_update(random_sweep_job)\n",
        "# get a URL for the status of the job\n",
        "returned_sweep_job.services[\"Studio\"].endpoint"
      ],
      "outputs": [
        {
          "output_type": "execute_result",
          "execution_count": 62,
          "data": {
            "text/plain": "'https://ml.azure.com/runs/loving_table_vtzr4wgbx0?wsid=/subscriptions/5da07161-3770-4a4b-aa43-418cbbb627cf/resourcegroups/aml-workspace-rg/workspaces/aml-workspace&tid=72f988bf-86f1-41af-91ab-2d7cd011db47'"
          },
          "metadata": {}
        }
      ],
      "execution_count": 62,
      "metadata": {}
    },
    {
      "cell_type": "code",
      "source": [
        "returned_sweep_job"
      ],
      "outputs": [
        {
          "output_type": "execute_result",
          "execution_count": 63,
          "data": {
            "text/html": "<table style=\"width:100%\"><tr><th>Experiment</th><th>Name</th><th>Type</th><th>Status</th><th>Details Page</th></tr><tr><td>Chapter4</td><td>loving_table_vtzr4wgbx0</td><td>sweep</td><td>Running</td><td><a href=\"https://ml.azure.com/runs/loving_table_vtzr4wgbx0?wsid=/subscriptions/5da07161-3770-4a4b-aa43-418cbbb627cf/resourcegroups/aml-workspace-rg/workspaces/aml-workspace&amp;tid=72f988bf-86f1-41af-91ab-2d7cd011db47\" target=\"_blank\" rel=\"noopener\">Link to Azure Machine Learning studio</a></td></tr></table>",
            "text/plain": "SweepJob({'type': 'sweep', 'status': 'Running', 'log_files': None, 'name': 'loving_table_vtzr4wgbx0', 'description': None, 'tags': {'_aml_system_max_concurrent_jobs': '10', '_aml_system_max_total_jobs': '120', '_aml_system_max_duration_minutes': '120', '_aml_system_policy_config': '{\"name\":\"Default\",\"properties\":{}}', '_aml_system_generator_config': '{\"name\":\"RANDOM\",\"parameter_space\":{\"penalty_term\":[\"choice\",[[\"l2\",\"l1\"]]],\"C\":[\"uniform\",[0.01,10.0]],\"max_iter\":[\"choice\",[[10,100,150,200]]]},\"properties\":{\"rule\":\"Random\",\"seed\":null}}', '_aml_system_primary_metric_config': '{\"name\":\"test_AUC\",\"goal\":\"maximize\"}', '_aml_system_platform_config': '{\"ServiceAddress\":\"https://eastus.api.azureml.ms\",\"SubscriptionId\":\"5da07161-3770-4a4b-aa43-418cbbb627cf\",\"ResourceGroupName\":\"aml-workspace-rg\",\"WorkspaceName\":\"aml-workspace\",\"ExperimentName\":\"Chapter4\",\"Definition\":{\"Configuration\":null,\"Attribution\":null,\"TelemetryValues\":null,\"Overrides\":{\"Script\":null,\"Command\":\"python main.py --titanic ${{inputs.titanic}} --randomstate ${{inputs.randomstate}}\",\"UseAbsolutePath\":true,\"Arguments\":[],\"SourceDirectoryDataStore\":null,\"Framework\":0,\"Target\":\"cpu-cluster\",\"DataReferences\":{},\"Data\":{\"titanic\":{\"DataLocation\":{\"Dataset\":null,\"DataPath\":null,\"Uri\":{\"Path\":\"/subscriptions/5da07161-3770-4a4b-aa43-418cbbb627cf/resourceGroups/aml-workspace-rg/providers/Microsoft.MachineLearningServices/workspaces/aml-workspace/data/titanic_prepped/versions/1\",\"IsFile\":true},\"Type\":\"UriFile\"},\"Mechanism\":\"Mount\",\"EnvironmentVariableName\":\"AZURE_ML_INPUT_titanic\",\"PathOnCompute\":null,\"Overwrite\":false,\"Options\":{\"IsEvalMode\":\"False\",\"ReadWrite\":\"False\",\"ForceFolder\":\"False\"}}},\"InputAssets\":{\"titanic\":{\"Asset\":{\"AssetId\":\"azureml://locations/eastus/workspaces/88449c92-2fa7-4734-8cc5-76e1776b55bb/data/titanic_prepped/versions/1\",\"Type\":\"UriFile\"},\"Mechanism\":\"Mount\",\"EnvironmentVariableName\":\"AZURE_ML_INPUT_titanic\",\"PathOnCompute\":null,\"Overwrite\":false,\"Options\":{\"IsEvalMode\":\"False\",\"ReadWrite\":\"False\",\"ForceFolder\":\"False\"}}},\"OutputData\":{},\"Datacaches\":[],\"JobName\":null,\"MaxRunDurationSeconds\":null,\"NodeCount\":1,\"InstanceTypes\":[],\"Priority\":null,\"CredentialPassthrough\":false,\"Identity\":null,\"Environment\":{\"Name\":\"job_base_env\",\"Version\":\"2022-07-31-20-57-13-0098422\",\"AssetId\":\"azureml://locations/eastus/workspaces/88449c92-2fa7-4734-8cc5-76e1776b55bb/environments/job_base_env/versions/2022-07-31-20-57-13-0098422\",\"Python\":{\"InterpreterPath\":null,\"UserManagedDependencies\":false,\"CondaDependencies\":{\"dependencies\":[\"python=3.8.5\",\"scikit-learn\",\"ipykernel\",\"matplotlib\",\"pandas\",\"pip\",{\"pip\":[\"azureml-defaults\",\"pyarrow\",\"azureml-mlflow==1.43.0.post1\",\"azure-ai-ml\",\"mltable\"]}],\"name\":\"job_env\"},\"BaseCondaEnvironment\":null},\"EnvironmentVariables\":{},\"Docker\":{\"BaseImage\":\"mcr.microsoft.com/azureml/openmpi3.1.2-ubuntu18.04\",\"Platform\":{\"Os\":\"Linux\",\"Architecture\":\"amd64\"},\"BaseDockerfile\":null,\"BaseImageRegistry\":null},\"Spark\":{\"Repositories\":[],\"Packages\":[],\"PrecachePackages\":true},\"InferencingStackVersion\":null},\"History\":{\"OutputCollection\":true,\"DirectoriesToWatch\":[\"logs\"],\"EnableMLflowTracking\":true},\"Spark\":{\"Configuration\":{}},\"ParallelTask\":{\"MaxRetriesPerWorker\":0,\"WorkerCountPerNode\":1,\"TerminalExitCodes\":null,\"Configuration\":{}},\"BatchAi\":{\"NodeCount\":0},\"AmlCompute\":{\"Name\":null,\"VmSize\":null,\"RetainCluster\":false,\"ClusterMaxNodeCount\":null},\"AISuperComputer\":{\"InstanceType\":\"D2\",\"FrameworkImage\":null,\"ImageVersion\":\"pytorch-1.7.0\",\"Location\":null,\"AISuperComputerStorageData\":null,\"Interactive\":false,\"ScalePolicy\":null,\"VirtualClusterArmId\":null,\"TensorboardLogDirectory\":null,\"SSHPublicKey\":null,\"SSHPublicKeys\":null,\"EnableAzmlInt\":true,\"Priority\":\"Medium\",\"SLATier\":\"Standard\",\"UserAlias\":null},\"KubernetesCompute\":{\"InstanceType\":null},\"Tensorflow\":{\"WorkerCount\":0,\"ParameterServerCount\":0},\"Mpi\":{\"ProcessCountPerNode\":0},\"PyTorch\":{\"CommunicationBackend\":null,\"ProcessCount\":null},\"Hdi\":{\"YarnDeployMode\":0},\"ContainerInstance\":{\"Region\":null,\"CpuCores\":2.0,\"MemoryGb\":3.5},\"ExposedPorts\":null,\"Docker\":{\"UseDocker\":true,\"SharedVolumes\":null,\"ShmSize\":null,\"Arguments\":null},\"Cmk8sCompute\":{\"Configuration\":{}},\"CommandReturnCodeConfig\":{\"ReturnCode\":0,\"SuccessfulReturnCodes\":[]},\"EnvironmentVariables\":{},\"ApplicationEndpoints\":{},\"Parameters\":[{\"Name\":\"randomstate\",\"Type\":null,\"Value\":\"0\",\"IsOptional\":false}]},\"SnapshotId\":\"c8492dd9-e2d9-4345-9b18-6a954c3fc23e\",\"Snapshots\":[],\"SourceCodeDataReference\":null,\"ParentRunId\":null,\"DataContainerId\":null,\"RunType\":null,\"DisplayName\":\"RandomSampling\",\"EnvironmentAssetId\":null,\"Properties\":{\"mlflow.source.git.repoURL\":\"https://github.com/PacktPublishing/Azure-Machine-Learning-Engineering.git\",\"mlflow.source.git.branch\":\"main\",\"azureml.git.dirty\":\"True\"},\"Tags\":{},\"AggregatedArtifactPath\":null},\"ParentRunId\":\"loving_table_vtzr4wgbx0\"}', '_aml_system_resume_child_runs': 'null', '_aml_system_all_jobs_generated': 'false', '_aml_system_cancellation_requested': 'false'}, 'properties': {'primary_metric_config': '{\"name\":\"test_AUC\",\"goal\":\"maximize\"}', 'resume_from': 'null', 'runTemplate': 'HyperDrive', 'azureml.runsource': 'hyperdrive', 'platform': 'AML', 'ContentSnapshotId': 'c8492dd9-e2d9-4345-9b18-6a954c3fc23e', 'user_agent': 'managementfrontend/a36d08b19818dc74f1c0c3ef9fd5c12a91e1826e', 'mlflow.source.git.repoURL': 'https://github.com/PacktPublishing/Azure-Machine-Learning-Engineering.git', 'mlflow.source.git.branch': 'main', 'azureml.git.dirty': 'True'}, 'id': '/subscriptions/5da07161-3770-4a4b-aa43-418cbbb627cf/resourceGroups/aml-workspace-rg/providers/Microsoft.MachineLearningServices/workspaces/aml-workspace/jobs/loving_table_vtzr4wgbx0', 'base_path': './', 'creation_context': <azure.ai.ml._restclient.v2022_02_01_preview.models._models_py3.SystemData object at 0x7f4261df6970>, 'serialize': <msrest.serialization.Serializer object at 0x7f4261df65e0>, 'sampling_algorithm': <azure.ai.ml.entities._job.sweep.sampling_algorithm.RandomSamplingAlgorithm object at 0x7f4262216970>, 'early_termination': None, 'limits': <azure.ai.ml.entities._job.job_limits.SweepJobLimits object at 0x7f4261df6940>, 'search_space': {'penalty_term': <azure.ai.ml.entities._job.sweep.search_space.Choice object at 0x7f426d96cf40>, 'C': <azure.ai.ml.entities._job.sweep.search_space.Uniform object at 0x7f426d96cf10>, 'max_iter': <azure.ai.ml.entities._job.sweep.search_space.Choice object at 0x7f4261df6ca0>}, 'objective': <azure.ai.ml._restclient.v2022_02_01_preview.models._models_py3.Objective object at 0x7f4261df6490>, 'display_name': 'RandomSampling', 'experiment_name': 'Chapter4', 'compute': 'cpu-cluster', 'services': {'Studio': <azure.ai.ml._restclient.v2022_02_01_preview.models._models_py3.JobService object at 0x7f4261df63d0>}, 'inputs': {'titanic': {'type': 'uri_file', 'path': 'azureml://locations/eastus/workspaces/88449c92-2fa7-4734-8cc5-76e1776b55bb/data/titanic_prepped/versions/1', 'mode': 'ro_mount'}, 'randomstate': '0'}, 'outputs': {'default': {'type': 'uri_folder', 'path': 'azureml://datastores/workspaceartifactstore/ExperimentRun/dcid.loving_table_vtzr4wgbx0', 'mode': 'rw_mount'}}, 'trial': <azure.ai.ml.entities._job.parameterized_command.ParameterizedCommand object at 0x7f4262216430>, 'identity': None})"
          },
          "metadata": {}
        }
      ],
      "execution_count": 63,
      "metadata": {}
    },
    {
      "cell_type": "code",
      "source": [
        "runid = returned_sweep_job.name\n",
        "print('runid:' + runid)\n",
        "experiment = returned_job.experiment_name\n",
        "print(\"experiment:\" + experiment)\n",
        "\n",
        "current_experiment=dict(mlflow.get_experiment_by_name(experiment))\n",
        "experiment_id=current_experiment['experiment_id']\n",
        "print(experiment_id)"
      ],
      "outputs": [
        {
          "output_type": "stream",
          "name": "stdout",
          "text": "runid:loving_table_vtzr4wgbx0\nexperiment:Chapter4\nf216050c-8943-43ca-99d0-59e50e104202\n"
        }
      ],
      "execution_count": 64,
      "metadata": {}
    },
    {
      "cell_type": "code",
      "source": [
        "getStatus(experiment_id, runid)"
      ],
      "outputs": [
        {
          "output_type": "stream",
          "name": "stdout",
          "text": "['RUNNING' 'SCHEDULED']\nRandomSampling, Number:RUNNING 4\nRandomSampling, Number:SCHEDULED 6\n['FINISHED' 'SCHEDULED']\nRandomSampling, Number:FINISHED 4\nRandomSampling, Number:SCHEDULED 6\n['FINISHED' 'RUNNING' 'SCHEDULED']\nRandomSampling, Number:FINISHED 4\nRandomSampling, Number:RUNNING 4\nRandomSampling, Number:SCHEDULED 2\n['FINISHED' 'RUNNING' 'SCHEDULED']\nRandomSampling, Number:FINISHED 7\nRandomSampling, Number:RUNNING 1\nRandomSampling, Number:SCHEDULED 2\n['FINISHED' 'RUNNING']\nRandomSampling, Number:FINISHED 8\nRandomSampling, Number:RUNNING 2\n['FINISHED' 'RUNNING' 'SCHEDULED']\nRandomSampling, Number:FINISHED 9\nRandomSampling, Number:RUNNING 2\nRandomSampling, Number:SCHEDULED 4\n['FINISHED' 'RUNNING' 'SCHEDULED']\nRandomSampling, Number:FINISHED 10\nRandomSampling, Number:RUNNING 4\nRandomSampling, Number:SCHEDULED 1\n['FINISHED' 'RUNNING' 'SCHEDULED']\nRandomSampling, Number:FINISHED 13\nRandomSampling, Number:RUNNING 2\nRandomSampling, Number:SCHEDULED 4\n['FINISHED' 'RUNNING' 'SCHEDULED']\nRandomSampling, Number:FINISHED 14\nRandomSampling, Number:RUNNING 4\nRandomSampling, Number:SCHEDULED 1\n['FINISHED' 'RUNNING' 'SCHEDULED']\nRandomSampling, Number:FINISHED 17\nRandomSampling, Number:RUNNING 2\nRandomSampling, Number:SCHEDULED 3\n['FINISHED' 'RUNNING']\nRandomSampling, Number:FINISHED 18\nRandomSampling, Number:RUNNING 4\n['FINISHED' 'RUNNING' 'SCHEDULED']\nRandomSampling, Number:FINISHED 21\nRandomSampling, Number:RUNNING 2\nRandomSampling, Number:SCHEDULED 4\n['FINISHED' 'SCHEDULED' 'RUNNING']\nRandomSampling, Number:FINISHED 23\nRandomSampling, Number:SCHEDULED 1\nRandomSampling, Number:RUNNING 3\n['FINISHED' 'RUNNING' 'SCHEDULED']\nRandomSampling, Number:FINISHED 25\nRandomSampling, Number:RUNNING 2\nRandomSampling, Number:SCHEDULED 4\n['FINISHED' 'RUNNING' 'SCHEDULED']\nRandomSampling, Number:FINISHED 27\nRandomSampling, Number:RUNNING 3\nRandomSampling, Number:SCHEDULED 1\n['FINISHED' 'RUNNING' 'SCHEDULED']\nRandomSampling, Number:FINISHED 29\nRandomSampling, Number:RUNNING 2\nRandomSampling, Number:SCHEDULED 4\n['FINISHED' 'RUNNING' 'SCHEDULED']\nRandomSampling, Number:FINISHED 31\nRandomSampling, Number:RUNNING 3\nRandomSampling, Number:SCHEDULED 1\n['FINISHED' 'RUNNING' 'SCHEDULED']\nRandomSampling, Number:FINISHED 33\nRandomSampling, Number:RUNNING 2\nRandomSampling, Number:SCHEDULED 4\n['FINISHED' 'RUNNING' 'SCHEDULED']\nRandomSampling, Number:FINISHED 35\nRandomSampling, Number:RUNNING 3\nRandomSampling, Number:SCHEDULED 1\n['FINISHED' 'RUNNING' 'SCHEDULED']\nRandomSampling, Number:FINISHED 37\nRandomSampling, Number:RUNNING 2\nRandomSampling, Number:SCHEDULED 4\n['FINISHED' 'RUNNING']\nRandomSampling, Number:FINISHED 39\nRandomSampling, Number:RUNNING 4\n['FINISHED' 'RUNNING' 'SCHEDULED']\nRandomSampling, Number:FINISHED 40\nRandomSampling, Number:RUNNING 3\nRandomSampling, Number:SCHEDULED 4\n['FINISHED' 'SCHEDULED' 'RUNNING']\nRandomSampling, Number:FINISHED 43\nRandomSampling, Number:SCHEDULED 1\nRandomSampling, Number:RUNNING 3\n['FINISHED' 'SCHEDULED' 'RUNNING']\nRandomSampling, Number:FINISHED 43\nRandomSampling, Number:SCHEDULED 6\nRandomSampling, Number:RUNNING 3\n['FINISHED' 'RUNNING' 'SCHEDULED']\nRandomSampling, Number:FINISHED 46\nRandomSampling, Number:RUNNING 3\nRandomSampling, Number:SCHEDULED 3\n['FINISHED' 'RUNNING' 'SCHEDULED']\nRandomSampling, Number:FINISHED 47\nRandomSampling, Number:RUNNING 3\nRandomSampling, Number:SCHEDULED 5\n['FINISHED' 'RUNNING' 'SCHEDULED']\nRandomSampling, Number:FINISHED 50\nRandomSampling, Number:RUNNING 3\nRandomSampling, Number:SCHEDULED 2\n['FINISHED' 'RUNNING' 'SCHEDULED']\nRandomSampling, Number:FINISHED 52\nRandomSampling, Number:RUNNING 2\nRandomSampling, Number:SCHEDULED 5\n['FINISHED' 'RUNNING' 'SCHEDULED']\nRandomSampling, Number:FINISHED 54\nRandomSampling, Number:RUNNING 3\nRandomSampling, Number:SCHEDULED 2\n['FINISHED' 'RUNNING' 'SCHEDULED']\nRandomSampling, Number:FINISHED 55\nRandomSampling, Number:RUNNING 3\nRandomSampling, Number:SCHEDULED 5\n['FINISHED' 'RUNNING' 'SCHEDULED']\nRandomSampling, Number:FINISHED 58\nRandomSampling, Number:RUNNING 2\nRandomSampling, Number:SCHEDULED 3\n['FINISHED' 'RUNNING' 'SCHEDULED']\nRandomSampling, Number:FINISHED 59\nRandomSampling, Number:RUNNING 3\nRandomSampling, Number:SCHEDULED 6\n['FINISHED' 'RUNNING' 'SCHEDULED']\nRandomSampling, Number:FINISHED 62\nRandomSampling, Number:RUNNING 2\nRandomSampling, Number:SCHEDULED 4\n['FINISHED' 'RUNNING' 'SCHEDULED']\nRandomSampling, Number:FINISHED 63\nRandomSampling, Number:RUNNING 3\nRandomSampling, Number:SCHEDULED 6\n['FINISHED' 'RUNNING' 'SCHEDULED']\nRandomSampling, Number:FINISHED 66\nRandomSampling, Number:RUNNING 1\nRandomSampling, Number:SCHEDULED 5\n['FINISHED' 'RUNNING' 'SCHEDULED']\nRandomSampling, Number:FINISHED 67\nRandomSampling, Number:RUNNING 4\nRandomSampling, Number:SCHEDULED 5\n['FINISHED' 'RUNNING' 'SCHEDULED']\nRandomSampling, Number:FINISHED 70\nRandomSampling, Number:RUNNING 1\nRandomSampling, Number:SCHEDULED 5\n['FINISHED' 'RUNNING' 'SCHEDULED']\nRandomSampling, Number:FINISHED 71\nRandomSampling, Number:RUNNING 4\nRandomSampling, Number:SCHEDULED 1\n['FINISHED' 'RUNNING']\nRandomSampling, Number:FINISHED 75\nRandomSampling, Number:RUNNING 1\n['FINISHED' 'RUNNING' 'SCHEDULED']\nRandomSampling, Number:FINISHED 75\nRandomSampling, Number:RUNNING 4\nRandomSampling, Number:SCHEDULED 2\n['FINISHED' 'SCHEDULED']\nRandomSampling, Number:FINISHED 79\nRandomSampling, Number:SCHEDULED 2\n['FINISHED' 'RUNNING' 'SCHEDULED']\nRandomSampling, Number:FINISHED 79\nRandomSampling, Number:RUNNING 4\nRandomSampling, Number:SCHEDULED 2\n['FINISHED' 'RUNNING' 'SCHEDULED']\nRandomSampling, Number:FINISHED 82\nRandomSampling, Number:RUNNING 1\nRandomSampling, Number:SCHEDULED 3\n['FINISHED' 'RUNNING' 'SCHEDULED']\nRandomSampling, Number:FINISHED 83\nRandomSampling, Number:RUNNING 4\nRandomSampling, Number:SCHEDULED 2\n['FINISHED' 'SCHEDULED']\nRandomSampling, Number:FINISHED 87\nRandomSampling, Number:SCHEDULED 6\n['FINISHED' 'RUNNING' 'SCHEDULED']\nRandomSampling, Number:FINISHED 87\nRandomSampling, Number:RUNNING 4\nRandomSampling, Number:SCHEDULED 2\n['FINISHED' 'RUNNING' 'SCHEDULED']\nRandomSampling, Number:FINISHED 90\nRandomSampling, Number:RUNNING 3\nRandomSampling, Number:SCHEDULED 4\n['FINISHED' 'RUNNING' 'SCHEDULED']\nRandomSampling, Number:FINISHED 91\nRandomSampling, Number:RUNNING 4\nRandomSampling, Number:SCHEDULED 2\n['FINISHED' 'RUNNING' 'SCHEDULED']\nRandomSampling, Number:FINISHED 94\nRandomSampling, Number:RUNNING 3\nRandomSampling, Number:SCHEDULED 4\n['FINISHED' 'RUNNING' 'SCHEDULED']\nRandomSampling, Number:FINISHED 95\nRandomSampling, Number:RUNNING 4\nRandomSampling, Number:SCHEDULED 2\n['FINISHED' 'RUNNING' 'SCHEDULED']\nRandomSampling, Number:FINISHED 98\nRandomSampling, Number:RUNNING 3\nRandomSampling, Number:SCHEDULED 4\n['FINISHED' 'RUNNING' 'SCHEDULED']\nRandomSampling, Number:FINISHED 100\nRandomSampling, Number:RUNNING 3\nRandomSampling, Number:SCHEDULED 2\n['FINISHED' 'RUNNING' 'SCHEDULED']\nRandomSampling, Number:FINISHED 102\nRandomSampling, Number:RUNNING 4\nRandomSampling, Number:SCHEDULED 3\n['FINISHED' 'RUNNING' 'SCHEDULED']\nRandomSampling, Number:FINISHED 104\nRandomSampling, Number:RUNNING 4\nRandomSampling, Number:SCHEDULED 1\n['FINISHED' 'RUNNING' 'SCHEDULED']\nRandomSampling, Number:FINISHED 106\nRandomSampling, Number:RUNNING 3\nRandomSampling, Number:SCHEDULED 5\n['FINISHED' 'RUNNING' 'SCHEDULED']\nRandomSampling, Number:FINISHED 108\nRandomSampling, Number:RUNNING 4\nRandomSampling, Number:SCHEDULED 3\n['FINISHED' 'RUNNING' 'SCHEDULED']\nRandomSampling, Number:FINISHED 110\nRandomSampling, Number:RUNNING 3\nRandomSampling, Number:SCHEDULED 5\n['FINISHED' 'RUNNING' 'SCHEDULED']\nRandomSampling, Number:FINISHED 112\nRandomSampling, Number:RUNNING 4\nRandomSampling, Number:SCHEDULED 2\n['FINISHED' 'RUNNING']\nRandomSampling, Number:FINISHED 114\nRandomSampling, Number:RUNNING 4\n['FINISHED' 'RUNNING' 'SCHEDULED']\nRandomSampling, Number:FINISHED 117\nRandomSampling, Number:RUNNING 2\nRandomSampling, Number:SCHEDULED 1\n['FINISHED' 'RUNNING']\nRandomSampling, Number:FINISHED 118\nRandomSampling, Number:RUNNING 2\n['FINISHED']\nRandomSampling, Number:FINISHED 120\nSweep Job for run:loving_table_vtzr4wgbx0 Complete\n"
        }
      ],
      "execution_count": 65,
      "metadata": {}
    },
    {
      "cell_type": "markdown",
      "source": [
        "## Random Sampling with Truncation Policy"
      ],
      "metadata": {}
    },
    {
      "cell_type": "code",
      "source": [
        "from azure.ai.ml.sweep import Choice, Uniform, MedianStoppingPolicy, BanditPolicy, TruncationSelectionPolicy\n",
        "\n",
        "\n",
        "rndsampletrun_command = command(\n",
        "    code=\"./hyperparametertune\",  # local path where the code is stored\n",
        "    command=\"python main.py --titanic ${{inputs.titanic}} --randomstate ${{inputs.randomstate}}\",\n",
        "    inputs={\n",
        "        \"titanic\": Input(\n",
        "            type=\"uri_file\",\n",
        "            path=\"azureml:titanic_prepped:1\",\n",
        "        ),\n",
        "        \"randomstate\": 0,\n",
        "        \"penalty_term\": 'l1',\n",
        "        \"C\": 0.01,\n",
        "        \"max_iter\": 100,\n",
        "    },\n",
        "    environment=\"job_base_env@latest\",\n",
        "    compute=\"cpu-cluster\",\n",
        "    display_name=\"RandomSamplingwTruncationPolicy\",\n",
        ")\n",
        "\n",
        "# #Set Parameter expressions\n",
        "# #choice, randint, qlognormal, qnormal, qloguniform, quniform, lognormal, normal, loguniform, uniform\n",
        "rndsampletrun_job_for_sweep = rndsampletrun_command(\n",
        "    penalty_term=Choice(values=['l2', 'l1']),\n",
        "    C=Uniform(min_value=0.01, max_value=10.0),\n",
        "    max_iter=Choice(values=[10, 100, 150, 200]),\n",
        ")"
      ],
      "outputs": [],
      "execution_count": 66,
      "metadata": {}
    },
    {
      "cell_type": "code",
      "source": [
        "# apply the sweep parameter to obtain the sweep_job\n",
        "sweep_job = rndsampletrun_job_for_sweep.sweep(\n",
        "    compute=\"cpu-cluster\",\n",
        "    sampling_algorithm=\"random\",\n",
        "    primary_metric=\"training_roc_auc_score\",\n",
        "    goal=\"Maximize\",\n",
        ")\n",
        "\n",
        "sweep_job.set_limits(max_total_trials=120, \n",
        "                     max_concurrent_trials=10, \n",
        "                     timeout=7200)\n",
        "\n",
        "#early_termination - Early termination policy to end poorly performing runs. If no termination policy is specified, all configurations are run to completion. \n",
        "sweep_job.early_termination = TruncationSelectionPolicy(evaluation_interval= 1, truncation_percentage= 75, delay_evaluation= 1)"
      ],
      "outputs": [],
      "execution_count": 67,
      "metadata": {}
    },
    {
      "cell_type": "code",
      "source": [
        "# submit the sweep\n",
        "returned_sweep_job = ml_client.create_or_update(sweep_job)\n",
        "# get a URL for the status of the job\n",
        "returned_sweep_job.services[\"Studio\"].endpoint"
      ],
      "outputs": [
        {
          "output_type": "execute_result",
          "execution_count": 68,
          "data": {
            "text/plain": "'https://ml.azure.com/runs/willing_engine_t6lyzqqpbv?wsid=/subscriptions/5da07161-3770-4a4b-aa43-418cbbb627cf/resourcegroups/aml-workspace-rg/workspaces/aml-workspace&tid=72f988bf-86f1-41af-91ab-2d7cd011db47'"
          },
          "metadata": {}
        }
      ],
      "execution_count": 68,
      "metadata": {}
    },
    {
      "cell_type": "code",
      "source": [
        "returned_sweep_job"
      ],
      "outputs": [
        {
          "output_type": "execute_result",
          "execution_count": 69,
          "data": {
            "text/html": "<table style=\"width:100%\"><tr><th>Experiment</th><th>Name</th><th>Type</th><th>Status</th><th>Details Page</th></tr><tr><td>Chapter4</td><td>willing_engine_t6lyzqqpbv</td><td>sweep</td><td>Running</td><td><a href=\"https://ml.azure.com/runs/willing_engine_t6lyzqqpbv?wsid=/subscriptions/5da07161-3770-4a4b-aa43-418cbbb627cf/resourcegroups/aml-workspace-rg/workspaces/aml-workspace&amp;tid=72f988bf-86f1-41af-91ab-2d7cd011db47\" target=\"_blank\" rel=\"noopener\">Link to Azure Machine Learning studio</a></td></tr></table>",
            "text/plain": "SweepJob({'type': 'sweep', 'status': 'Running', 'log_files': None, 'name': 'willing_engine_t6lyzqqpbv', 'description': None, 'tags': {'_aml_system_max_concurrent_jobs': '10', '_aml_system_max_total_jobs': '120', '_aml_system_max_duration_minutes': '120', '_aml_system_policy_config': '{\"name\":\"TruncationSelection\",\"properties\":{\"evaluation_interval\":1,\"delay_evaluation\":1,\"truncation_percentage\":75,\"exclude_finished_jobs\":false}}', '_aml_system_generator_config': '{\"name\":\"RANDOM\",\"parameter_space\":{\"penalty_term\":[\"choice\",[[\"l2\",\"l1\"]]],\"C\":[\"uniform\",[0.01,10.0]],\"max_iter\":[\"choice\",[[10,100,150,200]]]},\"properties\":{\"rule\":\"Random\",\"seed\":null}}', '_aml_system_primary_metric_config': '{\"name\":\"training_roc_auc_score\",\"goal\":\"maximize\"}', '_aml_system_platform_config': '{\"ServiceAddress\":\"https://eastus.api.azureml.ms\",\"SubscriptionId\":\"5da07161-3770-4a4b-aa43-418cbbb627cf\",\"ResourceGroupName\":\"aml-workspace-rg\",\"WorkspaceName\":\"aml-workspace\",\"ExperimentName\":\"Chapter4\",\"Definition\":{\"Configuration\":null,\"Attribution\":null,\"TelemetryValues\":null,\"Overrides\":{\"Script\":null,\"Command\":\"python main.py --titanic ${{inputs.titanic}} --randomstate ${{inputs.randomstate}}\",\"UseAbsolutePath\":true,\"Arguments\":[],\"SourceDirectoryDataStore\":null,\"Framework\":0,\"Target\":\"cpu-cluster\",\"DataReferences\":{},\"Data\":{\"titanic\":{\"DataLocation\":{\"Dataset\":null,\"DataPath\":null,\"Uri\":{\"Path\":\"/subscriptions/5da07161-3770-4a4b-aa43-418cbbb627cf/resourceGroups/aml-workspace-rg/providers/Microsoft.MachineLearningServices/workspaces/aml-workspace/data/titanic_prepped/versions/1\",\"IsFile\":true},\"Type\":\"UriFile\"},\"Mechanism\":\"Mount\",\"EnvironmentVariableName\":\"AZURE_ML_INPUT_titanic\",\"PathOnCompute\":null,\"Overwrite\":false,\"Options\":{\"IsEvalMode\":\"False\",\"ReadWrite\":\"False\",\"ForceFolder\":\"False\"}}},\"InputAssets\":{\"titanic\":{\"Asset\":{\"AssetId\":\"azureml://locations/eastus/workspaces/88449c92-2fa7-4734-8cc5-76e1776b55bb/data/titanic_prepped/versions/1\",\"Type\":\"UriFile\"},\"Mechanism\":\"Mount\",\"EnvironmentVariableName\":\"AZURE_ML_INPUT_titanic\",\"PathOnCompute\":null,\"Overwrite\":false,\"Options\":{\"IsEvalMode\":\"False\",\"ReadWrite\":\"False\",\"ForceFolder\":\"False\"}}},\"OutputData\":{},\"Datacaches\":[],\"JobName\":null,\"MaxRunDurationSeconds\":null,\"NodeCount\":1,\"InstanceTypes\":[],\"Priority\":null,\"CredentialPassthrough\":false,\"Identity\":null,\"Environment\":{\"Name\":\"job_base_env\",\"Version\":\"2022-07-31-20-57-13-0098422\",\"AssetId\":\"azureml://locations/eastus/workspaces/88449c92-2fa7-4734-8cc5-76e1776b55bb/environments/job_base_env/versions/2022-07-31-20-57-13-0098422\",\"Python\":{\"InterpreterPath\":null,\"UserManagedDependencies\":false,\"CondaDependencies\":{\"dependencies\":[\"python=3.8.5\",\"scikit-learn\",\"ipykernel\",\"matplotlib\",\"pandas\",\"pip\",{\"pip\":[\"azureml-defaults\",\"pyarrow\",\"azureml-mlflow==1.43.0.post1\",\"azure-ai-ml\",\"mltable\"]}],\"name\":\"job_env\"},\"BaseCondaEnvironment\":null},\"EnvironmentVariables\":{},\"Docker\":{\"BaseImage\":\"mcr.microsoft.com/azureml/openmpi3.1.2-ubuntu18.04\",\"Platform\":{\"Os\":\"Linux\",\"Architecture\":\"amd64\"},\"BaseDockerfile\":null,\"BaseImageRegistry\":null},\"Spark\":{\"Repositories\":[],\"Packages\":[],\"PrecachePackages\":true},\"InferencingStackVersion\":null},\"History\":{\"OutputCollection\":true,\"DirectoriesToWatch\":[\"logs\"],\"EnableMLflowTracking\":true},\"Spark\":{\"Configuration\":{}},\"ParallelTask\":{\"MaxRetriesPerWorker\":0,\"WorkerCountPerNode\":1,\"TerminalExitCodes\":null,\"Configuration\":{}},\"BatchAi\":{\"NodeCount\":0},\"AmlCompute\":{\"Name\":null,\"VmSize\":null,\"RetainCluster\":false,\"ClusterMaxNodeCount\":null},\"AISuperComputer\":{\"InstanceType\":\"D2\",\"FrameworkImage\":null,\"ImageVersion\":\"pytorch-1.7.0\",\"Location\":null,\"AISuperComputerStorageData\":null,\"Interactive\":false,\"ScalePolicy\":null,\"VirtualClusterArmId\":null,\"TensorboardLogDirectory\":null,\"SSHPublicKey\":null,\"SSHPublicKeys\":null,\"EnableAzmlInt\":true,\"Priority\":\"Medium\",\"SLATier\":\"Standard\",\"UserAlias\":null},\"KubernetesCompute\":{\"InstanceType\":null},\"Tensorflow\":{\"WorkerCount\":0,\"ParameterServerCount\":0},\"Mpi\":{\"ProcessCountPerNode\":0},\"PyTorch\":{\"CommunicationBackend\":null,\"ProcessCount\":null},\"Hdi\":{\"YarnDeployMode\":0},\"ContainerInstance\":{\"Region\":null,\"CpuCores\":2.0,\"MemoryGb\":3.5},\"ExposedPorts\":null,\"Docker\":{\"UseDocker\":true,\"SharedVolumes\":null,\"ShmSize\":null,\"Arguments\":null},\"Cmk8sCompute\":{\"Configuration\":{}},\"CommandReturnCodeConfig\":{\"ReturnCode\":0,\"SuccessfulReturnCodes\":[]},\"EnvironmentVariables\":{},\"ApplicationEndpoints\":{},\"Parameters\":[{\"Name\":\"randomstate\",\"Type\":null,\"Value\":\"0\",\"IsOptional\":false}]},\"SnapshotId\":\"c8492dd9-e2d9-4345-9b18-6a954c3fc23e\",\"Snapshots\":[],\"SourceCodeDataReference\":null,\"ParentRunId\":null,\"DataContainerId\":null,\"RunType\":null,\"DisplayName\":\"RandomSamplingwTruncationPolicy\",\"EnvironmentAssetId\":null,\"Properties\":{\"mlflow.source.git.repoURL\":\"https://github.com/PacktPublishing/Azure-Machine-Learning-Engineering.git\",\"mlflow.source.git.branch\":\"main\",\"azureml.git.dirty\":\"True\"},\"Tags\":{},\"AggregatedArtifactPath\":null},\"ParentRunId\":\"willing_engine_t6lyzqqpbv\"}', '_aml_system_resume_child_runs': 'null', '_aml_system_all_jobs_generated': 'false', '_aml_system_cancellation_requested': 'false'}, 'properties': {'primary_metric_config': '{\"name\":\"training_roc_auc_score\",\"goal\":\"maximize\"}', 'resume_from': 'null', 'runTemplate': 'HyperDrive', 'azureml.runsource': 'hyperdrive', 'platform': 'AML', 'ContentSnapshotId': 'c8492dd9-e2d9-4345-9b18-6a954c3fc23e', 'user_agent': 'managementfrontend/a36d08b19818dc74f1c0c3ef9fd5c12a91e1826e', 'mlflow.source.git.repoURL': 'https://github.com/PacktPublishing/Azure-Machine-Learning-Engineering.git', 'mlflow.source.git.branch': 'main', 'azureml.git.dirty': 'True'}, 'id': '/subscriptions/5da07161-3770-4a4b-aa43-418cbbb627cf/resourceGroups/aml-workspace-rg/providers/Microsoft.MachineLearningServices/workspaces/aml-workspace/jobs/willing_engine_t6lyzqqpbv', 'base_path': './', 'creation_context': <azure.ai.ml._restclient.v2022_02_01_preview.models._models_py3.SystemData object at 0x7f4261c849d0>, 'serialize': <msrest.serialization.Serializer object at 0x7f4261c8bac0>, 'sampling_algorithm': <azure.ai.ml.entities._job.sweep.sampling_algorithm.RandomSamplingAlgorithm object at 0x7f4261b8ff70>, 'early_termination': <azure.ai.ml.entities._job.sweep.early_termination_policy.TruncationSelectionPolicy object at 0x7f426192f910>, 'limits': <azure.ai.ml.entities._job.job_limits.SweepJobLimits object at 0x7f426cf4aa30>, 'search_space': {'penalty_term': <azure.ai.ml.entities._job.sweep.search_space.Choice object at 0x7f426cf4a9d0>, 'C': <azure.ai.ml.entities._job.sweep.search_space.Uniform object at 0x7f426cf4a670>, 'max_iter': <azure.ai.ml.entities._job.sweep.search_space.Choice object at 0x7f426cf4a730>}, 'objective': <azure.ai.ml._restclient.v2022_02_01_preview.models._models_py3.Objective object at 0x7f4261c8b190>, 'display_name': 'RandomSamplingwTruncationPolicy', 'experiment_name': 'Chapter4', 'compute': 'cpu-cluster', 'services': {'Studio': <azure.ai.ml._restclient.v2022_02_01_preview.models._models_py3.JobService object at 0x7f4261c8b370>}, 'inputs': {'titanic': {'type': 'uri_file', 'path': 'azureml://locations/eastus/workspaces/88449c92-2fa7-4734-8cc5-76e1776b55bb/data/titanic_prepped/versions/1', 'mode': 'ro_mount'}, 'randomstate': '0'}, 'outputs': {'default': {'type': 'uri_folder', 'path': 'azureml://datastores/workspaceartifactstore/ExperimentRun/dcid.willing_engine_t6lyzqqpbv', 'mode': 'rw_mount'}}, 'trial': <azure.ai.ml.entities._job.parameterized_command.ParameterizedCommand object at 0x7f4261b8f1c0>, 'identity': None})"
          },
          "metadata": {}
        }
      ],
      "execution_count": 69,
      "metadata": {}
    },
    {
      "cell_type": "code",
      "source": [
        "runid = returned_sweep_job.name\n",
        "print('runid:' + runid)\n",
        "experiment = returned_job.experiment_name\n",
        "print(\"experiment:\" + experiment)\n",
        "\n",
        "current_experiment=dict(mlflow.get_experiment_by_name(experiment))\n",
        "experiment_id=current_experiment['experiment_id']\n",
        "print(experiment_id)"
      ],
      "outputs": [
        {
          "output_type": "stream",
          "name": "stdout",
          "text": "runid:willing_engine_t6lyzqqpbv\nexperiment:Chapter4\nf216050c-8943-43ca-99d0-59e50e104202\n"
        }
      ],
      "execution_count": 70,
      "metadata": {}
    },
    {
      "cell_type": "markdown",
      "source": [
        "## Getting Status leveraging MLFlow Capabilites\n",
        "\n",
        "Using MLFlow, we can get back a dataframe that includes all of the trials for a given Sweep Job Run."
      ],
      "metadata": {}
    },
    {
      "cell_type": "code",
      "source": [
        "getStatus(experiment_id, runid)"
      ],
      "outputs": [
        {
          "output_type": "stream",
          "name": "stdout",
          "text": "['RUNNING' 'SCHEDULED']\nRandomSamplingwTruncationPolicy, Number:RUNNING 4\nRandomSamplingwTruncationPolicy, Number:SCHEDULED 6\n['FINISHED' 'SCHEDULED']\nRandomSamplingwTruncationPolicy, Number:FINISHED 4\nRandomSamplingwTruncationPolicy, Number:SCHEDULED 6\n['FINISHED' 'SCHEDULED' 'RUNNING']\nRandomSamplingwTruncationPolicy, Number:FINISHED 4\nRandomSamplingwTruncationPolicy, Number:SCHEDULED 2\nRandomSamplingwTruncationPolicy, Number:RUNNING 4\n['FINISHED' 'SCHEDULED']\nRandomSamplingwTruncationPolicy, Number:FINISHED 8\nRandomSamplingwTruncationPolicy, Number:SCHEDULED 2\n['FINISHED' 'RUNNING']\nRandomSamplingwTruncationPolicy, Number:FINISHED 8\nRandomSamplingwTruncationPolicy, Number:RUNNING 2\n['FINISHED' 'RUNNING' 'SCHEDULED']\nRandomSamplingwTruncationPolicy, Number:FINISHED 9\nRandomSamplingwTruncationPolicy, Number:RUNNING 1\nRandomSamplingwTruncationPolicy, Number:SCHEDULED 4\n['FINISHED' 'RUNNING' 'SCHEDULED']\nRandomSamplingwTruncationPolicy, Number:FINISHED 10\nRandomSamplingwTruncationPolicy, Number:RUNNING 3\nRandomSamplingwTruncationPolicy, Number:SCHEDULED 1\n['FINISHED' 'SCHEDULED' 'RUNNING']\nRandomSamplingwTruncationPolicy, Number:FINISHED 14\nRandomSamplingwTruncationPolicy, Number:SCHEDULED 4\nRandomSamplingwTruncationPolicy, Number:RUNNING 1\n['FINISHED' 'RUNNING' 'SCHEDULED']\nRandomSamplingwTruncationPolicy, Number:FINISHED 15\nRandomSamplingwTruncationPolicy, Number:RUNNING 3\nRandomSamplingwTruncationPolicy, Number:SCHEDULED 1\n['FINISHED' 'RUNNING' 'SCHEDULED']\nRandomSamplingwTruncationPolicy, Number:FINISHED 17\nRandomSamplingwTruncationPolicy, Number:RUNNING 4\nRandomSamplingwTruncationPolicy, Number:SCHEDULED 2\n['FINISHED' 'RUNNING' 'SCHEDULED']\nRandomSamplingwTruncationPolicy, Number:FINISHED 19\nRandomSamplingwTruncationPolicy, Number:RUNNING 3\nRandomSamplingwTruncationPolicy, Number:SCHEDULED 1\n['FINISHED' 'RUNNING' 'SCHEDULED']\nRandomSamplingwTruncationPolicy, Number:FINISHED 21\nRandomSamplingwTruncationPolicy, Number:RUNNING 4\nRandomSamplingwTruncationPolicy, Number:SCHEDULED 2\n['FINISHED' 'RUNNING' 'SCHEDULED']\nRandomSamplingwTruncationPolicy, Number:FINISHED 23\nRandomSamplingwTruncationPolicy, Number:RUNNING 3\nRandomSamplingwTruncationPolicy, Number:SCHEDULED 1\n['FINISHED' 'RUNNING' 'SCHEDULED']\nRandomSamplingwTruncationPolicy, Number:FINISHED 25\nRandomSamplingwTruncationPolicy, Number:RUNNING 3\nRandomSamplingwTruncationPolicy, Number:SCHEDULED 3\n['FINISHED' 'RUNNING' 'SCHEDULED']\nRandomSamplingwTruncationPolicy, Number:FINISHED 27\nRandomSamplingwTruncationPolicy, Number:RUNNING 3\nRandomSamplingwTruncationPolicy, Number:SCHEDULED 1\n['FINISHED' 'RUNNING' 'SCHEDULED']\nRandomSamplingwTruncationPolicy, Number:FINISHED 29\nRandomSamplingwTruncationPolicy, Number:RUNNING 4\nRandomSamplingwTruncationPolicy, Number:SCHEDULED 2\n['FINISHED' 'RUNNING' 'SCHEDULED']\nRandomSamplingwTruncationPolicy, Number:FINISHED 31\nRandomSamplingwTruncationPolicy, Number:RUNNING 3\nRandomSamplingwTruncationPolicy, Number:SCHEDULED 1\n['FINISHED' 'RUNNING' 'SCHEDULED']\nRandomSamplingwTruncationPolicy, Number:FINISHED 33\nRandomSamplingwTruncationPolicy, Number:RUNNING 4\nRandomSamplingwTruncationPolicy, Number:SCHEDULED 2\n['FINISHED' 'RUNNING' 'SCHEDULED']\nRandomSamplingwTruncationPolicy, Number:FINISHED 35\nRandomSamplingwTruncationPolicy, Number:RUNNING 3\nRandomSamplingwTruncationPolicy, Number:SCHEDULED 1\n['FINISHED' 'RUNNING' 'SCHEDULED']\nRandomSamplingwTruncationPolicy, Number:FINISHED 37\nRandomSamplingwTruncationPolicy, Number:RUNNING 4\nRandomSamplingwTruncationPolicy, Number:SCHEDULED 2\n['FINISHED' 'RUNNING' 'SCHEDULED']\nRandomSamplingwTruncationPolicy, Number:FINISHED 39\nRandomSamplingwTruncationPolicy, Number:RUNNING 2\nRandomSamplingwTruncationPolicy, Number:SCHEDULED 6\n['FINISHED' 'RUNNING' 'SCHEDULED']\nRandomSamplingwTruncationPolicy, Number:FINISHED 41\nRandomSamplingwTruncationPolicy, Number:RUNNING 4\nRandomSamplingwTruncationPolicy, Number:SCHEDULED 2\n['FINISHED' 'RUNNING' 'SCHEDULED']\nRandomSamplingwTruncationPolicy, Number:FINISHED 44\nRandomSamplingwTruncationPolicy, Number:RUNNING 3\nRandomSamplingwTruncationPolicy, Number:SCHEDULED 4\n['FINISHED' 'RUNNING' 'SCHEDULED']\nRandomSamplingwTruncationPolicy, Number:FINISHED 45\nRandomSamplingwTruncationPolicy, Number:RUNNING 4\nRandomSamplingwTruncationPolicy, Number:SCHEDULED 2\n['FINISHED' 'RUNNING' 'SCHEDULED']\nRandomSamplingwTruncationPolicy, Number:FINISHED 47\nRandomSamplingwTruncationPolicy, Number:RUNNING 3\nRandomSamplingwTruncationPolicy, Number:SCHEDULED 5\n['FINISHED' 'RUNNING' 'SCHEDULED']\nRandomSamplingwTruncationPolicy, Number:FINISHED 50\nRandomSamplingwTruncationPolicy, Number:RUNNING 3\nRandomSamplingwTruncationPolicy, Number:SCHEDULED 2\n['FINISHED' 'RUNNING' 'SCHEDULED']\nRandomSamplingwTruncationPolicy, Number:FINISHED 52\nRandomSamplingwTruncationPolicy, Number:RUNNING 3\nRandomSamplingwTruncationPolicy, Number:SCHEDULED 4\n['FINISHED' 'RUNNING' 'SCHEDULED']\nRandomSamplingwTruncationPolicy, Number:FINISHED 54\nRandomSamplingwTruncationPolicy, Number:RUNNING 3\nRandomSamplingwTruncationPolicy, Number:SCHEDULED 2\n['FINISHED' 'RUNNING' 'SCHEDULED']\nRandomSamplingwTruncationPolicy, Number:FINISHED 55\nRandomSamplingwTruncationPolicy, Number:RUNNING 4\nRandomSamplingwTruncationPolicy, Number:SCHEDULED 5\n['FINISHED' 'RUNNING' 'SCHEDULED']\nRandomSamplingwTruncationPolicy, Number:FINISHED 58\nRandomSamplingwTruncationPolicy, Number:RUNNING 4\nRandomSamplingwTruncationPolicy, Number:SCHEDULED 2\n['FINISHED' 'RUNNING' 'SCHEDULED']\nRandomSamplingwTruncationPolicy, Number:FINISHED 61\nRandomSamplingwTruncationPolicy, Number:RUNNING 2\nRandomSamplingwTruncationPolicy, Number:SCHEDULED 5\n['FINISHED' 'RUNNING' 'SCHEDULED']\nRandomSamplingwTruncationPolicy, Number:FINISHED 62\nRandomSamplingwTruncationPolicy, Number:RUNNING 3\nRandomSamplingwTruncationPolicy, Number:SCHEDULED 4\n['FINISHED' 'RUNNING' 'SCHEDULED']\nRandomSamplingwTruncationPolicy, Number:FINISHED 65\nRandomSamplingwTruncationPolicy, Number:RUNNING 2\nRandomSamplingwTruncationPolicy, Number:SCHEDULED 5\n['FINISHED' 'RUNNING' 'SCHEDULED']\nRandomSamplingwTruncationPolicy, Number:FINISHED 66\nRandomSamplingwTruncationPolicy, Number:RUNNING 4\nRandomSamplingwTruncationPolicy, Number:SCHEDULED 6\n['FINISHED' 'RUNNING' 'SCHEDULED']\nRandomSamplingwTruncationPolicy, Number:FINISHED 70\nRandomSamplingwTruncationPolicy, Number:RUNNING 1\nRandomSamplingwTruncationPolicy, Number:SCHEDULED 5\n['FINISHED' 'RUNNING' 'SCHEDULED']\nRandomSamplingwTruncationPolicy, Number:FINISHED 70\nRandomSamplingwTruncationPolicy, Number:RUNNING 4\nRandomSamplingwTruncationPolicy, Number:SCHEDULED 2\n['FINISHED' 'RUNNING']\nRandomSamplingwTruncationPolicy, Number:FINISHED 74\nRandomSamplingwTruncationPolicy, Number:RUNNING 2\n['FINISHED' 'RUNNING' 'SCHEDULED']\nRandomSamplingwTruncationPolicy, Number:FINISHED 74\nRandomSamplingwTruncationPolicy, Number:RUNNING 3\nRandomSamplingwTruncationPolicy, Number:SCHEDULED 3\n['FINISHED' 'RUNNING']\nRandomSamplingwTruncationPolicy, Number:FINISHED 76\nRandomSamplingwTruncationPolicy, Number:RUNNING 4\n['FINISHED' 'RUNNING' 'SCHEDULED']\nRandomSamplingwTruncationPolicy, Number:FINISHED 78\nRandomSamplingwTruncationPolicy, Number:RUNNING 4\nRandomSamplingwTruncationPolicy, Number:SCHEDULED 2\n['FINISHED' 'SCHEDULED' 'RUNNING']\nRandomSamplingwTruncationPolicy, Number:FINISHED 81\nRandomSamplingwTruncationPolicy, Number:SCHEDULED 2\nRandomSamplingwTruncationPolicy, Number:RUNNING 1\n['FINISHED' 'RUNNING' 'SCHEDULED']\nRandomSamplingwTruncationPolicy, Number:FINISHED 82\nRandomSamplingwTruncationPolicy, Number:RUNNING 4\nRandomSamplingwTruncationPolicy, Number:SCHEDULED 1\n['FINISHED' 'RUNNING' 'SCHEDULED']\nRandomSamplingwTruncationPolicy, Number:FINISHED 85\nRandomSamplingwTruncationPolicy, Number:RUNNING 2\nRandomSamplingwTruncationPolicy, Number:SCHEDULED 2\n['FINISHED' 'RUNNING' 'SCHEDULED']\nRandomSamplingwTruncationPolicy, Number:FINISHED 86\nRandomSamplingwTruncationPolicy, Number:RUNNING 4\nRandomSamplingwTruncationPolicy, Number:SCHEDULED 2\n['FINISHED' 'RUNNING' 'SCHEDULED']\nRandomSamplingwTruncationPolicy, Number:FINISHED 90\nRandomSamplingwTruncationPolicy, Number:RUNNING 1\nRandomSamplingwTruncationPolicy, Number:SCHEDULED 5\n['FINISHED' 'RUNNING' 'SCHEDULED']\nRandomSamplingwTruncationPolicy, Number:FINISHED 90\nRandomSamplingwTruncationPolicy, Number:RUNNING 4\nRandomSamplingwTruncationPolicy, Number:SCHEDULED 2\n"
        },
        {
          "output_type": "stream",
          "name": "stdout",
          "text": "['FINISHED' 'RUNNING' 'SCHEDULED']\nRandomSamplingwTruncationPolicy, Number:FINISHED 94\nRandomSamplingwTruncationPolicy, Number:RUNNING 2\nRandomSamplingwTruncationPolicy, Number:SCHEDULED 4\n['FINISHED' 'RUNNING' 'SCHEDULED']\nRandomSamplingwTruncationPolicy, Number:FINISHED 94\nRandomSamplingwTruncationPolicy, Number:RUNNING 4\nRandomSamplingwTruncationPolicy, Number:SCHEDULED 2\n['FINISHED' 'RUNNING' 'SCHEDULED']\nRandomSamplingwTruncationPolicy, Number:FINISHED 98\nRandomSamplingwTruncationPolicy, Number:RUNNING 2\nRandomSamplingwTruncationPolicy, Number:SCHEDULED 4\n['FINISHED' 'RUNNING' 'SCHEDULED']\nRandomSamplingwTruncationPolicy, Number:FINISHED 98\nRandomSamplingwTruncationPolicy, Number:RUNNING 4\nRandomSamplingwTruncationPolicy, Number:SCHEDULED 2\n['FINISHED' 'RUNNING' 'SCHEDULED']\nRandomSamplingwTruncationPolicy, Number:FINISHED 102\nRandomSamplingwTruncationPolicy, Number:RUNNING 2\nRandomSamplingwTruncationPolicy, Number:SCHEDULED 4\n['FINISHED' 'RUNNING' 'SCHEDULED']\nRandomSamplingwTruncationPolicy, Number:FINISHED 103\nRandomSamplingwTruncationPolicy, Number:RUNNING 3\nRandomSamplingwTruncationPolicy, Number:SCHEDULED 2\n['FINISHED' 'RUNNING' 'SCHEDULED']\nRandomSamplingwTruncationPolicy, Number:FINISHED 106\nRandomSamplingwTruncationPolicy, Number:RUNNING 2\nRandomSamplingwTruncationPolicy, Number:SCHEDULED 4\n['FINISHED' 'RUNNING' 'SCHEDULED']\nRandomSamplingwTruncationPolicy, Number:FINISHED 107\nRandomSamplingwTruncationPolicy, Number:RUNNING 3\nRandomSamplingwTruncationPolicy, Number:SCHEDULED 2\n['FINISHED' 'RUNNING' 'SCHEDULED']\nRandomSamplingwTruncationPolicy, Number:FINISHED 110\nRandomSamplingwTruncationPolicy, Number:RUNNING 2\nRandomSamplingwTruncationPolicy, Number:SCHEDULED 4\n['FINISHED' 'RUNNING' 'SCHEDULED']\nRandomSamplingwTruncationPolicy, Number:FINISHED 112\nRandomSamplingwTruncationPolicy, Number:RUNNING 3\nRandomSamplingwTruncationPolicy, Number:SCHEDULED 5\n['FINISHED' 'RUNNING' 'SCHEDULED']\nRandomSamplingwTruncationPolicy, Number:FINISHED 115\nRandomSamplingwTruncationPolicy, Number:RUNNING 3\nRandomSamplingwTruncationPolicy, Number:SCHEDULED 2\n['FINISHED' 'RUNNING']\nRandomSamplingwTruncationPolicy, Number:FINISHED 118\nRandomSamplingwTruncationPolicy, Number:RUNNING 2\n['FINISHED']\nRandomSamplingwTruncationPolicy, Number:FINISHED 120\nSweep Job for run:willing_engine_t6lyzqqpbv Complete\n"
        }
      ],
      "execution_count": 71,
      "metadata": {}
    },
    {
      "cell_type": "markdown",
      "source": [
        "## Random Sampling with Median Early Termination Policy"
      ],
      "metadata": {}
    },
    {
      "cell_type": "code",
      "source": [
        "from azure.ai.ml.sweep import Choice, Uniform, MedianStoppingPolicy, BanditPolicy, TruncationSelectionPolicy\n",
        "\n",
        "\n",
        "rndsamplemedian_command = command(\n",
        "    code=\"./hyperparametertune\",  # local path where the code is stored\n",
        "    command=\"python main.py --titanic ${{inputs.titanic}} --randomstate ${{inputs.randomstate}}\",\n",
        "    inputs={\n",
        "        \"titanic\": Input(\n",
        "            type=\"uri_file\",\n",
        "            path=\"azureml:titanic_prepped:1\",\n",
        "        ),\n",
        "        \"randomstate\": 0,\n",
        "        \"penalty_term\": 'l1',\n",
        "        \"C\": 0.01,\n",
        "        \"max_iter\": 100,\n",
        "    },\n",
        "    environment=\"job_base_env@latest\",\n",
        "    compute=\"cpu-cluster\",\n",
        "    display_name=\"RandomSamplingwMedianPolicy\",\n",
        ")\n",
        "\n",
        "# #Set Parameter expressions\n",
        "# #choice, randint, qlognormal, qnormal, qloguniform, quniform, lognormal, normal, loguniform, uniform\n",
        "rndsamplemedian_job_for_sweep = rndsamplemedian_command(\n",
        "    penalty_term=Choice(values=['l2', 'l1']),\n",
        "    C=Uniform(min_value=0.01, max_value=10.0),\n",
        "    max_iter=Choice(values=[10, 100, 150, 200]),\n",
        ")"
      ],
      "outputs": [],
      "execution_count": 72,
      "metadata": {}
    },
    {
      "cell_type": "code",
      "source": [
        "# apply the sweep parameter to obtain the sweep_job\n",
        "sweep_job = rndsamplemedian_job_for_sweep.sweep(\n",
        "    compute=\"cpu-cluster\",\n",
        "    sampling_algorithm=\"random\",\n",
        "    primary_metric=\"training_roc_auc_score\",\n",
        "    goal=\"Maximize\",\n",
        ")\n",
        "\n",
        "sweep_job.set_limits(max_total_trials=120, \n",
        "                     max_concurrent_trials=10, \n",
        "                     timeout=7200)\n",
        "\n",
        "#early_termination - Early termination policy to end poorly performing runs. If no termination policy is specified, all configurations are run to completion. \n",
        "sweep_job.early_termination = MedianStoppingPolicy(evaluation_interval= 1, delay_evaluation= 2)"
      ],
      "outputs": [],
      "execution_count": 73,
      "metadata": {}
    },
    {
      "cell_type": "code",
      "source": [
        "# submit the sweep\n",
        "returned_sweep_job = ml_client.create_or_update(sweep_job)\n",
        "# get a URL for the status of the job\n",
        "returned_sweep_job.services[\"Studio\"].endpoint"
      ],
      "outputs": [
        {
          "output_type": "execute_result",
          "execution_count": 74,
          "data": {
            "text/plain": "'https://ml.azure.com/runs/ashy_fowl_r00ydbtybb?wsid=/subscriptions/5da07161-3770-4a4b-aa43-418cbbb627cf/resourcegroups/aml-workspace-rg/workspaces/aml-workspace&tid=72f988bf-86f1-41af-91ab-2d7cd011db47'"
          },
          "metadata": {}
        }
      ],
      "execution_count": 74,
      "metadata": {}
    },
    {
      "cell_type": "code",
      "source": [
        "returned_sweep_job"
      ],
      "outputs": [
        {
          "output_type": "execute_result",
          "execution_count": 75,
          "data": {
            "text/html": "<table style=\"width:100%\"><tr><th>Experiment</th><th>Name</th><th>Type</th><th>Status</th><th>Details Page</th></tr><tr><td>Chapter4</td><td>ashy_fowl_r00ydbtybb</td><td>sweep</td><td>Running</td><td><a href=\"https://ml.azure.com/runs/ashy_fowl_r00ydbtybb?wsid=/subscriptions/5da07161-3770-4a4b-aa43-418cbbb627cf/resourcegroups/aml-workspace-rg/workspaces/aml-workspace&amp;tid=72f988bf-86f1-41af-91ab-2d7cd011db47\" target=\"_blank\" rel=\"noopener\">Link to Azure Machine Learning studio</a></td></tr></table>",
            "text/plain": "SweepJob({'type': 'sweep', 'status': 'Running', 'log_files': None, 'name': 'ashy_fowl_r00ydbtybb', 'description': None, 'tags': {'_aml_system_max_concurrent_jobs': '10', '_aml_system_max_total_jobs': '120', '_aml_system_max_duration_minutes': '120', '_aml_system_policy_config': '{\"name\":\"MedianStopping\",\"properties\":{\"evaluation_interval\":1,\"delay_evaluation\":2}}', '_aml_system_generator_config': '{\"name\":\"RANDOM\",\"parameter_space\":{\"penalty_term\":[\"choice\",[[\"l2\",\"l1\"]]],\"C\":[\"uniform\",[0.01,10.0]],\"max_iter\":[\"choice\",[[10,100,150,200]]]},\"properties\":{\"rule\":\"Random\",\"seed\":null}}', '_aml_system_primary_metric_config': '{\"name\":\"training_roc_auc_score\",\"goal\":\"maximize\"}', '_aml_system_platform_config': '{\"ServiceAddress\":\"https://eastus.api.azureml.ms\",\"SubscriptionId\":\"5da07161-3770-4a4b-aa43-418cbbb627cf\",\"ResourceGroupName\":\"aml-workspace-rg\",\"WorkspaceName\":\"aml-workspace\",\"ExperimentName\":\"Chapter4\",\"Definition\":{\"Configuration\":null,\"Attribution\":null,\"TelemetryValues\":null,\"Overrides\":{\"Script\":null,\"Command\":\"python main.py --titanic ${{inputs.titanic}} --randomstate ${{inputs.randomstate}}\",\"UseAbsolutePath\":true,\"Arguments\":[],\"SourceDirectoryDataStore\":null,\"Framework\":0,\"Target\":\"cpu-cluster\",\"DataReferences\":{},\"Data\":{\"titanic\":{\"DataLocation\":{\"Dataset\":null,\"DataPath\":null,\"Uri\":{\"Path\":\"/subscriptions/5da07161-3770-4a4b-aa43-418cbbb627cf/resourceGroups/aml-workspace-rg/providers/Microsoft.MachineLearningServices/workspaces/aml-workspace/data/titanic_prepped/versions/1\",\"IsFile\":true},\"Type\":\"UriFile\"},\"Mechanism\":\"Mount\",\"EnvironmentVariableName\":\"AZURE_ML_INPUT_titanic\",\"PathOnCompute\":null,\"Overwrite\":false,\"Options\":{\"IsEvalMode\":\"False\",\"ReadWrite\":\"False\",\"ForceFolder\":\"False\"}}},\"InputAssets\":{\"titanic\":{\"Asset\":{\"AssetId\":\"azureml://locations/eastus/workspaces/88449c92-2fa7-4734-8cc5-76e1776b55bb/data/titanic_prepped/versions/1\",\"Type\":\"UriFile\"},\"Mechanism\":\"Mount\",\"EnvironmentVariableName\":\"AZURE_ML_INPUT_titanic\",\"PathOnCompute\":null,\"Overwrite\":false,\"Options\":{\"IsEvalMode\":\"False\",\"ReadWrite\":\"False\",\"ForceFolder\":\"False\"}}},\"OutputData\":{},\"Datacaches\":[],\"JobName\":null,\"MaxRunDurationSeconds\":null,\"NodeCount\":1,\"InstanceTypes\":[],\"Priority\":null,\"CredentialPassthrough\":false,\"Identity\":null,\"Environment\":{\"Name\":\"job_base_env\",\"Version\":\"2022-07-31-20-57-13-0098422\",\"AssetId\":\"azureml://locations/eastus/workspaces/88449c92-2fa7-4734-8cc5-76e1776b55bb/environments/job_base_env/versions/2022-07-31-20-57-13-0098422\",\"Python\":{\"InterpreterPath\":null,\"UserManagedDependencies\":false,\"CondaDependencies\":{\"dependencies\":[\"python=3.8.5\",\"scikit-learn\",\"ipykernel\",\"matplotlib\",\"pandas\",\"pip\",{\"pip\":[\"azureml-defaults\",\"pyarrow\",\"azureml-mlflow==1.43.0.post1\",\"azure-ai-ml\",\"mltable\"]}],\"name\":\"job_env\"},\"BaseCondaEnvironment\":null},\"EnvironmentVariables\":{},\"Docker\":{\"BaseImage\":\"mcr.microsoft.com/azureml/openmpi3.1.2-ubuntu18.04\",\"Platform\":{\"Os\":\"Linux\",\"Architecture\":\"amd64\"},\"BaseDockerfile\":null,\"BaseImageRegistry\":null},\"Spark\":{\"Repositories\":[],\"Packages\":[],\"PrecachePackages\":true},\"InferencingStackVersion\":null},\"History\":{\"OutputCollection\":true,\"DirectoriesToWatch\":[\"logs\"],\"EnableMLflowTracking\":true},\"Spark\":{\"Configuration\":{}},\"ParallelTask\":{\"MaxRetriesPerWorker\":0,\"WorkerCountPerNode\":1,\"TerminalExitCodes\":null,\"Configuration\":{}},\"BatchAi\":{\"NodeCount\":0},\"AmlCompute\":{\"Name\":null,\"VmSize\":null,\"RetainCluster\":false,\"ClusterMaxNodeCount\":null},\"AISuperComputer\":{\"InstanceType\":\"D2\",\"FrameworkImage\":null,\"ImageVersion\":\"pytorch-1.7.0\",\"Location\":null,\"AISuperComputerStorageData\":null,\"Interactive\":false,\"ScalePolicy\":null,\"VirtualClusterArmId\":null,\"TensorboardLogDirectory\":null,\"SSHPublicKey\":null,\"SSHPublicKeys\":null,\"EnableAzmlInt\":true,\"Priority\":\"Medium\",\"SLATier\":\"Standard\",\"UserAlias\":null},\"KubernetesCompute\":{\"InstanceType\":null},\"Tensorflow\":{\"WorkerCount\":0,\"ParameterServerCount\":0},\"Mpi\":{\"ProcessCountPerNode\":0},\"PyTorch\":{\"CommunicationBackend\":null,\"ProcessCount\":null},\"Hdi\":{\"YarnDeployMode\":0},\"ContainerInstance\":{\"Region\":null,\"CpuCores\":2.0,\"MemoryGb\":3.5},\"ExposedPorts\":null,\"Docker\":{\"UseDocker\":true,\"SharedVolumes\":null,\"ShmSize\":null,\"Arguments\":null},\"Cmk8sCompute\":{\"Configuration\":{}},\"CommandReturnCodeConfig\":{\"ReturnCode\":0,\"SuccessfulReturnCodes\":[]},\"EnvironmentVariables\":{},\"ApplicationEndpoints\":{},\"Parameters\":[{\"Name\":\"randomstate\",\"Type\":null,\"Value\":\"0\",\"IsOptional\":false}]},\"SnapshotId\":\"c8492dd9-e2d9-4345-9b18-6a954c3fc23e\",\"Snapshots\":[],\"SourceCodeDataReference\":null,\"ParentRunId\":null,\"DataContainerId\":null,\"RunType\":null,\"DisplayName\":\"RandomSamplingwMedianPolicy\",\"EnvironmentAssetId\":null,\"Properties\":{\"mlflow.source.git.repoURL\":\"https://github.com/PacktPublishing/Azure-Machine-Learning-Engineering.git\",\"mlflow.source.git.branch\":\"main\",\"azureml.git.dirty\":\"True\"},\"Tags\":{},\"AggregatedArtifactPath\":null},\"ParentRunId\":\"ashy_fowl_r00ydbtybb\"}', '_aml_system_resume_child_runs': 'null', '_aml_system_all_jobs_generated': 'false', '_aml_system_cancellation_requested': 'false'}, 'properties': {'primary_metric_config': '{\"name\":\"training_roc_auc_score\",\"goal\":\"maximize\"}', 'resume_from': 'null', 'runTemplate': 'HyperDrive', 'azureml.runsource': 'hyperdrive', 'platform': 'AML', 'ContentSnapshotId': 'c8492dd9-e2d9-4345-9b18-6a954c3fc23e', 'user_agent': 'managementfrontend/a36d08b19818dc74f1c0c3ef9fd5c12a91e1826e', 'mlflow.source.git.repoURL': 'https://github.com/PacktPublishing/Azure-Machine-Learning-Engineering.git', 'mlflow.source.git.branch': 'main', 'azureml.git.dirty': 'True'}, 'id': '/subscriptions/5da07161-3770-4a4b-aa43-418cbbb627cf/resourceGroups/aml-workspace-rg/providers/Microsoft.MachineLearningServices/workspaces/aml-workspace/jobs/ashy_fowl_r00ydbtybb', 'base_path': './', 'creation_context': <azure.ai.ml._restclient.v2022_02_01_preview.models._models_py3.SystemData object at 0x7f4261832100>, 'serialize': <msrest.serialization.Serializer object at 0x7f4261832940>, 'sampling_algorithm': <azure.ai.ml.entities._job.sweep.sampling_algorithm.RandomSamplingAlgorithm object at 0x7f426ce730d0>, 'early_termination': <azure.ai.ml.entities._job.sweep.early_termination_policy.MedianStoppingPolicy object at 0x7f4261b8fb50>, 'limits': <azure.ai.ml.entities._job.job_limits.SweepJobLimits object at 0x7f4261832a60>, 'search_space': {'penalty_term': <azure.ai.ml.entities._job.sweep.search_space.Choice object at 0x7f42618322e0>, 'C': <azure.ai.ml.entities._job.sweep.search_space.Uniform object at 0x7f4261832c70>, 'max_iter': <azure.ai.ml.entities._job.sweep.search_space.Choice object at 0x7f4261832c40>}, 'objective': <azure.ai.ml._restclient.v2022_02_01_preview.models._models_py3.Objective object at 0x7f4261832fd0>, 'display_name': 'RandomSamplingwMedianPolicy', 'experiment_name': 'Chapter4', 'compute': 'cpu-cluster', 'services': {'Studio': <azure.ai.ml._restclient.v2022_02_01_preview.models._models_py3.JobService object at 0x7f42618327f0>}, 'inputs': {'titanic': {'type': 'uri_file', 'path': 'azureml://locations/eastus/workspaces/88449c92-2fa7-4734-8cc5-76e1776b55bb/data/titanic_prepped/versions/1', 'mode': 'ro_mount'}, 'randomstate': '0'}, 'outputs': {'default': {'type': 'uri_folder', 'path': 'azureml://datastores/workspaceartifactstore/ExperimentRun/dcid.ashy_fowl_r00ydbtybb', 'mode': 'rw_mount'}}, 'trial': <azure.ai.ml.entities._job.parameterized_command.ParameterizedCommand object at 0x7f4261832220>, 'identity': None})"
          },
          "metadata": {}
        }
      ],
      "execution_count": 75,
      "metadata": {}
    },
    {
      "cell_type": "code",
      "source": [
        "runid = returned_sweep_job.name\n",
        "print('runid:' + runid)\n",
        "experiment = returned_job.experiment_name\n",
        "print(\"experiment:\" + experiment)\n",
        "\n",
        "current_experiment=dict(mlflow.get_experiment_by_name(experiment))\n",
        "experiment_id=current_experiment['experiment_id']\n",
        "print(experiment_id)"
      ],
      "outputs": [
        {
          "output_type": "stream",
          "name": "stdout",
          "text": "runid:ashy_fowl_r00ydbtybb\nexperiment:Chapter4\nf216050c-8943-43ca-99d0-59e50e104202\n"
        }
      ],
      "execution_count": 76,
      "metadata": {}
    },
    {
      "cell_type": "code",
      "source": [
        "getStatus(experiment_id, runid)"
      ],
      "outputs": [
        {
          "output_type": "stream",
          "name": "stdout",
          "text": "['RUNNING' 'SCHEDULED']\nRandomSamplingwMedianPolicy, Number:RUNNING 4\nRandomSamplingwMedianPolicy, Number:SCHEDULED 6\n['FINISHED' 'SCHEDULED']\nRandomSamplingwMedianPolicy, Number:FINISHED 4\nRandomSamplingwMedianPolicy, Number:SCHEDULED 6\n['FINISHED' 'RUNNING' 'SCHEDULED']\nRandomSamplingwMedianPolicy, Number:FINISHED 4\nRandomSamplingwMedianPolicy, Number:RUNNING 4\nRandomSamplingwMedianPolicy, Number:SCHEDULED 2\n['FINISHED' 'SCHEDULED' 'RUNNING']\nRandomSamplingwMedianPolicy, Number:FINISHED 8\nRandomSamplingwMedianPolicy, Number:SCHEDULED 1\nRandomSamplingwMedianPolicy, Number:RUNNING 1\n['FINISHED' 'RUNNING']\nRandomSamplingwMedianPolicy, Number:FINISHED 8\nRandomSamplingwMedianPolicy, Number:RUNNING 2\n['FINISHED' 'RUNNING' 'SCHEDULED']\nRandomSamplingwMedianPolicy, Number:FINISHED 9\nRandomSamplingwMedianPolicy, Number:RUNNING 3\nRandomSamplingwMedianPolicy, Number:SCHEDULED 2\n['FINISHED' 'RUNNING']\nRandomSamplingwMedianPolicy, Number:FINISHED 10\nRandomSamplingwMedianPolicy, Number:RUNNING 4\n['FINISHED' 'SCHEDULED' 'RUNNING']\nRandomSamplingwMedianPolicy, Number:FINISHED 14\nRandomSamplingwMedianPolicy, Number:SCHEDULED 2\nRandomSamplingwMedianPolicy, Number:RUNNING 2\n['FINISHED' 'RUNNING' 'SCHEDULED']\nRandomSamplingwMedianPolicy, Number:FINISHED 15\nRandomSamplingwMedianPolicy, Number:RUNNING 3\nRandomSamplingwMedianPolicy, Number:SCHEDULED 2\n['FINISHED' 'RUNNING']\nRandomSamplingwMedianPolicy, Number:FINISHED 18\nRandomSamplingwMedianPolicy, Number:RUNNING 2\n['FINISHED' 'RUNNING' 'SCHEDULED']\nRandomSamplingwMedianPolicy, Number:FINISHED 19\nRandomSamplingwMedianPolicy, Number:RUNNING 3\nRandomSamplingwMedianPolicy, Number:SCHEDULED 3\n['FINISHED' 'RUNNING' 'SCHEDULED']\nRandomSamplingwMedianPolicy, Number:FINISHED 20\nRandomSamplingwMedianPolicy, Number:RUNNING 4\nRandomSamplingwMedianPolicy, Number:SCHEDULED 1\n['FINISHED' 'RUNNING' 'SCHEDULED']\nRandomSamplingwMedianPolicy, Number:FINISHED 23\nRandomSamplingwMedianPolicy, Number:RUNNING 3\nRandomSamplingwMedianPolicy, Number:SCHEDULED 3\n['FINISHED' 'RUNNING' 'SCHEDULED']\nRandomSamplingwMedianPolicy, Number:FINISHED 24\nRandomSamplingwMedianPolicy, Number:RUNNING 4\nRandomSamplingwMedianPolicy, Number:SCHEDULED 1\n['FINISHED' 'RUNNING' 'SCHEDULED']\nRandomSamplingwMedianPolicy, Number:FINISHED 28\nRandomSamplingwMedianPolicy, Number:RUNNING 3\nRandomSamplingwMedianPolicy, Number:SCHEDULED 2\n['FINISHED' 'RUNNING' 'SCHEDULED']\nRandomSamplingwMedianPolicy, Number:FINISHED 29\nRandomSamplingwMedianPolicy, Number:RUNNING 3\nRandomSamplingwMedianPolicy, Number:SCHEDULED 5\n['FINISHED' 'RUNNING' 'SCHEDULED']\nRandomSamplingwMedianPolicy, Number:FINISHED 32\nRandomSamplingwMedianPolicy, Number:RUNNING 3\nRandomSamplingwMedianPolicy, Number:SCHEDULED 2\n['FINISHED' 'RUNNING' 'SCHEDULED']\nRandomSamplingwMedianPolicy, Number:FINISHED 33\nRandomSamplingwMedianPolicy, Number:RUNNING 3\nRandomSamplingwMedianPolicy, Number:SCHEDULED 5\n['FINISHED' 'RUNNING' 'SCHEDULED']\nRandomSamplingwMedianPolicy, Number:FINISHED 35\nRandomSamplingwMedianPolicy, Number:RUNNING 3\nRandomSamplingwMedianPolicy, Number:SCHEDULED 3\n['FINISHED' 'RUNNING' 'SCHEDULED']\nRandomSamplingwMedianPolicy, Number:FINISHED 37\nRandomSamplingwMedianPolicy, Number:RUNNING 4\nRandomSamplingwMedianPolicy, Number:SCHEDULED 4\n['FINISHED' 'RUNNING' 'SCHEDULED']\nRandomSamplingwMedianPolicy, Number:FINISHED 40\nRandomSamplingwMedianPolicy, Number:RUNNING 4\nRandomSamplingwMedianPolicy, Number:SCHEDULED 1\n['FINISHED' 'RUNNING' 'SCHEDULED']\nRandomSamplingwMedianPolicy, Number:FINISHED 41\nRandomSamplingwMedianPolicy, Number:RUNNING 4\nRandomSamplingwMedianPolicy, Number:SCHEDULED 3\n['FINISHED' 'RUNNING']\nRandomSamplingwMedianPolicy, Number:FINISHED 45\nRandomSamplingwMedianPolicy, Number:RUNNING 3\n['FINISHED' 'RUNNING' 'SCHEDULED']\nRandomSamplingwMedianPolicy, Number:FINISHED 45\nRandomSamplingwMedianPolicy, Number:RUNNING 4\nRandomSamplingwMedianPolicy, Number:SCHEDULED 3\n['FINISHED' 'RUNNING' 'SCHEDULED']\nRandomSamplingwMedianPolicy, Number:FINISHED 49\nRandomSamplingwMedianPolicy, Number:RUNNING 3\nRandomSamplingwMedianPolicy, Number:SCHEDULED 3\n['FINISHED' 'RUNNING' 'SCHEDULED']\nRandomSamplingwMedianPolicy, Number:FINISHED 49\nRandomSamplingwMedianPolicy, Number:RUNNING 4\nRandomSamplingwMedianPolicy, Number:SCHEDULED 2\n['FINISHED' 'RUNNING' 'SCHEDULED']\nRandomSamplingwMedianPolicy, Number:FINISHED 53\nRandomSamplingwMedianPolicy, Number:RUNNING 3\nRandomSamplingwMedianPolicy, Number:SCHEDULED 3\n['FINISHED' 'RUNNING' 'SCHEDULED']\nRandomSamplingwMedianPolicy, Number:FINISHED 54\nRandomSamplingwMedianPolicy, Number:RUNNING 3\nRandomSamplingwMedianPolicy, Number:SCHEDULED 2\n['FINISHED' 'RUNNING' 'SCHEDULED']\nRandomSamplingwMedianPolicy, Number:FINISHED 57\nRandomSamplingwMedianPolicy, Number:RUNNING 4\nRandomSamplingwMedianPolicy, Number:SCHEDULED 2\n['FINISHED' 'RUNNING' 'SCHEDULED']\nRandomSamplingwMedianPolicy, Number:FINISHED 60\nRandomSamplingwMedianPolicy, Number:RUNNING 1\nRandomSamplingwMedianPolicy, Number:SCHEDULED 2\n['FINISHED' 'RUNNING' 'SCHEDULED']\nRandomSamplingwMedianPolicy, Number:FINISHED 61\nRandomSamplingwMedianPolicy, Number:RUNNING 4\nRandomSamplingwMedianPolicy, Number:SCHEDULED 2\n['FINISHED' 'RUNNING' 'SCHEDULED']\nRandomSamplingwMedianPolicy, Number:FINISHED 64\nRandomSamplingwMedianPolicy, Number:RUNNING 1\nRandomSamplingwMedianPolicy, Number:SCHEDULED 5\n['FINISHED' 'RUNNING' 'SCHEDULED']\nRandomSamplingwMedianPolicy, Number:FINISHED 65\nRandomSamplingwMedianPolicy, Number:RUNNING 4\nRandomSamplingwMedianPolicy, Number:SCHEDULED 3\n['FINISHED' 'RUNNING' 'SCHEDULED']\nRandomSamplingwMedianPolicy, Number:FINISHED 69\nRandomSamplingwMedianPolicy, Number:RUNNING 1\nRandomSamplingwMedianPolicy, Number:SCHEDULED 2\n['FINISHED' 'RUNNING']\nRandomSamplingwMedianPolicy, Number:FINISHED 70\nRandomSamplingwMedianPolicy, Number:RUNNING 2\n['FINISHED' 'RUNNING' 'SCHEDULED']\nRandomSamplingwMedianPolicy, Number:FINISHED 72\nRandomSamplingwMedianPolicy, Number:RUNNING 3\nRandomSamplingwMedianPolicy, Number:SCHEDULED 1\n['FINISHED' 'RUNNING']\nRandomSamplingwMedianPolicy, Number:FINISHED 74\nRandomSamplingwMedianPolicy, Number:RUNNING 2\n['FINISHED' 'RUNNING' 'SCHEDULED']\nRandomSamplingwMedianPolicy, Number:FINISHED 76\nRandomSamplingwMedianPolicy, Number:RUNNING 3\nRandomSamplingwMedianPolicy, Number:SCHEDULED 1\n['FINISHED' 'RUNNING' 'SCHEDULED']\nRandomSamplingwMedianPolicy, Number:FINISHED 78\nRandomSamplingwMedianPolicy, Number:RUNNING 2\nRandomSamplingwMedianPolicy, Number:SCHEDULED 4\n['FINISHED' 'RUNNING' 'SCHEDULED']\nRandomSamplingwMedianPolicy, Number:FINISHED 80\nRandomSamplingwMedianPolicy, Number:RUNNING 3\nRandomSamplingwMedianPolicy, Number:SCHEDULED 1\n['FINISHED' 'RUNNING' 'SCHEDULED']\nRandomSamplingwMedianPolicy, Number:FINISHED 83\nRandomSamplingwMedianPolicy, Number:RUNNING 2\nRandomSamplingwMedianPolicy, Number:SCHEDULED 3\n['FINISHED' 'RUNNING']\nRandomSamplingwMedianPolicy, Number:FINISHED 85\nRandomSamplingwMedianPolicy, Number:RUNNING 3\n['FINISHED' 'RUNNING' 'SCHEDULED']\nRandomSamplingwMedianPolicy, Number:FINISHED 86\nRandomSamplingwMedianPolicy, Number:RUNNING 3\nRandomSamplingwMedianPolicy, Number:SCHEDULED 3\n['FINISHED' 'RUNNING' 'SCHEDULED']\nRandomSamplingwMedianPolicy, Number:FINISHED 89\nRandomSamplingwMedianPolicy, Number:RUNNING 2\nRandomSamplingwMedianPolicy, Number:SCHEDULED 1\n['FINISHED' 'RUNNING' 'SCHEDULED']\nRandomSamplingwMedianPolicy, Number:FINISHED 91\nRandomSamplingwMedianPolicy, Number:RUNNING 2\nRandomSamplingwMedianPolicy, Number:SCHEDULED 4\n['FINISHED' 'RUNNING' 'SCHEDULED']\nRandomSamplingwMedianPolicy, Number:FINISHED 93\nRandomSamplingwMedianPolicy, Number:RUNNING 4\nRandomSamplingwMedianPolicy, Number:SCHEDULED 3\n['FINISHED' 'RUNNING' 'SCHEDULED']\nRandomSamplingwMedianPolicy, Number:FINISHED 95\nRandomSamplingwMedianPolicy, Number:RUNNING 2\nRandomSamplingwMedianPolicy, Number:SCHEDULED 3\n['FINISHED' 'RUNNING' 'SCHEDULED']\nRandomSamplingwMedianPolicy, Number:FINISHED 97\nRandomSamplingwMedianPolicy, Number:RUNNING 4\nRandomSamplingwMedianPolicy, Number:SCHEDULED 3\n['FINISHED' 'RUNNING' 'SCHEDULED']\nRandomSamplingwMedianPolicy, Number:FINISHED 99\nRandomSamplingwMedianPolicy, Number:RUNNING 2\nRandomSamplingwMedianPolicy, Number:SCHEDULED 3\n['FINISHED' 'RUNNING' 'SCHEDULED']\nRandomSamplingwMedianPolicy, Number:FINISHED 101\nRandomSamplingwMedianPolicy, Number:RUNNING 4\nRandomSamplingwMedianPolicy, Number:SCHEDULED 3\n"
        },
        {
          "output_type": "stream",
          "name": "stdout",
          "text": "['FINISHED' 'RUNNING' 'SCHEDULED']\nRandomSamplingwMedianPolicy, Number:FINISHED 103\nRandomSamplingwMedianPolicy, Number:RUNNING 3\nRandomSamplingwMedianPolicy, Number:SCHEDULED 2\n['FINISHED' 'RUNNING' 'SCHEDULED']\nRandomSamplingwMedianPolicy, Number:FINISHED 105\nRandomSamplingwMedianPolicy, Number:RUNNING 4\nRandomSamplingwMedianPolicy, Number:SCHEDULED 3\n['FINISHED' 'RUNNING' 'SCHEDULED']\nRandomSamplingwMedianPolicy, Number:FINISHED 108\nRandomSamplingwMedianPolicy, Number:RUNNING 2\nRandomSamplingwMedianPolicy, Number:SCHEDULED 2\n['FINISHED' 'RUNNING' 'SCHEDULED']\nRandomSamplingwMedianPolicy, Number:FINISHED 109\nRandomSamplingwMedianPolicy, Number:RUNNING 4\nRandomSamplingwMedianPolicy, Number:SCHEDULED 3\n['FINISHED' 'SCHEDULED' 'RUNNING']\nRandomSamplingwMedianPolicy, Number:FINISHED 112\nRandomSamplingwMedianPolicy, Number:SCHEDULED 6\nRandomSamplingwMedianPolicy, Number:RUNNING 2\n['FINISHED' 'RUNNING' 'SCHEDULED']\nRandomSamplingwMedianPolicy, Number:FINISHED 113\nRandomSamplingwMedianPolicy, Number:RUNNING 4\nRandomSamplingwMedianPolicy, Number:SCHEDULED 3\n['FINISHED' 'RUNNING']\nRandomSamplingwMedianPolicy, Number:FINISHED 116\nRandomSamplingwMedianPolicy, Number:RUNNING 4\n['FINISHED' 'RUNNING']\nRandomSamplingwMedianPolicy, Number:FINISHED 118\nRandomSamplingwMedianPolicy, Number:RUNNING 2\n['FINISHED']\nRandomSamplingwMedianPolicy, Number:FINISHED 120\nSweep Job for run:ashy_fowl_r00ydbtybb Complete\n"
        }
      ],
      "execution_count": 77,
      "metadata": {}
    },
    {
      "cell_type": "code",
      "source": [],
      "outputs": [],
      "execution_count": null,
      "metadata": {}
    },
    {
      "cell_type": "markdown",
      "source": [
        "## Random Sampling with Bandit Policy"
      ],
      "metadata": {}
    },
    {
      "cell_type": "code",
      "source": [
        "from azure.ai.ml.sweep import Choice, Uniform, MedianStoppingPolicy, BanditPolicy, TruncationSelectionPolicy\n",
        "\n",
        "\n",
        "myjob = command(\n",
        "    code=\"./hyperparametertune\",  # local path where the code is stored\n",
        "    command=\"python main.py --titanic ${{inputs.titanic}} --randomstate ${{inputs.randomstate}}\",\n",
        "    inputs={\n",
        "        \"titanic\": Input(\n",
        "            type=\"uri_file\",\n",
        "            path=\"azureml:titanic_prepped:1\",\n",
        "        ),\n",
        "        \"randomstate\": 0,\n",
        "        \"penalty_term\": 'l1',\n",
        "        \"C\": 0.01,\n",
        "        \"max_iter\": 100,\n",
        "    },\n",
        "    environment=\"job_base_env@latest\",\n",
        "    compute=\"cpu-cluster\",\n",
        "    display_name=\"RandomSamplingwBanditPolicy\",\n",
        ")\n",
        "\n",
        "# #Set Parameter expressions\n",
        "# #choice, randint, qlognormal, qnormal, qloguniform, quniform, lognormal, normal, loguniform, uniform\n",
        "command_job_for_sweep = myjob(\n",
        "    penalty_term=Choice(values=['l2', 'l1']),\n",
        "    C=Uniform(min_value=0.01, max_value=10.0),\n",
        "    max_iter=Choice(values=[10, 100, 150, 200]),\n",
        ")"
      ],
      "outputs": [],
      "execution_count": 78,
      "metadata": {}
    },
    {
      "cell_type": "code",
      "source": [
        "# apply the sweep parameter to obtain the sweep_job\n",
        "sweep_job = command_job_for_sweep.sweep(\n",
        "    compute=\"cpu-cluster\",\n",
        "    sampling_algorithm=\"random\",\n",
        "    primary_metric=\"training_roc_auc_score\",\n",
        "    goal=\"Maximize\",\n",
        ")\n",
        "\n",
        "sweep_job.set_limits(max_total_trials=60, \n",
        "                     max_concurrent_trials=10, \n",
        "                     timeout=7200)\n",
        "\n",
        "#early_termination - Early termination policy to end poorly performing runs. If no termination policy is specified, all configurations are run to completion. \n",
        "sweep_job.early_termination = BanditPolicy(slack_factor = 0.1, delay_evaluation = 5, evaluation_interval = 1)\n"
      ],
      "outputs": [],
      "execution_count": 79,
      "metadata": {}
    },
    {
      "cell_type": "code",
      "source": [
        "# submit the sweep\n",
        "returned_sweep_job = ml_client.create_or_update(sweep_job)\n",
        "# get a URL for the status of the job\n",
        "returned_sweep_job.services[\"Studio\"].endpoint"
      ],
      "outputs": [
        {
          "output_type": "execute_result",
          "execution_count": 80,
          "data": {
            "text/plain": "'https://ml.azure.com/runs/eager_star_zsns5tplf9?wsid=/subscriptions/5da07161-3770-4a4b-aa43-418cbbb627cf/resourcegroups/aml-workspace-rg/workspaces/aml-workspace&tid=72f988bf-86f1-41af-91ab-2d7cd011db47'"
          },
          "metadata": {}
        }
      ],
      "execution_count": 80,
      "metadata": {}
    },
    {
      "cell_type": "code",
      "source": [
        "returned_sweep_job"
      ],
      "outputs": [
        {
          "output_type": "execute_result",
          "execution_count": 81,
          "data": {
            "text/html": "<table style=\"width:100%\"><tr><th>Experiment</th><th>Name</th><th>Type</th><th>Status</th><th>Details Page</th></tr><tr><td>Chapter4</td><td>eager_star_zsns5tplf9</td><td>sweep</td><td>Running</td><td><a href=\"https://ml.azure.com/runs/eager_star_zsns5tplf9?wsid=/subscriptions/5da07161-3770-4a4b-aa43-418cbbb627cf/resourcegroups/aml-workspace-rg/workspaces/aml-workspace&amp;tid=72f988bf-86f1-41af-91ab-2d7cd011db47\" target=\"_blank\" rel=\"noopener\">Link to Azure Machine Learning studio</a></td></tr></table>",
            "text/plain": "SweepJob({'type': 'sweep', 'status': 'Running', 'log_files': None, 'name': 'eager_star_zsns5tplf9', 'description': None, 'tags': {'_aml_system_max_concurrent_jobs': '10', '_aml_system_max_total_jobs': '60', '_aml_system_max_duration_minutes': '120', '_aml_system_policy_config': '{\"name\":\"Bandit\",\"properties\":{\"evaluation_interval\":1,\"delay_evaluation\":5,\"slack_factor\":0.1}}', '_aml_system_generator_config': '{\"name\":\"RANDOM\",\"parameter_space\":{\"penalty_term\":[\"choice\",[[\"l2\",\"l1\"]]],\"C\":[\"uniform\",[0.01,10.0]],\"max_iter\":[\"choice\",[[10,100,150,200]]]},\"properties\":{\"rule\":\"Random\",\"seed\":null}}', '_aml_system_primary_metric_config': '{\"name\":\"training_roc_auc_score\",\"goal\":\"maximize\"}', '_aml_system_platform_config': '{\"ServiceAddress\":\"https://eastus.api.azureml.ms\",\"SubscriptionId\":\"5da07161-3770-4a4b-aa43-418cbbb627cf\",\"ResourceGroupName\":\"aml-workspace-rg\",\"WorkspaceName\":\"aml-workspace\",\"ExperimentName\":\"Chapter4\",\"Definition\":{\"Configuration\":null,\"Attribution\":null,\"TelemetryValues\":null,\"Overrides\":{\"Script\":null,\"Command\":\"python main.py --titanic ${{inputs.titanic}} --randomstate ${{inputs.randomstate}}\",\"UseAbsolutePath\":true,\"Arguments\":[],\"SourceDirectoryDataStore\":null,\"Framework\":0,\"Target\":\"cpu-cluster\",\"DataReferences\":{},\"Data\":{\"titanic\":{\"DataLocation\":{\"Dataset\":null,\"DataPath\":null,\"Uri\":{\"Path\":\"/subscriptions/5da07161-3770-4a4b-aa43-418cbbb627cf/resourceGroups/aml-workspace-rg/providers/Microsoft.MachineLearningServices/workspaces/aml-workspace/data/titanic_prepped/versions/1\",\"IsFile\":true},\"Type\":\"UriFile\"},\"Mechanism\":\"Mount\",\"EnvironmentVariableName\":\"AZURE_ML_INPUT_titanic\",\"PathOnCompute\":null,\"Overwrite\":false,\"Options\":{\"IsEvalMode\":\"False\",\"ReadWrite\":\"False\",\"ForceFolder\":\"False\"}}},\"InputAssets\":{\"titanic\":{\"Asset\":{\"AssetId\":\"azureml://locations/eastus/workspaces/88449c92-2fa7-4734-8cc5-76e1776b55bb/data/titanic_prepped/versions/1\",\"Type\":\"UriFile\"},\"Mechanism\":\"Mount\",\"EnvironmentVariableName\":\"AZURE_ML_INPUT_titanic\",\"PathOnCompute\":null,\"Overwrite\":false,\"Options\":{\"IsEvalMode\":\"False\",\"ReadWrite\":\"False\",\"ForceFolder\":\"False\"}}},\"OutputData\":{},\"Datacaches\":[],\"JobName\":null,\"MaxRunDurationSeconds\":null,\"NodeCount\":1,\"InstanceTypes\":[],\"Priority\":null,\"CredentialPassthrough\":false,\"Identity\":null,\"Environment\":{\"Name\":\"job_base_env\",\"Version\":\"2022-07-31-20-57-13-0098422\",\"AssetId\":\"azureml://locations/eastus/workspaces/88449c92-2fa7-4734-8cc5-76e1776b55bb/environments/job_base_env/versions/2022-07-31-20-57-13-0098422\",\"Python\":{\"InterpreterPath\":null,\"UserManagedDependencies\":false,\"CondaDependencies\":{\"dependencies\":[\"python=3.8.5\",\"scikit-learn\",\"ipykernel\",\"matplotlib\",\"pandas\",\"pip\",{\"pip\":[\"azureml-defaults\",\"pyarrow\",\"azureml-mlflow==1.43.0.post1\",\"azure-ai-ml\",\"mltable\"]}],\"name\":\"job_env\"},\"BaseCondaEnvironment\":null},\"EnvironmentVariables\":{},\"Docker\":{\"BaseImage\":\"mcr.microsoft.com/azureml/openmpi3.1.2-ubuntu18.04\",\"Platform\":{\"Os\":\"Linux\",\"Architecture\":\"amd64\"},\"BaseDockerfile\":null,\"BaseImageRegistry\":null},\"Spark\":{\"Repositories\":[],\"Packages\":[],\"PrecachePackages\":true},\"InferencingStackVersion\":null},\"History\":{\"OutputCollection\":true,\"DirectoriesToWatch\":[\"logs\"],\"EnableMLflowTracking\":true},\"Spark\":{\"Configuration\":{}},\"ParallelTask\":{\"MaxRetriesPerWorker\":0,\"WorkerCountPerNode\":1,\"TerminalExitCodes\":null,\"Configuration\":{}},\"BatchAi\":{\"NodeCount\":0},\"AmlCompute\":{\"Name\":null,\"VmSize\":null,\"RetainCluster\":false,\"ClusterMaxNodeCount\":null},\"AISuperComputer\":{\"InstanceType\":\"D2\",\"FrameworkImage\":null,\"ImageVersion\":\"pytorch-1.7.0\",\"Location\":null,\"AISuperComputerStorageData\":null,\"Interactive\":false,\"ScalePolicy\":null,\"VirtualClusterArmId\":null,\"TensorboardLogDirectory\":null,\"SSHPublicKey\":null,\"SSHPublicKeys\":null,\"EnableAzmlInt\":true,\"Priority\":\"Medium\",\"SLATier\":\"Standard\",\"UserAlias\":null},\"KubernetesCompute\":{\"InstanceType\":null},\"Tensorflow\":{\"WorkerCount\":0,\"ParameterServerCount\":0},\"Mpi\":{\"ProcessCountPerNode\":0},\"PyTorch\":{\"CommunicationBackend\":null,\"ProcessCount\":null},\"Hdi\":{\"YarnDeployMode\":0},\"ContainerInstance\":{\"Region\":null,\"CpuCores\":2.0,\"MemoryGb\":3.5},\"ExposedPorts\":null,\"Docker\":{\"UseDocker\":true,\"SharedVolumes\":null,\"ShmSize\":null,\"Arguments\":null},\"Cmk8sCompute\":{\"Configuration\":{}},\"CommandReturnCodeConfig\":{\"ReturnCode\":0,\"SuccessfulReturnCodes\":[]},\"EnvironmentVariables\":{},\"ApplicationEndpoints\":{},\"Parameters\":[{\"Name\":\"randomstate\",\"Type\":null,\"Value\":\"0\",\"IsOptional\":false}]},\"SnapshotId\":\"c8492dd9-e2d9-4345-9b18-6a954c3fc23e\",\"Snapshots\":[],\"SourceCodeDataReference\":null,\"ParentRunId\":null,\"DataContainerId\":null,\"RunType\":null,\"DisplayName\":\"RandomSamplingwBanditPolicy\",\"EnvironmentAssetId\":null,\"Properties\":{\"mlflow.source.git.repoURL\":\"https://github.com/PacktPublishing/Azure-Machine-Learning-Engineering.git\",\"mlflow.source.git.branch\":\"main\",\"azureml.git.dirty\":\"True\"},\"Tags\":{},\"AggregatedArtifactPath\":null},\"ParentRunId\":\"eager_star_zsns5tplf9\"}', '_aml_system_resume_child_runs': 'null', '_aml_system_all_jobs_generated': 'false', '_aml_system_cancellation_requested': 'false'}, 'properties': {'primary_metric_config': '{\"name\":\"training_roc_auc_score\",\"goal\":\"maximize\"}', 'resume_from': 'null', 'runTemplate': 'HyperDrive', 'azureml.runsource': 'hyperdrive', 'platform': 'AML', 'ContentSnapshotId': 'c8492dd9-e2d9-4345-9b18-6a954c3fc23e', 'user_agent': 'managementfrontend/a36d08b19818dc74f1c0c3ef9fd5c12a91e1826e', 'mlflow.source.git.repoURL': 'https://github.com/PacktPublishing/Azure-Machine-Learning-Engineering.git', 'mlflow.source.git.branch': 'main', 'azureml.git.dirty': 'True'}, 'id': '/subscriptions/5da07161-3770-4a4b-aa43-418cbbb627cf/resourceGroups/aml-workspace-rg/providers/Microsoft.MachineLearningServices/workspaces/aml-workspace/jobs/eager_star_zsns5tplf9', 'base_path': './', 'creation_context': <azure.ai.ml._restclient.v2022_02_01_preview.models._models_py3.SystemData object at 0x7f426cf4a2e0>, 'serialize': <msrest.serialization.Serializer object at 0x7f426cf4a820>, 'sampling_algorithm': <azure.ai.ml.entities._job.sweep.sampling_algorithm.RandomSamplingAlgorithm object at 0x7f4261c8b2e0>, 'early_termination': <azure.ai.ml.entities._job.sweep.early_termination_policy.BanditPolicy object at 0x7f4261c8b730>, 'limits': <azure.ai.ml.entities._job.job_limits.SweepJobLimits object at 0x7f426cf4ac10>, 'search_space': {'penalty_term': <azure.ai.ml.entities._job.sweep.search_space.Choice object at 0x7f426cf4a250>, 'C': <azure.ai.ml.entities._job.sweep.search_space.Uniform object at 0x7f426cf4a7f0>, 'max_iter': <azure.ai.ml.entities._job.sweep.search_space.Choice object at 0x7f426cf4a850>}, 'objective': <azure.ai.ml._restclient.v2022_02_01_preview.models._models_py3.Objective object at 0x7f426d969f10>, 'display_name': 'RandomSamplingwBanditPolicy', 'experiment_name': 'Chapter4', 'compute': 'cpu-cluster', 'services': {'Studio': <azure.ai.ml._restclient.v2022_02_01_preview.models._models_py3.JobService object at 0x7f426cf4abe0>}, 'inputs': {'titanic': {'type': 'uri_file', 'path': 'azureml://locations/eastus/workspaces/88449c92-2fa7-4734-8cc5-76e1776b55bb/data/titanic_prepped/versions/1', 'mode': 'ro_mount'}, 'randomstate': '0'}, 'outputs': {'default': {'type': 'uri_folder', 'path': 'azureml://datastores/workspaceartifactstore/ExperimentRun/dcid.eager_star_zsns5tplf9', 'mode': 'rw_mount'}}, 'trial': <azure.ai.ml.entities._job.parameterized_command.ParameterizedCommand object at 0x7f426cf4a550>, 'identity': None})"
          },
          "metadata": {}
        }
      ],
      "execution_count": 81,
      "metadata": {}
    },
    {
      "cell_type": "code",
      "source": [
        "runid = returned_sweep_job.name\n",
        "print('runid:' + runid)\n",
        "experiment = returned_job.experiment_name\n",
        "print(\"experiment:\" + experiment)\n",
        "\n",
        "current_experiment=dict(mlflow.get_experiment_by_name(experiment))\n",
        "experiment_id=current_experiment['experiment_id']\n",
        "print(experiment_id)\n",
        "\n",
        "#get status\n",
        "getStatus(experiment_id, runid)"
      ],
      "outputs": [
        {
          "output_type": "stream",
          "name": "stdout",
          "text": "runid:eager_star_zsns5tplf9\nexperiment:Chapter4\nf216050c-8943-43ca-99d0-59e50e104202\n['RUNNING' 'SCHEDULED']\nRandomSamplingwBanditPolicy, Number:RUNNING 4\nRandomSamplingwBanditPolicy, Number:SCHEDULED 6\n['FINISHED' 'SCHEDULED']\nRandomSamplingwBanditPolicy, Number:FINISHED 4\nRandomSamplingwBanditPolicy, Number:SCHEDULED 6\n['FINISHED' 'RUNNING' 'SCHEDULED']\nRandomSamplingwBanditPolicy, Number:FINISHED 4\nRandomSamplingwBanditPolicy, Number:RUNNING 4\nRandomSamplingwBanditPolicy, Number:SCHEDULED 2\n['FINISHED' 'SCHEDULED']\nRandomSamplingwBanditPolicy, Number:FINISHED 8\nRandomSamplingwBanditPolicy, Number:SCHEDULED 2\n['FINISHED' 'RUNNING']\nRandomSamplingwBanditPolicy, Number:FINISHED 8\nRandomSamplingwBanditPolicy, Number:RUNNING 2\n['FINISHED' 'RUNNING']\nRandomSamplingwBanditPolicy, Number:FINISHED 10\nRandomSamplingwBanditPolicy, Number:RUNNING 4\n['FINISHED' 'RUNNING' 'SCHEDULED']\nRandomSamplingwBanditPolicy, Number:FINISHED 12\nRandomSamplingwBanditPolicy, Number:RUNNING 2\nRandomSamplingwBanditPolicy, Number:SCHEDULED 4\n['FINISHED' 'RUNNING']\nRandomSamplingwBanditPolicy, Number:FINISHED 14\nRandomSamplingwBanditPolicy, Number:RUNNING 4\n['FINISHED' 'RUNNING' 'SCHEDULED']\nRandomSamplingwBanditPolicy, Number:FINISHED 17\nRandomSamplingwBanditPolicy, Number:RUNNING 1\nRandomSamplingwBanditPolicy, Number:SCHEDULED 3\n['FINISHED' 'RUNNING']\nRandomSamplingwBanditPolicy, Number:FINISHED 18\nRandomSamplingwBanditPolicy, Number:RUNNING 3\n['FINISHED' 'RUNNING' 'SCHEDULED']\nRandomSamplingwBanditPolicy, Number:FINISHED 21\nRandomSamplingwBanditPolicy, Number:RUNNING 2\nRandomSamplingwBanditPolicy, Number:SCHEDULED 2\n['FINISHED' 'RUNNING']\nRandomSamplingwBanditPolicy, Number:FINISHED 22\nRandomSamplingwBanditPolicy, Number:RUNNING 3\n['FINISHED' 'SCHEDULED' 'RUNNING']\nRandomSamplingwBanditPolicy, Number:FINISHED 25\nRandomSamplingwBanditPolicy, Number:SCHEDULED 2\nRandomSamplingwBanditPolicy, Number:RUNNING 2\n['FINISHED' 'RUNNING' 'SCHEDULED']\nRandomSamplingwBanditPolicy, Number:FINISHED 26\nRandomSamplingwBanditPolicy, Number:RUNNING 4\nRandomSamplingwBanditPolicy, Number:SCHEDULED 3\n['FINISHED' 'RUNNING' 'SCHEDULED']\nRandomSamplingwBanditPolicy, Number:FINISHED 29\nRandomSamplingwBanditPolicy, Number:RUNNING 3\nRandomSamplingwBanditPolicy, Number:SCHEDULED 1\n['FINISHED' 'RUNNING' 'SCHEDULED']\nRandomSamplingwBanditPolicy, Number:FINISHED 31\nRandomSamplingwBanditPolicy, Number:RUNNING 3\nRandomSamplingwBanditPolicy, Number:SCHEDULED 3\n['FINISHED' 'RUNNING']\nRandomSamplingwBanditPolicy, Number:FINISHED 34\nRandomSamplingwBanditPolicy, Number:RUNNING 3\n['FINISHED' 'SCHEDULED' 'RUNNING']\nRandomSamplingwBanditPolicy, Number:FINISHED 37\nRandomSamplingwBanditPolicy, Number:SCHEDULED 3\nRandomSamplingwBanditPolicy, Number:RUNNING 1\n['FINISHED' 'RUNNING' 'SCHEDULED']\nRandomSamplingwBanditPolicy, Number:FINISHED 38\nRandomSamplingwBanditPolicy, Number:RUNNING 3\nRandomSamplingwBanditPolicy, Number:SCHEDULED 4\n['FINISHED' 'RUNNING' 'SCHEDULED']\nRandomSamplingwBanditPolicy, Number:FINISHED 41\nRandomSamplingwBanditPolicy, Number:RUNNING 2\nRandomSamplingwBanditPolicy, Number:SCHEDULED 2\n['FINISHED' 'RUNNING' 'SCHEDULED']\nRandomSamplingwBanditPolicy, Number:FINISHED 42\nRandomSamplingwBanditPolicy, Number:RUNNING 4\nRandomSamplingwBanditPolicy, Number:SCHEDULED 2\n['FINISHED' 'RUNNING' 'SCHEDULED']\nRandomSamplingwBanditPolicy, Number:FINISHED 46\nRandomSamplingwBanditPolicy, Number:RUNNING 1\nRandomSamplingwBanditPolicy, Number:SCHEDULED 1\n['FINISHED' 'RUNNING' 'SCHEDULED']\nRandomSamplingwBanditPolicy, Number:FINISHED 47\nRandomSamplingwBanditPolicy, Number:RUNNING 3\nRandomSamplingwBanditPolicy, Number:SCHEDULED 2\n['FINISHED' 'RUNNING' 'SCHEDULED']\nRandomSamplingwBanditPolicy, Number:FINISHED 50\nRandomSamplingwBanditPolicy, Number:RUNNING 4\nRandomSamplingwBanditPolicy, Number:SCHEDULED 2\n['FINISHED' 'RUNNING' 'SCHEDULED']\nRandomSamplingwBanditPolicy, Number:FINISHED 52\nRandomSamplingwBanditPolicy, Number:RUNNING 3\nRandomSamplingwBanditPolicy, Number:SCHEDULED 1\n['FINISHED' 'RUNNING' 'SCHEDULED']\nRandomSamplingwBanditPolicy, Number:FINISHED 54\nRandomSamplingwBanditPolicy, Number:RUNNING 4\nRandomSamplingwBanditPolicy, Number:SCHEDULED 2\n['FINISHED' 'RUNNING' 'SCHEDULED']\nRandomSamplingwBanditPolicy, Number:FINISHED 57\nRandomSamplingwBanditPolicy, Number:RUNNING 2\nRandomSamplingwBanditPolicy, Number:SCHEDULED 1\n['FINISHED' 'RUNNING']\nRandomSamplingwBanditPolicy, Number:FINISHED 58\nRandomSamplingwBanditPolicy, Number:RUNNING 2\n['FINISHED']\nRandomSamplingwBanditPolicy, Number:FINISHED 60\nSweep Job for run:eager_star_zsns5tplf9 Complete\n"
        }
      ],
      "execution_count": 82,
      "metadata": {}
    },
    {
      "cell_type": "markdown",
      "source": [
        "## Baysian Sampling"
      ],
      "metadata": {}
    },
    {
      "cell_type": "code",
      "source": [
        "from azure.ai.ml.sweep import Choice, Uniform, MedianStoppingPolicy, BanditPolicy, TruncationSelectionPolicy\n",
        "\n",
        "\n",
        "myjob = command(\n",
        "    code=\"./hyperparametertune\",  # local path where the code is stored\n",
        "    command=\"python main.py --titanic ${{inputs.titanic}} --randomstate ${{inputs.randomstate}}\",\n",
        "    inputs={\n",
        "        \"titanic\": Input(\n",
        "            type=\"uri_file\",\n",
        "            path=\"azureml:titanic_prepped:1\",\n",
        "        ),\n",
        "        \"randomstate\": 0,\n",
        "        \"penalty_term\": 'l1',\n",
        "        \"C\": 0.01,\n",
        "        \"max_iter\": 100,\n",
        "    },\n",
        "    environment=\"job_base_env@latest\",\n",
        "    compute=\"cpu-cluster\",\n",
        "    display_name=\"Bayesian\",\n",
        ")\n",
        "\n",
        "# #Set Parameter expressions\n",
        "command_job_for_sweep = myjob(\n",
        "    penalty_term=Choice(values=['l2', 'l1']),\n",
        "    C=Uniform(min_value=0.01, max_value=10.0),\n",
        "    max_iter=Choice(values=[10, 100, 150, 200]),\n",
        ")"
      ],
      "outputs": [],
      "execution_count": 83,
      "metadata": {}
    },
    {
      "cell_type": "code",
      "source": [
        "# apply the sweep parameter to obtain the sweep_job\n",
        "sweep_job = command_job_for_sweep.sweep(\n",
        "    compute=\"cpu-cluster\",\n",
        "    sampling_algorithm=\"bayesian\",\n",
        "    primary_metric=\"test_AUC\",\n",
        "    goal=\"Maximize\",\n",
        ")\n",
        "\n",
        "# define the limits for this sweep\n",
        "sweep_job.set_limits(max_total_trials=60, max_concurrent_trials=10, timeout=7200)"
      ],
      "outputs": [],
      "execution_count": 84,
      "metadata": {}
    },
    {
      "cell_type": "code",
      "source": [
        "# submit the sweep\n",
        "returned_sweep_job = ml_client.create_or_update(sweep_job)\n",
        "# get a URL for the status of the job\n",
        "returned_sweep_job.services[\"Studio\"].endpoint"
      ],
      "outputs": [
        {
          "output_type": "execute_result",
          "execution_count": 85,
          "data": {
            "text/plain": "'https://ml.azure.com/runs/lime_foot_b7w1q0yrt6?wsid=/subscriptions/5da07161-3770-4a4b-aa43-418cbbb627cf/resourcegroups/aml-workspace-rg/workspaces/aml-workspace&tid=72f988bf-86f1-41af-91ab-2d7cd011db47'"
          },
          "metadata": {}
        }
      ],
      "execution_count": 85,
      "metadata": {}
    },
    {
      "cell_type": "code",
      "source": [
        "returned_sweep_job"
      ],
      "outputs": [
        {
          "output_type": "execute_result",
          "execution_count": 86,
          "data": {
            "text/html": "<table style=\"width:100%\"><tr><th>Experiment</th><th>Name</th><th>Type</th><th>Status</th><th>Details Page</th></tr><tr><td>Chapter4</td><td>lime_foot_b7w1q0yrt6</td><td>sweep</td><td>Running</td><td><a href=\"https://ml.azure.com/runs/lime_foot_b7w1q0yrt6?wsid=/subscriptions/5da07161-3770-4a4b-aa43-418cbbb627cf/resourcegroups/aml-workspace-rg/workspaces/aml-workspace&amp;tid=72f988bf-86f1-41af-91ab-2d7cd011db47\" target=\"_blank\" rel=\"noopener\">Link to Azure Machine Learning studio</a></td></tr></table>",
            "text/plain": "SweepJob({'type': 'sweep', 'status': 'Running', 'log_files': None, 'name': 'lime_foot_b7w1q0yrt6', 'description': None, 'tags': {'_aml_system_max_concurrent_jobs': '10', '_aml_system_max_total_jobs': '60', '_aml_system_max_duration_minutes': '120', '_aml_system_policy_config': '{\"name\":\"Default\",\"properties\":{}}', '_aml_system_generator_config': '{\"name\":\"BAYESIANOPTIMIZATION\",\"parameter_space\":{\"penalty_term\":[\"choice\",[[\"l2\",\"l1\"]]],\"C\":[\"uniform\",[0.01,10.0]],\"max_iter\":[\"choice\",[[10,100,150,200]]]},\"properties\":{}}', '_aml_system_primary_metric_config': '{\"name\":\"test_AUC\",\"goal\":\"maximize\"}', '_aml_system_platform_config': '{\"ServiceAddress\":\"https://eastus.api.azureml.ms\",\"SubscriptionId\":\"5da07161-3770-4a4b-aa43-418cbbb627cf\",\"ResourceGroupName\":\"aml-workspace-rg\",\"WorkspaceName\":\"aml-workspace\",\"ExperimentName\":\"Chapter4\",\"Definition\":{\"Configuration\":null,\"Attribution\":null,\"TelemetryValues\":null,\"Overrides\":{\"Script\":null,\"Command\":\"python main.py --titanic ${{inputs.titanic}} --randomstate ${{inputs.randomstate}}\",\"UseAbsolutePath\":true,\"Arguments\":[],\"SourceDirectoryDataStore\":null,\"Framework\":0,\"Target\":\"cpu-cluster\",\"DataReferences\":{},\"Data\":{\"titanic\":{\"DataLocation\":{\"Dataset\":null,\"DataPath\":null,\"Uri\":{\"Path\":\"/subscriptions/5da07161-3770-4a4b-aa43-418cbbb627cf/resourceGroups/aml-workspace-rg/providers/Microsoft.MachineLearningServices/workspaces/aml-workspace/data/titanic_prepped/versions/1\",\"IsFile\":true},\"Type\":\"UriFile\"},\"Mechanism\":\"Mount\",\"EnvironmentVariableName\":\"AZURE_ML_INPUT_titanic\",\"PathOnCompute\":null,\"Overwrite\":false,\"Options\":{\"IsEvalMode\":\"False\",\"ReadWrite\":\"False\",\"ForceFolder\":\"False\"}}},\"InputAssets\":{\"titanic\":{\"Asset\":{\"AssetId\":\"azureml://locations/eastus/workspaces/88449c92-2fa7-4734-8cc5-76e1776b55bb/data/titanic_prepped/versions/1\",\"Type\":\"UriFile\"},\"Mechanism\":\"Mount\",\"EnvironmentVariableName\":\"AZURE_ML_INPUT_titanic\",\"PathOnCompute\":null,\"Overwrite\":false,\"Options\":{\"IsEvalMode\":\"False\",\"ReadWrite\":\"False\",\"ForceFolder\":\"False\"}}},\"OutputData\":{},\"Datacaches\":[],\"JobName\":null,\"MaxRunDurationSeconds\":null,\"NodeCount\":1,\"InstanceTypes\":[],\"Priority\":null,\"CredentialPassthrough\":false,\"Identity\":null,\"Environment\":{\"Name\":\"job_base_env\",\"Version\":\"2022-07-31-20-57-13-0098422\",\"AssetId\":\"azureml://locations/eastus/workspaces/88449c92-2fa7-4734-8cc5-76e1776b55bb/environments/job_base_env/versions/2022-07-31-20-57-13-0098422\",\"Python\":{\"InterpreterPath\":null,\"UserManagedDependencies\":false,\"CondaDependencies\":{\"dependencies\":[\"python=3.8.5\",\"scikit-learn\",\"ipykernel\",\"matplotlib\",\"pandas\",\"pip\",{\"pip\":[\"azureml-defaults\",\"pyarrow\",\"azureml-mlflow==1.43.0.post1\",\"azure-ai-ml\",\"mltable\"]}],\"name\":\"job_env\"},\"BaseCondaEnvironment\":null},\"EnvironmentVariables\":{},\"Docker\":{\"BaseImage\":\"mcr.microsoft.com/azureml/openmpi3.1.2-ubuntu18.04\",\"Platform\":{\"Os\":\"Linux\",\"Architecture\":\"amd64\"},\"BaseDockerfile\":null,\"BaseImageRegistry\":null},\"Spark\":{\"Repositories\":[],\"Packages\":[],\"PrecachePackages\":true},\"InferencingStackVersion\":null},\"History\":{\"OutputCollection\":true,\"DirectoriesToWatch\":[\"logs\"],\"EnableMLflowTracking\":true},\"Spark\":{\"Configuration\":{}},\"ParallelTask\":{\"MaxRetriesPerWorker\":0,\"WorkerCountPerNode\":1,\"TerminalExitCodes\":null,\"Configuration\":{}},\"BatchAi\":{\"NodeCount\":0},\"AmlCompute\":{\"Name\":null,\"VmSize\":null,\"RetainCluster\":false,\"ClusterMaxNodeCount\":null},\"AISuperComputer\":{\"InstanceType\":\"D2\",\"FrameworkImage\":null,\"ImageVersion\":\"pytorch-1.7.0\",\"Location\":null,\"AISuperComputerStorageData\":null,\"Interactive\":false,\"ScalePolicy\":null,\"VirtualClusterArmId\":null,\"TensorboardLogDirectory\":null,\"SSHPublicKey\":null,\"SSHPublicKeys\":null,\"EnableAzmlInt\":true,\"Priority\":\"Medium\",\"SLATier\":\"Standard\",\"UserAlias\":null},\"KubernetesCompute\":{\"InstanceType\":null},\"Tensorflow\":{\"WorkerCount\":0,\"ParameterServerCount\":0},\"Mpi\":{\"ProcessCountPerNode\":0},\"PyTorch\":{\"CommunicationBackend\":null,\"ProcessCount\":null},\"Hdi\":{\"YarnDeployMode\":0},\"ContainerInstance\":{\"Region\":null,\"CpuCores\":2.0,\"MemoryGb\":3.5},\"ExposedPorts\":null,\"Docker\":{\"UseDocker\":true,\"SharedVolumes\":null,\"ShmSize\":null,\"Arguments\":null},\"Cmk8sCompute\":{\"Configuration\":{}},\"CommandReturnCodeConfig\":{\"ReturnCode\":0,\"SuccessfulReturnCodes\":[]},\"EnvironmentVariables\":{},\"ApplicationEndpoints\":{},\"Parameters\":[{\"Name\":\"randomstate\",\"Type\":null,\"Value\":\"0\",\"IsOptional\":false}]},\"SnapshotId\":\"c8492dd9-e2d9-4345-9b18-6a954c3fc23e\",\"Snapshots\":[],\"SourceCodeDataReference\":null,\"ParentRunId\":null,\"DataContainerId\":null,\"RunType\":null,\"DisplayName\":\"Bayesian\",\"EnvironmentAssetId\":null,\"Properties\":{\"mlflow.source.git.repoURL\":\"https://github.com/PacktPublishing/Azure-Machine-Learning-Engineering.git\",\"mlflow.source.git.branch\":\"main\",\"azureml.git.dirty\":\"True\"},\"Tags\":{},\"AggregatedArtifactPath\":null},\"ParentRunId\":\"lime_foot_b7w1q0yrt6\"}', '_aml_system_resume_child_runs': 'null', '_aml_system_all_jobs_generated': 'false', '_aml_system_cancellation_requested': 'false'}, 'properties': {'primary_metric_config': '{\"name\":\"test_AUC\",\"goal\":\"maximize\"}', 'resume_from': 'null', 'runTemplate': 'HyperDrive', 'azureml.runsource': 'hyperdrive', 'platform': 'AML', 'ContentSnapshotId': 'c8492dd9-e2d9-4345-9b18-6a954c3fc23e', 'user_agent': 'managementfrontend/a36d08b19818dc74f1c0c3ef9fd5c12a91e1826e', 'mlflow.source.git.repoURL': 'https://github.com/PacktPublishing/Azure-Machine-Learning-Engineering.git', 'mlflow.source.git.branch': 'main', 'azureml.git.dirty': 'True'}, 'id': '/subscriptions/5da07161-3770-4a4b-aa43-418cbbb627cf/resourceGroups/aml-workspace-rg/providers/Microsoft.MachineLearningServices/workspaces/aml-workspace/jobs/lime_foot_b7w1q0yrt6', 'base_path': './', 'creation_context': <azure.ai.ml._restclient.v2022_02_01_preview.models._models_py3.SystemData object at 0x7f4261ec8220>, 'serialize': <msrest.serialization.Serializer object at 0x7f4261ec8070>, 'sampling_algorithm': <azure.ai.ml.entities._job.sweep.sampling_algorithm.RandomSamplingAlgorithm object at 0x7f426d2e3d00>, 'early_termination': None, 'limits': <azure.ai.ml.entities._job.job_limits.SweepJobLimits object at 0x7f4261ec8280>, 'search_space': {'penalty_term': <azure.ai.ml.entities._job.sweep.search_space.Choice object at 0x7f4261ec8c70>, 'C': <azure.ai.ml.entities._job.sweep.search_space.Uniform object at 0x7f4261ec8af0>, 'max_iter': <azure.ai.ml.entities._job.sweep.search_space.Choice object at 0x7f4261ec8820>}, 'objective': <azure.ai.ml._restclient.v2022_02_01_preview.models._models_py3.Objective object at 0x7f426d71e640>, 'display_name': 'Bayesian', 'experiment_name': 'Chapter4', 'compute': 'cpu-cluster', 'services': {'Studio': <azure.ai.ml._restclient.v2022_02_01_preview.models._models_py3.JobService object at 0x7f426d71ed30>}, 'inputs': {'titanic': {'type': 'uri_file', 'path': 'azureml://locations/eastus/workspaces/88449c92-2fa7-4734-8cc5-76e1776b55bb/data/titanic_prepped/versions/1', 'mode': 'ro_mount'}, 'randomstate': '0'}, 'outputs': {'default': {'type': 'uri_folder', 'path': 'azureml://datastores/workspaceartifactstore/ExperimentRun/dcid.lime_foot_b7w1q0yrt6', 'mode': 'rw_mount'}}, 'trial': <azure.ai.ml.entities._job.parameterized_command.ParameterizedCommand object at 0x7f4261ec89d0>, 'identity': None})"
          },
          "metadata": {}
        }
      ],
      "execution_count": 86,
      "metadata": {}
    },
    {
      "cell_type": "code",
      "source": [
        "runid = returned_sweep_job.name\n",
        "print('runid:' + runid)\n",
        "experiment = returned_job.experiment_name\n",
        "print(\"experiment:\" + experiment)\n",
        "\n",
        "current_experiment=dict(mlflow.get_experiment_by_name(experiment))\n",
        "experiment_id=current_experiment['experiment_id']\n",
        "print(experiment_id)\n",
        "\n",
        "#get status\n",
        "getStatus(experiment_id, runid)"
      ],
      "outputs": [
        {
          "output_type": "stream",
          "name": "stdout",
          "text": "runid:lime_foot_b7w1q0yrt6\nexperiment:Chapter4\nf216050c-8943-43ca-99d0-59e50e104202\n['RUNNING' 'SCHEDULED']\nBayesian, Number:RUNNING 4\nBayesian, Number:SCHEDULED 6\n['FINISHED' 'RUNNING' 'SCHEDULED']\nBayesian, Number:FINISHED 4\nBayesian, Number:RUNNING 3\nBayesian, Number:SCHEDULED 3\n['FINISHED' 'RUNNING' 'SCHEDULED']\nBayesian, Number:FINISHED 5\nBayesian, Number:RUNNING 3\nBayesian, Number:SCHEDULED 2\n['FINISHED' 'RUNNING' 'SCHEDULED']\nBayesian, Number:FINISHED 8\nBayesian, Number:RUNNING 4\nBayesian, Number:SCHEDULED 1\n['FINISHED' 'RUNNING' 'SCHEDULED']\nBayesian, Number:FINISHED 11\nBayesian, Number:RUNNING 1\nBayesian, Number:SCHEDULED 4\n['FINISHED' 'RUNNING' 'SCHEDULED']\nBayesian, Number:FINISHED 12\nBayesian, Number:RUNNING 4\nBayesian, Number:SCHEDULED 1\n['FINISHED' 'RUNNING' 'SCHEDULED']\nBayesian, Number:FINISHED 15\nBayesian, Number:RUNNING 2\nBayesian, Number:SCHEDULED 4\n['FINISHED' 'RUNNING' 'SCHEDULED']\nBayesian, Number:FINISHED 16\nBayesian, Number:RUNNING 4\nBayesian, Number:SCHEDULED 1\n['FINISHED' 'RUNNING' 'SCHEDULED']\nBayesian, Number:FINISHED 19\nBayesian, Number:RUNNING 1\nBayesian, Number:SCHEDULED 1\n['FINISHED' 'RUNNING' 'SCHEDULED']\nBayesian, Number:FINISHED 20\nBayesian, Number:RUNNING 4\nBayesian, Number:SCHEDULED 1\n['FINISHED' 'RUNNING']\nBayesian, Number:FINISHED 22\nBayesian, Number:RUNNING 3\n['FINISHED' 'RUNNING' 'SCHEDULED']\nBayesian, Number:FINISHED 24\nBayesian, Number:RUNNING 1\nBayesian, Number:SCHEDULED 5\n['FINISHED' 'RUNNING' 'SCHEDULED']\nBayesian, Number:FINISHED 25\nBayesian, Number:RUNNING 4\nBayesian, Number:SCHEDULED 2\n['FINISHED' 'RUNNING']\nBayesian, Number:FINISHED 29\nBayesian, Number:RUNNING 2\n['FINISHED' 'RUNNING' 'SCHEDULED']\nBayesian, Number:FINISHED 31\nBayesian, Number:RUNNING 2\nBayesian, Number:SCHEDULED 2\n['FINISHED' 'RUNNING']\nBayesian, Number:FINISHED 33\nBayesian, Number:RUNNING 2\n['FINISHED' 'RUNNING' 'SCHEDULED']\nBayesian, Number:FINISHED 35\nBayesian, Number:RUNNING 4\nBayesian, Number:SCHEDULED 2\n['FINISHED' 'RUNNING' 'SCHEDULED']\nBayesian, Number:FINISHED 37\nBayesian, Number:RUNNING 2\nBayesian, Number:SCHEDULED 2\n['FINISHED' 'RUNNING' 'SCHEDULED']\nBayesian, Number:FINISHED 39\nBayesian, Number:RUNNING 2\nBayesian, Number:SCHEDULED 4\n['FINISHED' 'RUNNING']\nBayesian, Number:FINISHED 41\nBayesian, Number:RUNNING 4\n['FINISHED' 'RUNNING']\nBayesian, Number:FINISHED 43\nBayesian, Number:RUNNING 2\n['FINISHED' 'RUNNING']\nBayesian, Number:FINISHED 45\nBayesian, Number:RUNNING 4\n['FINISHED' 'RUNNING']\nBayesian, Number:FINISHED 47\nBayesian, Number:RUNNING 2\n['FINISHED' 'RUNNING' 'SCHEDULED']\nBayesian, Number:FINISHED 49\nBayesian, Number:RUNNING 4\nBayesian, Number:SCHEDULED 2\n['FINISHED' 'RUNNING']\nBayesian, Number:FINISHED 53\nBayesian, Number:RUNNING 2\n['FINISHED' 'RUNNING' 'SCHEDULED']\nBayesian, Number:FINISHED 53\nBayesian, Number:RUNNING 4\nBayesian, Number:SCHEDULED 2\n['FINISHED' 'RUNNING' 'SCHEDULED']\nBayesian, Number:FINISHED 57\nBayesian, Number:RUNNING 2\nBayesian, Number:SCHEDULED 1\n['FINISHED' 'RUNNING']\nBayesian, Number:FINISHED 59\nBayesian, Number:RUNNING 1\n['FINISHED']\nBayesian, Number:FINISHED 60\nSweep Job for run:lime_foot_b7w1q0yrt6 Complete\n"
        }
      ],
      "execution_count": 87,
      "metadata": {}
    },
    {
      "cell_type": "code",
      "source": [
        "def get_job_run_results(experiment_id, runid):\n",
        "    df = mlflow.search_runs([experiment_id])\n",
        "    rslt_df = df[(df['tags.mlflow.parentRunId'] == runid )]\n",
        "    rslt_df_finished = rslt_df[rslt_df['status'] == 'FINISHED']\n",
        "\n",
        "    while rslt_df.shape[0] == 0:\n",
        "        print('waiting for jobs to register')\n",
        "        df = mlflow.search_runs([experiment_id])\n",
        "        rslt_df = df[(df['tags.mlflow.parentRunId'] == runid )]\n",
        "        rslt_df_finished = rslt_df[rslt_df['status'] == 'FINISHED']\n",
        "        time.sleep(5)\n",
        "\n",
        "    while rslt_df_finished.shape[0] != rslt_df.shape[0]:\n",
        "        df = mlflow.search_runs([experiment_id])\n",
        "        rslt_df = df[(df['tags.mlflow.parentRunId'] == runid )]\n",
        "        rslt_df_finished = rslt_df[rslt_df['status'] == 'FINISHED']\n",
        "        status = rslt_df[\"status\"].unique()\n",
        "        print(status)\n",
        "        for x in status:\n",
        "            rslt_df_status = rslt_df[rslt_df['status'] == x]\n",
        "            print(returned_sweep_job.display_name + ', Number:' + str(x) + \" \" +  str(rslt_df_status.shape[0]))\n",
        "        time.sleep(5)\n",
        "\n",
        "    rslt_df_status = rslt_df[rslt_df['status'] == 'FINISHED']\n",
        "    return rslt_df_status\n",
        "\n",
        "df = get_job_run_results(experiment_id, runid) \n",
        "df"
      ],
      "outputs": [],
      "execution_count": null,
      "metadata": {}
    },
    {
      "cell_type": "code",
      "source": [
        "df = df.sort_values(by='metrics.test_AUC', ascending=False)"
      ],
      "outputs": [],
      "execution_count": null,
      "metadata": {}
    },
    {
      "cell_type": "code",
      "source": [
        "best_run_id = df.iat[0, 0]"
      ],
      "outputs": [],
      "execution_count": null,
      "metadata": {}
    },
    {
      "cell_type": "code",
      "source": [
        "pipeline_model = mlflow.sklearn.load_model(f\"runs:/{best_run_id}/model\")"
      ],
      "outputs": [],
      "execution_count": null,
      "metadata": {}
    },
    {
      "cell_type": "code",
      "source": [
        "script_folder = os.path.join(os.getcwd(), \"titanic_prepped_mltable\")\n",
        "print(script_folder)\n",
        "tbl = mltable.load(uri=script_folder)\n",
        "df  = tbl.to_pandas_dataframe()\n",
        "columns_to_keep =  ['Embarked', 'Loc', 'Sex','Pclass', 'Age', 'Fare', 'GroupSize']\n",
        "X_raw           = df[columns_to_keep]\n"
      ],
      "outputs": [],
      "execution_count": null,
      "metadata": {}
    },
    {
      "cell_type": "code",
      "source": [
        "results = pipeline_model.predict(X_raw)\n",
        "print(results)"
      ],
      "outputs": [],
      "execution_count": null,
      "metadata": {}
    },
    {
      "cell_type": "code",
      "source": [],
      "outputs": [],
      "execution_count": null,
      "metadata": {}
    },
    {
      "cell_type": "code",
      "source": [],
      "outputs": [],
      "execution_count": null,
      "metadata": {
        "jupyter": {
          "outputs_hidden": false,
          "source_hidden": false
        },
        "nteract": {
          "transient": {
            "deleting": false
          }
        }
      }
    }
  ],
  "metadata": {
    "kernel_info": {
      "name": "python38-azureml"
    },
    "kernelspec": {
      "name": "python38-azureml",
      "language": "python",
      "display_name": "Python 3.8 - AzureML"
    },
    "language_info": {
      "name": "python",
      "version": "3.8.5",
      "mimetype": "text/x-python",
      "codemirror_mode": {
        "name": "ipython",
        "version": 3
      },
      "pygments_lexer": "ipython3",
      "nbconvert_exporter": "python",
      "file_extension": ".py"
    },
    "nteract": {
      "version": "nteract-front-end@1.0.0"
    }
  },
  "nbformat": 4,
  "nbformat_minor": 0
}